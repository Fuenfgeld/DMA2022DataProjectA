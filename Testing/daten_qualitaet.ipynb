{
 "cells": [
  {
   "cell_type": "code",
   "execution_count": 67,
   "metadata": {},
   "outputs": [],
   "source": [
    "import sqlite3\n",
    "import pandas as pd\n",
    "import numpy as np\n",
    "import datetime"
   ]
  },
  {
   "cell_type": "code",
   "execution_count": 4,
   "metadata": {},
   "outputs": [
    {
     "name": "stdout",
     "output_type": "stream",
     "text": [
      "Opened database successfully\n"
     ]
    }
   ],
   "source": [
    "#connect to DB\n",
    "conn = sqlite3.connect('../datawarehouse.db')\n",
    "cursor = conn.cursor()\n",
    "print(\"Opened database successfully\");"
   ]
  },
  {
   "cell_type": "markdown",
   "metadata": {},
   "source": [
    "## Anzahl fehlender Werte ausgeben"
   ]
  },
  {
   "cell_type": "code",
   "execution_count": 35,
   "metadata": {},
   "outputs": [],
   "source": [
    "careplans_df = pd.read_sql_query(\"SELECT * FROM careplans\", conn)\n",
    "conditions_df = pd.read_sql_query(\"SELECT * FROM conditions\", conn)\n",
    "immunizations_df = pd.read_sql_query(\"SELECT * FROM immunizations\", conn)\n",
    "medications_df = pd.read_sql_query(\"SELECT * FROM medications\", conn)\n",
    "observations_df = pd.read_sql_query(\"SELECT * FROM observations\", conn)\n",
    "patients_df = pd.read_sql_query(\"SELECT * FROM patients\", conn)"
   ]
  },
  {
   "cell_type": "code",
   "execution_count": 40,
   "metadata": {},
   "outputs": [],
   "source": [
    "tupel_of_dataframes = ((careplans_df, \"careplans\"), (conditions_df, \"conditions\"), (immunizations_df, \"immunizations\"), (medications_df, \"medications\"), (observations_df, \"observations\"), (patients_df, \"patients\"))\n"
   ]
  },
  {
   "cell_type": "code",
   "execution_count": 42,
   "metadata": {},
   "outputs": [
    {
     "name": "stdout",
     "output_type": "stream",
     "text": [
      "------------------------------\n",
      "Table:  careplans\n",
      "Id                       0\n",
      "START                    0\n",
      "STOP                 17813\n",
      "PATIENT                  0\n",
      "ENCOUNTER                0\n",
      "CODE                     0\n",
      "DESCRIPTION              0\n",
      "REASONCODE            3111\n",
      "REASONDESCRIPTION     3111\n",
      "dtype: int64\n",
      "------------------------------\n",
      "Table:  conditions\n",
      "condition_code        0\n",
      "START                 0\n",
      "STOP              51448\n",
      "PATIENT               0\n",
      "ENCOUNTER             0\n",
      "CODE                  0\n",
      "DESCRIPTION           0\n",
      "dtype: int64\n",
      "------------------------------\n",
      "Table:  immunizations\n",
      "immunization_code    0\n",
      "DATE                 0\n",
      "PATIENT              0\n",
      "ENCOUNTER            0\n",
      "CODE                 0\n",
      "DESCRIPTION          0\n",
      "BASE_COST            0\n",
      "dtype: int64\n",
      "------------------------------\n",
      "Table:  medications\n",
      "START                    0\n",
      "STOP                  5008\n",
      "PATIENT                  0\n",
      "PAYER                    0\n",
      "ENCOUNTER                0\n",
      "CODE                     0\n",
      "DESCRIPTION              0\n",
      "BASE_COST                0\n",
      "PAYER_COVERAGE           0\n",
      "DISPENSES                0\n",
      "TOTALCOST                0\n",
      "REASONCODE           18724\n",
      "REASONDESCRIPTION    18724\n",
      "dtype: int64\n",
      "------------------------------\n",
      "Table:  observations\n",
      "observation_code        0\n",
      "DATE                    0\n",
      "PATIENT                 0\n",
      "ENCOUNTER            7860\n",
      "CODE                    0\n",
      "DESCRIPTION             0\n",
      "VALUE                   0\n",
      "UNITS               15325\n",
      "TYPE                    0\n",
      "dtype: int64\n",
      "------------------------------\n",
      "Table:  patients\n",
      "Id                         0\n",
      "BIRTHDATE                  0\n",
      "DEATHDATE              10000\n",
      "SSN                        0\n",
      "DRIVERS                 1953\n",
      "PASSPORT                2507\n",
      "PREFIX                  2242\n",
      "FIRST                      0\n",
      "LAST                       0\n",
      "SUFFIX                 12228\n",
      "MAIDEN                  8812\n",
      "MARITAL                 3519\n",
      "RACE                       0\n",
      "ETHNICITY                  0\n",
      "GENDER                     0\n",
      "BIRTHPLACE                 0\n",
      "ADDRESS                    0\n",
      "CITY                       0\n",
      "STATE                      0\n",
      "COUNTY                     0\n",
      "ZIP                     5652\n",
      "LAT                        0\n",
      "LON                        0\n",
      "HEALTHCARE_EXPENSES        0\n",
      "HEALTHCARE_COVERAGE        0\n",
      "dtype: int64\n"
     ]
    }
   ],
   "source": [
    "for ele in tupel_of_dataframes:\n",
    "    print(\"------------------------------\")\n",
    "    print(\"Table: \", ele[1])\n",
    "    print(ele[0].isnull().sum())\n"
   ]
  },
  {
   "cell_type": "markdown",
   "metadata": {},
   "source": [
    "## Anzahl Duplikate herausfinden"
   ]
  },
  {
   "cell_type": "code",
   "execution_count": 45,
   "metadata": {},
   "outputs": [
    {
     "name": "stdout",
     "output_type": "stream",
     "text": [
      "------------------------------\n",
      "Table:  careplans\n",
      "Empty DataFrame\n",
      "Columns: [Id, START, STOP, PATIENT, ENCOUNTER, CODE, DESCRIPTION, REASONCODE, REASONDESCRIPTION]\n",
      "Index: []\n",
      "------------------------------\n",
      "Table:  conditions\n",
      "Empty DataFrame\n",
      "Columns: [condition_code, START, STOP, PATIENT, ENCOUNTER, CODE, DESCRIPTION]\n",
      "Index: []\n",
      "------------------------------\n",
      "Table:  immunizations\n",
      "Empty DataFrame\n",
      "Columns: [immunization_code, DATE, PATIENT, ENCOUNTER, CODE, DESCRIPTION, BASE_COST]\n",
      "Index: []\n",
      "------------------------------\n",
      "Table:  medications\n",
      "Empty DataFrame\n",
      "Columns: [START, STOP, PATIENT, PAYER, ENCOUNTER, CODE, DESCRIPTION, BASE_COST, PAYER_COVERAGE, DISPENSES, TOTALCOST, REASONCODE, REASONDESCRIPTION]\n",
      "Index: []\n",
      "------------------------------\n",
      "Table:  observations\n",
      "Empty DataFrame\n",
      "Columns: [observation_code, DATE, PATIENT, ENCOUNTER, CODE, DESCRIPTION, VALUE, UNITS, TYPE]\n",
      "Index: []\n",
      "------------------------------\n",
      "Table:  patients\n",
      "Empty DataFrame\n",
      "Columns: [Id, BIRTHDATE, DEATHDATE, SSN, DRIVERS, PASSPORT, PREFIX, FIRST, LAST, SUFFIX, MAIDEN, MARITAL, RACE, ETHNICITY, GENDER, BIRTHPLACE, ADDRESS, CITY, STATE, COUNTY, ZIP, LAT, LON, HEALTHCARE_EXPENSES, HEALTHCARE_COVERAGE]\n",
      "Index: []\n",
      "\n",
      "[0 rows x 25 columns]\n"
     ]
    }
   ],
   "source": [
    "for ele in tupel_of_dataframes:\n",
    "    print(\"------------------------------\")\n",
    "    print(\"Table: \", ele[1])\n",
    "    print(ele[0][ele[0].duplicated()])"
   ]
  },
  {
   "cell_type": "markdown",
   "metadata": {},
   "source": [
    "## Ergeben unsere Daten Sinn?"
   ]
  },
  {
   "cell_type": "markdown",
   "metadata": {},
   "source": [
    "Überprüfen, ob Daten von vor 1900 oder aus der Zukunft vorhanden sind"
   ]
  },
  {
   "cell_type": "code",
   "execution_count": 110,
   "metadata": {},
   "outputs": [
    {
     "name": "stdout",
     "output_type": "stream",
     "text": [
      "------------------------------\n",
      "Table:  careplans\n",
      "START vor 1900:  0\n",
      "START in der Zukunft:  0\n",
      "STOP vor 1900:  0\n",
      "------------------------------\n",
      "Table:  conditions\n",
      "START vor 1900:  0\n",
      "START in der Zukunft:  0\n",
      "STOP vor 1900:  0\n",
      "------------------------------\n",
      "Table:  immunizations\n",
      "DATE vor 1900:  0\n",
      "DATE in der Zukunft:  0\n",
      "------------------------------\n",
      "Table:  medications\n",
      "START vor 1900:  0\n",
      "START in der Zukunft:  0\n",
      "STOP vor 1900:  0\n",
      "------------------------------\n",
      "Table:  observations\n",
      "DATE vor 1900:  0\n",
      "DATE in der Zukunft:  0\n",
      "------------------------------\n",
      "Table:  patients\n",
      "BIRTHDATE vor 1900:  0\n",
      "BIRTHDATE in der Zukunft:  0\n",
      "DEATHDATE vor 1900:  0\n",
      "DEATHDATE in der Zukunft:  0\n"
     ]
    }
   ],
   "source": [
    "today = datetime.date.today()\n",
    "for ele in tupel_of_dataframes: \n",
    "    print(\"------------------------------\")\n",
    "    print(\"Table: \", ele[1])    \n",
    "    \n",
    "    if 'START' in ele[0].columns:\n",
    "        ele[0][\"START\"] = pd.to_datetime(ele[0][\"START\"])\n",
    "        print(\"START vor 1900: \", (ele[0][\"START\"] < datetime.datetime(1900, 1, 1)).sum())\n",
    "        print(\"START in der Zukunft: \", (ele[0][\"START\"] > today.strftime(\"%Y-%m-%d\")).sum())\n",
    "\n",
    "    if 'STOP' in ele[0].columns:\n",
    "        ele[0]['STOP'] = pd.to_datetime(ele[0]['STOP'])\n",
    "        print(\"STOP vor 1900: \", (ele[0]['STOP'] < datetime.datetime(1900, 1, 1)).sum())\n",
    "        \n",
    "    if 'DATE' in ele[0].columns:\n",
    "        ele[0]['DATE'] = pd.to_datetime(ele[0]['DATE'])\n",
    "        print(\"DATE vor 1900: \", (ele[0]['DATE'] < datetime.datetime(1900, 1, 1)).sum())\n",
    "        print(\"DATE in der Zukunft: \", (ele[0][\"DATE\"] > today.strftime(\"%Y-%m-%d\")).sum())\n",
    "\n",
    "    if 'BIRTHDATE' and 'DEATHDATE' in ele[0].columns:\n",
    "        ele[0]['BIRTHDATE'] = pd.to_datetime(ele[0]['BIRTHDATE'])\n",
    "        ele[0]['DEATHDATE'] = pd.to_datetime(ele[0]['DEATHDATE'])\n",
    "        print(\"BIRTHDATE vor 1900: \", (ele[0]['BIRTHDATE'] < datetime.datetime(1900, 1, 1)).sum())\n",
    "        print(\"BIRTHDATE in der Zukunft: \", (ele[0][\"BIRTHDATE\"] > today.strftime(\"%Y-%m-%d\")).sum())\n",
    "        print(\"DEATHDATE vor 1900: \", (ele[0][\"DEATHDATE\"] < datetime.datetime(1900, 1, 1)).sum())\n",
    "        print(\"DEATHDATE in der Zukunft: \", (ele[0][\"DEATHDATE\"] > today.strftime(\"%Y-%m-%d\")).sum())\n"
   ]
  },
  {
   "cell_type": "code",
   "execution_count": 28,
   "metadata": {},
   "outputs": [
    {
     "data": {
      "text/plain": [
       "Id                       0\n",
       "START                    0\n",
       "STOP                 17813\n",
       "PATIENT                  0\n",
       "ENCOUNTER                0\n",
       "CODE                     0\n",
       "DESCRIPTION              0\n",
       "REASONCODE               0\n",
       "REASONDESCRIPTION        0\n",
       "dtype: int64"
      ]
     },
     "execution_count": 28,
     "metadata": {},
     "output_type": "execute_result"
    }
   ],
   "source": [
    "#würde datenquali verbessern\n",
    "# careplans_df[\"REASONCODE\"] = careplans_df[\"REASONCODE\"].replace(np.nan, 'N/A')\n",
    "# careplans_df[\"REASONDESCRIPTION\"] = careplans_df[\"REASONCODE\"].replace(np.nan, 'N/A')\n",
    "# careplans_df.isnull().sum()"
   ]
  }
 ],
 "metadata": {
  "kernelspec": {
   "display_name": "Python 3.8.9 ('venv')",
   "language": "python",
   "name": "python3"
  },
  "language_info": {
   "codemirror_mode": {
    "name": "ipython",
    "version": 3
   },
   "file_extension": ".py",
   "mimetype": "text/x-python",
   "name": "python",
   "nbconvert_exporter": "python",
   "pygments_lexer": "ipython3",
   "version": "3.8.9"
  },
  "orig_nbformat": 4,
  "vscode": {
   "interpreter": {
    "hash": "c64ab6fc84cf5ab2d160e3bdb6e01563d6d3a3e715bd4e213410aed41bd6871e"
   }
  }
 },
 "nbformat": 4,
 "nbformat_minor": 2
}
