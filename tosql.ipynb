{
 "cells": [
  {
   "cell_type": "code",
   "execution_count": 47,
   "metadata": {},
   "outputs": [],
   "source": [
    "import sqlite3\n",
    "import pandas as pd"
   ]
  },
  {
   "cell_type": "code",
   "execution_count": 48,
   "metadata": {},
   "outputs": [
    {
     "name": "stdout",
     "output_type": "stream",
     "text": [
      "Opened database successfully\n"
     ]
    }
   ],
   "source": [
    "#connect to DB\n",
    "conn = sqlite3.connect('sqlite_example.db')\n",
    "cursor = conn.cursor()\n",
    "print(\"Opened database successfully\");"
   ]
  },
  {
   "cell_type": "code",
   "execution_count": 49,
   "metadata": {},
   "outputs": [],
   "source": [
    "#load CSVs\n",
    "careplans = pd.read_csv('Daten/careplans.csv', sep=\",\")\n",
    "conditions = pd.read_csv('Daten/conditions.csv', sep=\",\")\n",
    "disease = pd.read_csv('Daten/disease.csv', sep=\",\")\n",
    "immunizations = pd.read_csv('Daten/immunizations.csv', sep=\",\")\n",
    "medications = pd.read_csv('Daten/medications.csv', sep=\",\")\n",
    "observations = pd.read_csv('Daten/observations.csv', sep=\",\")\n",
    "patients = pd.read_csv('Daten/patients.csv', sep=\",\")"
   ]
  },
  {
   "cell_type": "code",
   "execution_count": 50,
   "metadata": {},
   "outputs": [
    {
     "data": {
      "text/plain": [
       "<sqlite3.Cursor at 0x24f8ae595e0>"
      ]
     },
     "execution_count": 50,
     "metadata": {},
     "output_type": "execute_result"
    }
   ],
   "source": [
    "#Delete Tables in case they exist\n",
    "cursor.execute(\"DROP TABLE IF EXISTS careplans\")\n",
    "cursor.execute(\"DROP TABLE IF EXISTS conditions\")\n",
    "cursor.execute(\"DROP TABLE IF EXISTS disease\")\n",
    "cursor.execute(\"DROP TABLE IF EXISTS immunizations\")\n",
    "cursor.execute(\"DROP TABLE IF EXISTS medications\")\n",
    "cursor.execute(\"DROP TABLE IF EXISTS observations\")\n",
    "cursor.execute(\"DROP TABLE IF EXISTS patients\")\n",
    "cursor.execute(\"DROP TABLE IF EXISTS facts_table\")\n"
   ]
  },
  {
   "cell_type": "code",
   "execution_count": 51,
   "metadata": {},
   "outputs": [
    {
     "data": {
      "text/plain": [
       "<sqlite3.Cursor at 0x24f8ae595e0>"
      ]
     },
     "execution_count": 51,
     "metadata": {},
     "output_type": "execute_result"
    }
   ],
   "source": [
    "#Create Tables\n",
    "cursor.execute('''CREATE TABLE IF NOT EXISTS careplans (\n",
    "                           Id STRING PRIMARY KEY,\n",
    "                           START DATE,\n",
    "                           STOP DATE,\n",
    "                           PATIENT STRING,\n",
    "                           ENCOUNTER STRING,\n",
    "                           CODE STRING,\n",
    "                           DESCRIPTION STRING,\n",
    "                           REASONCODE STRING,\n",
    "                           REASONDESCRIPTION STRING,\n",
    "                           FOREIGN KEY (PATIENT)\n",
    "                              REFERENCES patients (Id) \n",
    "                           FOREIGN KEY (Encounter)\n",
    "                              REFERENCES encounters (Id) \n",
    "                       )\n",
    "                       ''')\n",
    "\n",
    "\n",
    "cursor.execute('''CREATE TABLE IF NOT EXISTS conditions (\n",
    "                           condition_code INTEGER PRIMARY KEY AUTOINCREMENT,\n",
    "                           START DATE,\n",
    "                           STOP DATE,\n",
    "                           PATIENT STRING,\n",
    "                           ENCOUNTER STRING,\n",
    "                           CODE STRING,\n",
    "                           DESCRIPTION STRING,\n",
    "                           FOREIGN KEY (PATIENT)\n",
    "                              REFERENCES patients (Id) \n",
    "                           FOREIGN KEY (Encounter)\n",
    "                              REFERENCES encounters (Id) \n",
    "                        )\n",
    "                       ''')\n",
    "\n",
    "\n",
    "# cursor.execute('''CREATE TABLE IF NOT EXISTS disease (\n",
    "#                            disease_code INTEGER PRIMARY KEY AUTOINCREMENT,\n",
    "#                            START DATE,\n",
    "#                            STOP DATE,\n",
    "#                            PATIENT STRING,\n",
    "#                            ENCOUNTER STRING,\n",
    "#                            CODE STRING,\n",
    "#                            DESCRIPTION STRING,\n",
    "#                            FOREIGN KEY (PATIENT)\n",
    "#                               REFERENCES patients (Id) \n",
    "#                            FOREIGN KEY (Encounter)\n",
    "#                               REFERENCES encounters (Id)\n",
    "#                        )\n",
    "#                        ''')\n",
    "\n",
    "\n",
    "cursor.execute('''CREATE TABLE IF NOT EXISTS observations (\n",
    "                           observation_code INTEGER PRIMARY KEY AUTOINCREMENT,\n",
    "                           DATE DATE,\n",
    "                           PATIENT STRING,\n",
    "                           ENCOUNTER STRING,\n",
    "                           CODE STRING,\n",
    "                           DESCRIPTION STRING,\n",
    "                           VALUE STRING,\n",
    "                           UNITS STRING,\n",
    "                           TYPE STRING,\n",
    "                           FOREIGN KEY (PATIENT)\n",
    "                              REFERENCES patients (Id) \n",
    "                           FOREIGN KEY (Encounter)\n",
    "                              REFERENCES encounters (Id) \n",
    "\n",
    "                       )\n",
    "                       ''')\n",
    "\n",
    "\n",
    "\n",
    "cursor.execute('''CREATE TABLE IF NOT EXISTS patients (\n",
    "                           Id STRING PRIMARY KEY,\n",
    "                           BIRTHDATE DATE,\n",
    "                           DEATHDATE DATE,\n",
    "                           SSN STRING,\n",
    "                           DRIVERS STRING,\n",
    "                           PASSPORT STRING,\n",
    "                           PREFIX STRING,\n",
    "                           FIRST STRING,\n",
    "                           LAST STRING,\n",
    "                           SUFFIX STRING,\n",
    "                           MAIDEN STRING,\n",
    "                           MARITAL STRING,\n",
    "                           RACE STRING,\n",
    "                           ETHNICITY STRING,\n",
    "                           GENDER STRING,\n",
    "                           BIRTHPLACE STRING,\n",
    "                           ADDRESS STRING,\n",
    "                           CITY STRING,\n",
    "                           STATE STRING,\n",
    "                           COUNTY STRING,\n",
    "                           ZIP STRING,\n",
    "                           LAT INTEGER,\n",
    "                           LON INTEGER,\n",
    "                           HEALTHCARE_EXPENSES INTEGER,\n",
    "                           HEALTHCARE_COVERAGE INTEGER\n",
    "                       )\n",
    "                       ''')\n",
    "\n",
    "cursor.execute('''CREATE TABLE IF NOT EXISTS immunizations(\n",
    "                           immunization_code INTEGER PRIMARY KEY AUTOINCREMENT,\n",
    "                           DATE DATE,\n",
    "                           PATIENT STRING,\n",
    "                           ENCOUNTER STRING,\n",
    "                           CODE STRING,\n",
    "                           DESCRIPTION STRING,\n",
    "                           BASE_COST INTEGER,\n",
    "                           FOREIGN KEY (PATIENT)\n",
    "                              REFERENCES patients (Id) \n",
    "                           FOREIGN KEY (Encounter)\n",
    "                              REFERENCES encounters (Id) \n",
    "\n",
    "                       )\n",
    "                       ''')\n",
    "\n",
    "\n",
    "\n",
    "\n"
   ]
  },
  {
   "cell_type": "code",
   "execution_count": 52,
   "metadata": {},
   "outputs": [
    {
     "name": "stdout",
     "output_type": "stream",
     "text": [
      "              name\n",
      "0  sqlite_sequence\n",
      "1        careplans\n",
      "2       conditions\n",
      "3     observations\n",
      "4         patients\n",
      "5    immunizations\n"
     ]
    }
   ],
   "source": [
    "print(pd.read_sql_query(\"SELECT name FROM sqlite_master WHERE type='table';\", conn))"
   ]
  },
  {
   "cell_type": "code",
   "execution_count": 53,
   "metadata": {},
   "outputs": [
    {
     "name": "stdout",
     "output_type": "stream",
     "text": [
      "   cid               name    type  notnull dflt_value  pk\n",
      "0    0                 Id  STRING        0       None   1\n",
      "1    1              START    DATE        0       None   0\n",
      "2    2               STOP    DATE        0       None   0\n",
      "3    3            PATIENT  STRING        0       None   0\n",
      "4    4          ENCOUNTER  STRING        0       None   0\n",
      "5    5               CODE  STRING        0       None   0\n",
      "6    6        DESCRIPTION  STRING        0       None   0\n",
      "7    7         REASONCODE  STRING        0       None   0\n",
      "8    8  REASONDESCRIPTION  STRING        0       None   0\n"
     ]
    }
   ],
   "source": [
    "print(pd.read_sql_query(\"PRAGMA table_info('careplans')\", conn))"
   ]
  },
  {
   "cell_type": "code",
   "execution_count": 54,
   "metadata": {},
   "outputs": [
    {
     "data": {
      "text/plain": [
       "1050"
      ]
     },
     "execution_count": 54,
     "metadata": {},
     "output_type": "execute_result"
    }
   ],
   "source": [
    "#Insert into table\n",
    "careplans.to_sql('careplans', conn, if_exists='append', index=False)\n",
    "conditions.to_sql('conditions', conn, if_exists='append', index=False)\n",
    "#disease.to_sql('disease', conn, if_exists='append', index=False)\n",
    "immunizations.to_sql('immunizations', conn, if_exists='append', index=False)\n",
    "medications.to_sql('medications', conn, if_exists='append', index=False)\n",
    "observations.to_sql('observations', conn, if_exists='append', index=False)\n",
    "patients.to_sql('patients', conn, if_exists='append', index=False)\n"
   ]
  },
  {
   "cell_type": "code",
   "execution_count": 55,
   "metadata": {},
   "outputs": [
    {
     "name": "stdout",
     "output_type": "stream",
     "text": [
      "                                        Id       START        STOP  \\\n",
      "0     bbd91bf4-ca41-8fcf-fe03-562677e1cd09  2020-03-16  2020-03-16   \n",
      "1     8fbb54fb-fdcd-6c3c-c38b-993c36a0271d  2020-03-16  2020-04-03   \n",
      "2     3258da38-50e6-b40e-889c-dc95d2323c2f  2020-02-17  2020-03-02   \n",
      "3     ebc94d26-a633-69e8-da33-a42b8e03fbbe  2020-02-24  2020-02-24   \n",
      "4     1f282245-ffef-b0c6-1002-fdef343e45d8  2020-02-24  2020-03-11   \n",
      "...                                    ...         ...         ...   \n",
      "1638  b1d4bc75-5201-f101-4dab-9bc89dab80b8  2020-03-06  2020-03-07   \n",
      "1639  b52bc20e-da2a-85b6-599e-15263ae8a85d  2020-03-07  2020-04-08   \n",
      "1640  8a1226b8-0441-2d08-58f9-a4789c63a2fd  2020-03-10  2020-03-10   \n",
      "1641  20fc258b-f765-47f2-fa93-077bc038ec20  2020-03-10  2020-04-07   \n",
      "1642  47fbbc28-64f5-5712-81e7-0597da8cf8ba  2020-03-17  2020-03-17   \n",
      "\n",
      "                                   PATIENT  \\\n",
      "0     52a250a9-24e4-ec9b-91d6-c38cf1b10fc0   \n",
      "1     52a250a9-24e4-ec9b-91d6-c38cf1b10fc0   \n",
      "2     ad5525c0-fdab-94dc-018f-d7209c72bdef   \n",
      "3     7f30313f-98e9-2cc2-68a5-6f9973f9ad5a   \n",
      "4     7f30313f-98e9-2cc2-68a5-6f9973f9ad5a   \n",
      "...                                    ...   \n",
      "1638  edab2899-dac4-a19d-59e2-a9bea7b95cab   \n",
      "1639  edab2899-dac4-a19d-59e2-a9bea7b95cab   \n",
      "1640  4c523ab1-3255-911a-7eef-3bc3e48b7b05   \n",
      "1641  4c523ab1-3255-911a-7eef-3bc3e48b7b05   \n",
      "1642  8d49cb05-b1c3-b8fe-dc75-e43ad861f074   \n",
      "\n",
      "                                 ENCOUNTER       CODE  \\\n",
      "0     e6242b21-5765-8fb9-d596-07dc2b93bd0d  736376001   \n",
      "1     e6242b21-5765-8fb9-d596-07dc2b93bd0d  736376001   \n",
      "2     1d453a83-17f7-490d-5576-09f5725cdcaa  736376001   \n",
      "3     ccb50c60-5c51-3d03-3aeb-824325cfac91  736376001   \n",
      "4     ccb50c60-5c51-3d03-3aeb-824325cfac91  736376001   \n",
      "...                                    ...        ...   \n",
      "1638  9380e944-41bd-53bf-a0c4-27cc7c08291b  736376001   \n",
      "1639  9380e944-41bd-53bf-a0c4-27cc7c08291b  736376001   \n",
      "1640  e1281c05-e0e4-6389-abb6-b672b6b38784  736376001   \n",
      "1641  e1281c05-e0e4-6389-abb6-b672b6b38784  736376001   \n",
      "1642  cd60d8e9-fac4-53d1-4241-cd277a2f03c3  736376001   \n",
      "\n",
      "                                         DESCRIPTION  REASONCODE  \\\n",
      "0     Infectious disease care plan (record artifact)   840544004   \n",
      "1     Infectious disease care plan (record artifact)   840539006   \n",
      "2     Infectious disease care plan (record artifact)   840544004   \n",
      "3     Infectious disease care plan (record artifact)   840544004   \n",
      "4     Infectious disease care plan (record artifact)   840539006   \n",
      "...                                              ...         ...   \n",
      "1638  Infectious disease care plan (record artifact)   840544004   \n",
      "1639  Infectious disease care plan (record artifact)   840539006   \n",
      "1640  Infectious disease care plan (record artifact)   840544004   \n",
      "1641  Infectious disease care plan (record artifact)   840539006   \n",
      "1642  Infectious disease care plan (record artifact)   840544004   \n",
      "\n",
      "       REASONDESCRIPTION  \n",
      "0     Suspected COVID-19  \n",
      "1               COVID-19  \n",
      "2     Suspected COVID-19  \n",
      "3     Suspected COVID-19  \n",
      "4               COVID-19  \n",
      "...                  ...  \n",
      "1638  Suspected COVID-19  \n",
      "1639            COVID-19  \n",
      "1640  Suspected COVID-19  \n",
      "1641            COVID-19  \n",
      "1642  Suspected COVID-19  \n",
      "\n",
      "[1643 rows x 9 columns]\n"
     ]
    }
   ],
   "source": [
    "print(pd.read_sql_query(\"SELECT * FROM careplans\", conn))"
   ]
  },
  {
   "cell_type": "code",
   "execution_count": 56,
   "metadata": {},
   "outputs": [
    {
     "name": "stdout",
     "output_type": "stream",
     "text": [
      "      condition_code       START        STOP  \\\n",
      "0                  1  2020-02-17  2020-02-27   \n",
      "1                  2  2020-02-24  2020-03-11   \n",
      "2                  3  2020-02-17  2020-02-27   \n",
      "3                  4  2020-02-17  2020-02-27   \n",
      "4                  5  2020-02-17  2020-02-17   \n",
      "...              ...         ...         ...   \n",
      "6370            6371  2020-03-25        None   \n",
      "6371            6372  2020-03-25        None   \n",
      "6372            6373  2020-03-25        None   \n",
      "6373            6374  1991-09-20        None   \n",
      "6374            6375  2016-11-18        None   \n",
      "\n",
      "                                   PATIENT  \\\n",
      "0     ad5525c0-fdab-94dc-018f-d7209c72bdef   \n",
      "1     7f30313f-98e9-2cc2-68a5-6f9973f9ad5a   \n",
      "2     ad5525c0-fdab-94dc-018f-d7209c72bdef   \n",
      "3     ad5525c0-fdab-94dc-018f-d7209c72bdef   \n",
      "4     ad5525c0-fdab-94dc-018f-d7209c72bdef   \n",
      "...                                    ...   \n",
      "6370  8d49cb05-b1c3-b8fe-dc75-e43ad861f074   \n",
      "6371  8d49cb05-b1c3-b8fe-dc75-e43ad861f074   \n",
      "6372  8d49cb05-b1c3-b8fe-dc75-e43ad861f074   \n",
      "6373  fce5ed5c-e218-4839-a0c5-6ef906e5ae73   \n",
      "6374  fce5ed5c-e218-4839-a0c5-6ef906e5ae73   \n",
      "\n",
      "                                 ENCOUNTER       CODE  \\\n",
      "0     1d453a83-17f7-490d-5576-09f5725cdcaa   49727002   \n",
      "1     ccb50c60-5c51-3d03-3aeb-824325cfac91   49727002   \n",
      "2     1d453a83-17f7-490d-5576-09f5725cdcaa  386661006   \n",
      "3     1d453a83-17f7-490d-5576-09f5725cdcaa   36955009   \n",
      "4     1d453a83-17f7-490d-5576-09f5725cdcaa  840544004   \n",
      "...                                    ...        ...   \n",
      "6370  d9a1e5b3-0023-3f46-c694-7c91871b3c3d   86175003   \n",
      "6371  d9a1e5b3-0023-3f46-c694-7c91871b3c3d   84114007   \n",
      "6372  d9a1e5b3-0023-3f46-c694-7c91871b3c3d   67782005   \n",
      "6373  7afafba9-d516-51e7-78e4-51b99534bf1c  230690007   \n",
      "6374  9697db80-f51c-e97e-dbbe-9bb3ddc97c9a   49436004   \n",
      "\n",
      "                                         DESCRIPTION  \n",
      "0                                    Cough (finding)  \n",
      "1                                    Cough (finding)  \n",
      "2                                    Fever (finding)  \n",
      "3                            Loss of taste (finding)  \n",
      "4                                 Suspected COVID-19  \n",
      "...                                              ...  \n",
      "6370                      Injury of heart (disorder)  \n",
      "6371                        Heart failure (disorder)  \n",
      "6372  Acute respiratory distress syndrome (disorder)  \n",
      "6373                                          Stroke  \n",
      "6374                             Atrial Fibrillation  \n",
      "\n",
      "[6375 rows x 7 columns]\n"
     ]
    }
   ],
   "source": [
    "print(pd.read_sql_query(\"SELECT * FROM conditions\", conn))"
   ]
  },
  {
   "cell_type": "markdown",
   "metadata": {},
   "source": [
    "### Datenverarbeitungs Schema (Sternschema)\n"
   ]
  },
  {
   "cell_type": "markdown",
   "metadata": {},
   "source": [
    "Der Grund für die Verwendung eines Sternschemas liegt darin, die Anzahl der Join-Bedingungnen für die Auswertung der einzelnen Tabellen zu reduzieren. bei dem Sternschema wird eine Zentrale Datenbank erzeugt, welche die relevanten Daten enthält. Um den Kern des Sternschemas werden weitere Dimensions Tabellen angeordnet. Wichtig dabei kann es zu duplizierungen der Daten in kommen!"
   ]
  },
  {
   "cell_type": "markdown",
   "metadata": {},
   "source": [
    "## Create Facts table"
   ]
  },
  {
   "cell_type": "code",
   "execution_count": 57,
   "metadata": {},
   "outputs": [
    {
     "data": {
      "text/plain": [
       "<sqlite3.Cursor at 0x24f8ae595e0>"
      ]
     },
     "execution_count": 57,
     "metadata": {},
     "output_type": "execute_result"
    }
   ],
   "source": [
    "cursor.execute('''CREATE TABLE IF NOT EXISTS facts_table (\n",
    "                          patient_ID STRING,\n",
    "                          careplan_ID INT,\n",
    "                          condition_id INT,\n",
    "                          immunization_code INT,\n",
    "                          VALUE STRING,\n",
    "                          START_DATE DATE,\n",
    "                          STOP_DATE DATE,\n",
    "                          observation_code INT, \n",
    "                          FOREIGN KEY (patient_ID)\n",
    "                            REFERENCES patients (Id) \n",
    "                          FOREIGN KEY (careplan_ID)\n",
    "                            REFERENCES careplans (Id) \n",
    "                          FOREIGN KEY (condition_id)\n",
    "                            REFERENCES conditions (condition_code)\n",
    "                          FOREIGN KEY (immunization_code)\n",
    "                            REFERENCES immunizations (immunization_code) \n",
    "                          FOREIGN KEY (observation_code)\n",
    "                            REFERENCES observations (observation_code)                             \n",
    "\n",
    "                       )\n",
    "                       ''')"
   ]
  },
  {
   "cell_type": "code",
   "execution_count": 58,
   "metadata": {},
   "outputs": [
    {
     "name": "stdout",
     "output_type": "stream",
     "text": [
      "   cid               name    type  notnull dflt_value  pk\n",
      "0    0         patient_ID  STRING        0       None   0\n",
      "1    1        careplan_ID     INT        0       None   0\n",
      "2    2       condition_id     INT        0       None   0\n",
      "3    3  immunization_code     INT        0       None   0\n",
      "4    4              VALUE  STRING        0       None   0\n",
      "5    5         START_DATE    DATE        0       None   0\n",
      "6    6          STOP_DATE    DATE        0       None   0\n",
      "7    7   observation_code     INT        0       None   0\n"
     ]
    }
   ],
   "source": [
    "print(pd.read_sql_query(\"PRAGMA table_info('facts_table')\", conn))"
   ]
  },
  {
   "cell_type": "markdown",
   "metadata": {},
   "source": [
    "### Transfer Data to new Table"
   ]
  },
  {
   "cell_type": "code",
   "execution_count": 59,
   "metadata": {},
   "outputs": [
    {
     "data": {
      "text/plain": [
       "<sqlite3.Cursor at 0x24f8ae595e0>"
      ]
     },
     "execution_count": 59,
     "metadata": {},
     "output_type": "execute_result"
    }
   ],
   "source": [
    "cursor.execute('''INSERT INTO facts_table        \n",
    "                    (patient_ID, careplan_ID, VALUE, START_DATE, STOP_DATE) \n",
    "                    SELECT PATIENT, Id, CODE, START, STOP\n",
    "                    FROM careplans\n",
    "                    ;''')\n",
    "\n",
    "\n",
    "\n",
    "cursor.execute('''INSERT INTO facts_table        \n",
    "                    (patient_ID, observation_code, VALUE, START_DATE) \n",
    "                    SELECT PATIENT, CODE, VALUE, DATE \n",
    "                    FROM OBSERVATIONS\n",
    "                    ;''')\n",
    "\n",
    "\n",
    "cursor.execute('''INSERT INTO facts_table        \n",
    "                    (patient_ID, condition_Id, VALUE, START_DATE, STOP_DATE) \n",
    "                    SELECT PATIENT, condition_code, CODE, START, STOP\n",
    "                    FROM conditions\n",
    "                    ;''')\n",
    "\n",
    "cursor.execute('''INSERT INTO facts_table        \n",
    "                    (patient_ID, immunization_code, VALUE, START_DATE) \n",
    "                    SELECT PATIENT, immunization_code, CODE, DATE\n",
    "                    FROM immunizations\n",
    "                    ;''')\n",
    "\n"
   ]
  },
  {
   "cell_type": "code",
   "execution_count": 60,
   "metadata": {},
   "outputs": [
    {
     "name": "stdout",
     "output_type": "stream",
     "text": [
      "                                  patient_ID  \\\n",
      "0       52a250a9-24e4-ec9b-91d6-c38cf1b10fc0   \n",
      "1       52a250a9-24e4-ec9b-91d6-c38cf1b10fc0   \n",
      "2       ad5525c0-fdab-94dc-018f-d7209c72bdef   \n",
      "3       7f30313f-98e9-2cc2-68a5-6f9973f9ad5a   \n",
      "4       7f30313f-98e9-2cc2-68a5-6f9973f9ad5a   \n",
      "...                                      ...   \n",
      "141075  fce5ed5c-e218-4839-a0c5-6ef906e5ae73   \n",
      "141076  fce5ed5c-e218-4839-a0c5-6ef906e5ae73   \n",
      "141077  fce5ed5c-e218-4839-a0c5-6ef906e5ae73   \n",
      "141078  fce5ed5c-e218-4839-a0c5-6ef906e5ae73   \n",
      "141079  fce5ed5c-e218-4839-a0c5-6ef906e5ae73   \n",
      "\n",
      "                                 careplan_ID  condition_id  immunization_code  \\\n",
      "0       bbd91bf4-ca41-8fcf-fe03-562677e1cd09           NaN                NaN   \n",
      "1       8fbb54fb-fdcd-6c3c-c38b-993c36a0271d           NaN                NaN   \n",
      "2       3258da38-50e6-b40e-889c-dc95d2323c2f           NaN                NaN   \n",
      "3       ebc94d26-a633-69e8-da33-a42b8e03fbbe           NaN                NaN   \n",
      "4       1f282245-ffef-b0c6-1002-fdef343e45d8           NaN                NaN   \n",
      "...                                      ...           ...                ...   \n",
      "141075                                  None           NaN            13121.0   \n",
      "141076                                  None           NaN            13122.0   \n",
      "141077                                  None           NaN            13123.0   \n",
      "141078                                  None           NaN            13124.0   \n",
      "141079                                  None           NaN            13125.0   \n",
      "\n",
      "            VALUE            START_DATE   STOP_DATE observation_code  \n",
      "0       736376001            2020-03-16  2020-03-16             None  \n",
      "1       736376001            2020-03-16  2020-04-03             None  \n",
      "2       736376001            2020-02-17  2020-03-02             None  \n",
      "3       736376001            2020-02-24  2020-02-24             None  \n",
      "4       736376001            2020-02-24  2020-03-11             None  \n",
      "...           ...                   ...         ...              ...  \n",
      "141075        140  2015-11-13T06:00:19Z        None             None  \n",
      "141076        140  2016-11-18T06:00:19Z        None             None  \n",
      "141077        140  2017-11-24T06:00:19Z        None             None  \n",
      "141078        140  2018-11-30T06:00:19Z        None             None  \n",
      "141079        140  2019-12-06T06:00:19Z        None             None  \n",
      "\n",
      "[141080 rows x 8 columns]\n"
     ]
    }
   ],
   "source": [
    "print(pd.read_sql_query(\"SELECT * FROM facts_table\", conn))"
   ]
  },
  {
   "cell_type": "code",
   "execution_count": 61,
   "metadata": {},
   "outputs": [
    {
     "name": "stdout",
     "output_type": "stream",
     "text": [
      "                             patient_ID careplan_ID condition_id  \\\n",
      "0  2f114e21-8b95-e9eb-2e9e-4b950b059cfa        None         None   \n",
      "\n",
      "   immunization_code  VALUE            START_DATE STOP_DATE observation_code  \n",
      "0                  3    140  2011-05-08T11:01:53Z      None             None  \n"
     ]
    }
   ],
   "source": [
    "print(pd.read_sql_query(\"SELECT * FROM facts_table WHERE immunization_code == 3\", conn))"
   ]
  },
  {
   "cell_type": "markdown",
   "metadata": {},
   "source": [
    "## Analyse"
   ]
  },
  {
   "cell_type": "code",
   "execution_count": 62,
   "metadata": {},
   "outputs": [
    {
     "name": "stdout",
     "output_type": "stream",
     "text": [
      "                                   PATIENT\n",
      "0     7f30313f-98e9-2cc2-68a5-6f9973f9ad5a\n",
      "1     2f114e21-8b95-e9eb-2e9e-4b950b059cfa\n",
      "2     f7dddcba-380e-7fd4-20b0-da086ce5dc3a\n",
      "3     ad5525c0-fdab-94dc-018f-d7209c72bdef\n",
      "4     2812f4fc-6aba-0033-728b-7e569bb8adcc\n",
      "...                                    ...\n",
      "1045  edab2899-dac4-a19d-59e2-a9bea7b95cab\n",
      "1046  d1065043-2a5f-2d0e-1dd0-cb7f31e6d340\n",
      "1047  4c523ab1-3255-911a-7eef-3bc3e48b7b05\n",
      "1048  8d49cb05-b1c3-b8fe-dc75-e43ad861f074\n",
      "1049  fce5ed5c-e218-4839-a0c5-6ef906e5ae73\n",
      "\n",
      "[1050 rows x 1 columns]\n"
     ]
    }
   ],
   "source": [
    "print(pd.read_sql_query(\"SELECT DISTINCT PATIENT FROM immunizations WHERE Code==140\", conn))"
   ]
  },
  {
   "cell_type": "markdown",
   "metadata": {},
   "source": [
    "### Influenza Impfung wird mit Code 140 beschrieben"
   ]
  },
  {
   "cell_type": "code",
   "execution_count": 63,
   "metadata": {},
   "outputs": [
    {
     "name": "stdout",
     "output_type": "stream",
     "text": [
      "                                patient_ID  VALUE\n",
      "0     7f30313f-98e9-2cc2-68a5-6f9973f9ad5a    140\n",
      "1     2f114e21-8b95-e9eb-2e9e-4b950b059cfa    140\n",
      "2     f7dddcba-380e-7fd4-20b0-da086ce5dc3a    140\n",
      "3     ad5525c0-fdab-94dc-018f-d7209c72bdef    140\n",
      "4     2812f4fc-6aba-0033-728b-7e569bb8adcc    140\n",
      "...                                    ...    ...\n",
      "1045  edab2899-dac4-a19d-59e2-a9bea7b95cab    140\n",
      "1046  d1065043-2a5f-2d0e-1dd0-cb7f31e6d340    140\n",
      "1047  4c523ab1-3255-911a-7eef-3bc3e48b7b05    140\n",
      "1048  8d49cb05-b1c3-b8fe-dc75-e43ad861f074    140\n",
      "1049  fce5ed5c-e218-4839-a0c5-6ef906e5ae73    140\n",
      "\n",
      "[1050 rows x 2 columns]\n"
     ]
    }
   ],
   "source": [
    "print(pd.read_sql_query(\"SELECT DISTINCT patient_ID, VALUE FROM facts_table WHERE immunization_code is NOT NULL AND VALUE==140\", conn))"
   ]
  },
  {
   "cell_type": "code",
   "execution_count": 64,
   "metadata": {},
   "outputs": [
    {
     "name": "stdout",
     "output_type": "stream",
     "text": [
      "                              patient_ID     VALUE\n",
      "0   20604c29-ee90-6073-13f4-df3678392fc7  COVID-19\n",
      "1   bec7fd7c-d645-1450-f851-e21e07c2a442  COVID-19\n",
      "2   6a59c578-ebb4-e0bb-0b82-d5c57d5e9f2a  COVID-19\n",
      "3   d4ec20ef-1ed3-9d97-36c5-1216c4037f05  COVID-19\n",
      "4   adcc96d4-285a-e833-f968-13a940c78098  COVID-19\n",
      "5   cbcf9807-abfa-0ae8-7f3d-ac05fb0e61f5  COVID-19\n",
      "6   92df158a-bcb4-01af-1529-adf33db69253  COVID-19\n",
      "7   b228751b-8384-9070-a49c-faa67070f494  COVID-19\n",
      "8   63576001-7584-d85a-e056-475fe720a291  COVID-19\n",
      "9   69ba11d9-8061-f328-0733-ab332742c586  COVID-19\n",
      "10  68a2bbc6-3f56-081e-3fd5-cbd13248ed31  COVID-19\n",
      "11  b56193a1-5bfb-bb37-0886-9a02d10edd41  COVID-19\n",
      "12  cc43826f-49e1-1144-76d4-464f992c9dd0  COVID-19\n",
      "13  8a84c9b4-0ee2-8cd0-a78b-ed8e8d654467  COVID-19\n",
      "14  de5013bd-4eb1-8e08-e863-c0ee3a03d6ca  COVID-19\n",
      "15  15905260-4510-3a9a-53b3-88a440c2128d  COVID-19\n",
      "16  26d353df-e9af-35b0-b694-af604d610bd9  COVID-19\n",
      "17  212b3d3b-eb3c-cb51-b0fe-08554b71ac2a  COVID-19\n",
      "18  12f8384e-d49a-1343-2e3a-dc547629d770  COVID-19\n",
      "19  ac1c63de-5c72-a482-4d1a-3cea500dba3f  COVID-19\n",
      "20  3845c8f4-39c6-eeec-75e6-2780169f0aa3  COVID-19\n",
      "21  27d46fed-1591-5a1f-b92c-667e495e6b1c  COVID-19\n",
      "22  6008a677-9edd-5ffc-699f-c32a109ffabd  COVID-19\n",
      "23  8d49cb05-b1c3-b8fe-dc75-e43ad861f074  COVID-19\n"
     ]
    }
   ],
   "source": [
    "print(pd.read_sql_query(\"SELECT DISTINCT patient_ID, VALUE FROM facts_table WHERE observation_code is NOT NULL AND VALUE=='COVID-19'\", conn))"
   ]
  },
  {
   "cell_type": "code",
   "execution_count": 65,
   "metadata": {},
   "outputs": [
    {
     "name": "stdout",
     "output_type": "stream",
     "text": [
      "                                patient_ID      VALUE\n",
      "0     ad5525c0-fdab-94dc-018f-d7209c72bdef  840544004\n",
      "1     ad5525c0-fdab-94dc-018f-d7209c72bdef  840539006\n",
      "2     7f30313f-98e9-2cc2-68a5-6f9973f9ad5a  840544004\n",
      "3     7f30313f-98e9-2cc2-68a5-6f9973f9ad5a  840539006\n",
      "4     2812f4fc-6aba-0033-728b-7e569bb8adcc  840544004\n",
      "...                                    ...        ...\n",
      "1765  edab2899-dac4-a19d-59e2-a9bea7b95cab  840539006\n",
      "1766  4c523ab1-3255-911a-7eef-3bc3e48b7b05  840544004\n",
      "1767  4c523ab1-3255-911a-7eef-3bc3e48b7b05  840539006\n",
      "1768  8d49cb05-b1c3-b8fe-dc75-e43ad861f074  840544004\n",
      "1769  8d49cb05-b1c3-b8fe-dc75-e43ad861f074  840539006\n",
      "\n",
      "[1770 rows x 2 columns]\n"
     ]
    }
   ],
   "source": [
    "print(pd.read_sql_query(\"SELECT DISTINCT patient_ID, VALUE FROM facts_table WHERE condition_Id is NOT NULL AND (VALUE==840539006 OR VALUE==840544004)\", conn))\n"
   ]
  },
  {
   "cell_type": "code",
   "execution_count": 66,
   "metadata": {},
   "outputs": [
    {
     "name": "stdout",
     "output_type": "stream",
     "text": [
      "                               patient_ID      VALUE  \\\n",
      "0    20604c29-ee90-6073-13f4-df3678392fc7  840544004   \n",
      "1    20604c29-ee90-6073-13f4-df3678392fc7  840544004   \n",
      "2    20604c29-ee90-6073-13f4-df3678392fc7  840544004   \n",
      "3    20604c29-ee90-6073-13f4-df3678392fc7  840544004   \n",
      "4    20604c29-ee90-6073-13f4-df3678392fc7  840544004   \n",
      "..                                    ...        ...   \n",
      "789  8d49cb05-b1c3-b8fe-dc75-e43ad861f074  840539006   \n",
      "790  8d49cb05-b1c3-b8fe-dc75-e43ad861f074  840539006   \n",
      "791  8d49cb05-b1c3-b8fe-dc75-e43ad861f074  840539006   \n",
      "792  8d49cb05-b1c3-b8fe-dc75-e43ad861f074  840539006   \n",
      "793  8d49cb05-b1c3-b8fe-dc75-e43ad861f074  840539006   \n",
      "\n",
      "                                        DESCRIPTION  \n",
      "0               Acute pulmonary embolism (disorder)  \n",
      "1    Acute respiratory distress syndrome (disorder)  \n",
      "2              Acute respiratory failure (disorder)  \n",
      "3           Bacterial infectious disease (disorder)  \n",
      "4                                          COVID-19  \n",
      "..                                              ...  \n",
      "789                  Respiratory distress (finding)  \n",
      "790               Sepsis caused by virus (disorder)  \n",
      "791                         Septic shock (disorder)  \n",
      "792                        Sputum finding (finding)  \n",
      "793                              Suspected COVID-19  \n",
      "\n",
      "[794 rows x 3 columns]\n"
     ]
    }
   ],
   "source": [
    "print(pd.read_sql_query(\"SELECT DISTINCT patient_ID, facts_table.VALUE, conditions.DESCRIPTION FROM facts_table LEFT JOIN conditions ON facts_table.patient_ID = conditions.PATIENT LEFT JOIN immunizations ON facts_table.patient_ID = immunizations.PATIENT LEFT JOIN observations ON facts_table.patient_ID = observations.PATIENT WHERE facts_table.condition_Id is NOT NULL AND (facts_table.VALUE==840539006 OR facts_table.VALUE==840544004) AND observations.VALUE=='COVID-19' AND immunizations.CODE==140\", conn))\n"
   ]
  },
  {
   "cell_type": "code",
   "execution_count": 67,
   "metadata": {},
   "outputs": [],
   "source": [
    "df_nur_influenza_geimpfte = pd.read_sql_query(\"SELECT DISTINCT patient_ID, facts_table.VALUE, conditions.DESCRIPTION AS Condition_Description, immunizations.CODE, observations.DESCRIPTION AS Observation_Description FROM facts_table LEFT JOIN conditions ON facts_table.patient_ID = conditions.PATIENT LEFT JOIN immunizations ON facts_table.patient_ID = immunizations.PATIENT LEFT JOIN observations ON facts_table.patient_ID = observations.PATIENT WHERE facts_table.condition_Id is NOT NULL AND (facts_table.VALUE==840539006 OR facts_table.VALUE==840544004) AND immunizations.CODE==140\", conn)\n"
   ]
  },
  {
   "cell_type": "code",
   "execution_count": 68,
   "metadata": {},
   "outputs": [
    {
     "data": {
      "text/html": [
       "<div>\n",
       "<style scoped>\n",
       "    .dataframe tbody tr th:only-of-type {\n",
       "        vertical-align: middle;\n",
       "    }\n",
       "\n",
       "    .dataframe tbody tr th {\n",
       "        vertical-align: top;\n",
       "    }\n",
       "\n",
       "    .dataframe thead th {\n",
       "        text-align: right;\n",
       "    }\n",
       "</style>\n",
       "<table border=\"1\" class=\"dataframe\">\n",
       "  <thead>\n",
       "    <tr style=\"text-align: right;\">\n",
       "      <th></th>\n",
       "      <th>patient_ID</th>\n",
       "      <th>VALUE</th>\n",
       "      <th>Condition_Description</th>\n",
       "      <th>CODE</th>\n",
       "      <th>Observation_Description</th>\n",
       "    </tr>\n",
       "  </thead>\n",
       "  <tbody>\n",
       "    <tr>\n",
       "      <th>0</th>\n",
       "      <td>7f30313f-98e9-2cc2-68a5-6f9973f9ad5a</td>\n",
       "      <td>840544004</td>\n",
       "      <td>COVID-19</td>\n",
       "      <td>140</td>\n",
       "      <td>Body Weight</td>\n",
       "    </tr>\n",
       "    <tr>\n",
       "      <th>1</th>\n",
       "      <td>7f30313f-98e9-2cc2-68a5-6f9973f9ad5a</td>\n",
       "      <td>840544004</td>\n",
       "      <td>COVID-19</td>\n",
       "      <td>140</td>\n",
       "      <td>Body temperature</td>\n",
       "    </tr>\n",
       "    <tr>\n",
       "      <th>2</th>\n",
       "      <td>7f30313f-98e9-2cc2-68a5-6f9973f9ad5a</td>\n",
       "      <td>840544004</td>\n",
       "      <td>COVID-19</td>\n",
       "      <td>140</td>\n",
       "      <td>DALY</td>\n",
       "    </tr>\n",
       "    <tr>\n",
       "      <th>3</th>\n",
       "      <td>7f30313f-98e9-2cc2-68a5-6f9973f9ad5a</td>\n",
       "      <td>840544004</td>\n",
       "      <td>COVID-19</td>\n",
       "      <td>140</td>\n",
       "      <td>Diastolic Blood Pressure</td>\n",
       "    </tr>\n",
       "    <tr>\n",
       "      <th>4</th>\n",
       "      <td>7f30313f-98e9-2cc2-68a5-6f9973f9ad5a</td>\n",
       "      <td>840544004</td>\n",
       "      <td>COVID-19</td>\n",
       "      <td>140</td>\n",
       "      <td>Heart rate</td>\n",
       "    </tr>\n",
       "    <tr>\n",
       "      <th>...</th>\n",
       "      <td>...</td>\n",
       "      <td>...</td>\n",
       "      <td>...</td>\n",
       "      <td>...</td>\n",
       "      <td>...</td>\n",
       "    </tr>\n",
       "    <tr>\n",
       "      <th>325412</th>\n",
       "      <td>8d49cb05-b1c3-b8fe-dc75-e43ad861f074</td>\n",
       "      <td>840539006</td>\n",
       "      <td>Suspected COVID-19</td>\n",
       "      <td>140</td>\n",
       "      <td>Sodium [Moles/volume] in Serum or Plasma</td>\n",
       "    </tr>\n",
       "    <tr>\n",
       "      <th>325413</th>\n",
       "      <td>8d49cb05-b1c3-b8fe-dc75-e43ad861f074</td>\n",
       "      <td>840539006</td>\n",
       "      <td>Suspected COVID-19</td>\n",
       "      <td>140</td>\n",
       "      <td>Systolic Blood Pressure</td>\n",
       "    </tr>\n",
       "    <tr>\n",
       "      <th>325414</th>\n",
       "      <td>8d49cb05-b1c3-b8fe-dc75-e43ad861f074</td>\n",
       "      <td>840539006</td>\n",
       "      <td>Suspected COVID-19</td>\n",
       "      <td>140</td>\n",
       "      <td>Troponin I.cardiac [Mass/volume] in Serum or P...</td>\n",
       "    </tr>\n",
       "    <tr>\n",
       "      <th>325415</th>\n",
       "      <td>8d49cb05-b1c3-b8fe-dc75-e43ad861f074</td>\n",
       "      <td>840539006</td>\n",
       "      <td>Suspected COVID-19</td>\n",
       "      <td>140</td>\n",
       "      <td>Urea nitrogen [Mass/volume] in Serum or Plasma</td>\n",
       "    </tr>\n",
       "    <tr>\n",
       "      <th>325416</th>\n",
       "      <td>8d49cb05-b1c3-b8fe-dc75-e43ad861f074</td>\n",
       "      <td>840539006</td>\n",
       "      <td>Suspected COVID-19</td>\n",
       "      <td>140</td>\n",
       "      <td>pH of Arterial blood</td>\n",
       "    </tr>\n",
       "  </tbody>\n",
       "</table>\n",
       "<p>325417 rows × 5 columns</p>\n",
       "</div>"
      ],
      "text/plain": [
       "                                  patient_ID      VALUE Condition_Description  \\\n",
       "0       7f30313f-98e9-2cc2-68a5-6f9973f9ad5a  840544004              COVID-19   \n",
       "1       7f30313f-98e9-2cc2-68a5-6f9973f9ad5a  840544004              COVID-19   \n",
       "2       7f30313f-98e9-2cc2-68a5-6f9973f9ad5a  840544004              COVID-19   \n",
       "3       7f30313f-98e9-2cc2-68a5-6f9973f9ad5a  840544004              COVID-19   \n",
       "4       7f30313f-98e9-2cc2-68a5-6f9973f9ad5a  840544004              COVID-19   \n",
       "...                                      ...        ...                   ...   \n",
       "325412  8d49cb05-b1c3-b8fe-dc75-e43ad861f074  840539006    Suspected COVID-19   \n",
       "325413  8d49cb05-b1c3-b8fe-dc75-e43ad861f074  840539006    Suspected COVID-19   \n",
       "325414  8d49cb05-b1c3-b8fe-dc75-e43ad861f074  840539006    Suspected COVID-19   \n",
       "325415  8d49cb05-b1c3-b8fe-dc75-e43ad861f074  840539006    Suspected COVID-19   \n",
       "325416  8d49cb05-b1c3-b8fe-dc75-e43ad861f074  840539006    Suspected COVID-19   \n",
       "\n",
       "        CODE                            Observation_Description  \n",
       "0        140                                        Body Weight  \n",
       "1        140                                   Body temperature  \n",
       "2        140                                               DALY  \n",
       "3        140                           Diastolic Blood Pressure  \n",
       "4        140                                         Heart rate  \n",
       "...      ...                                                ...  \n",
       "325412   140           Sodium [Moles/volume] in Serum or Plasma  \n",
       "325413   140                            Systolic Blood Pressure  \n",
       "325414   140  Troponin I.cardiac [Mass/volume] in Serum or P...  \n",
       "325415   140     Urea nitrogen [Mass/volume] in Serum or Plasma  \n",
       "325416   140                               pH of Arterial blood  \n",
       "\n",
       "[325417 rows x 5 columns]"
      ]
     },
     "execution_count": 68,
     "metadata": {},
     "output_type": "execute_result"
    }
   ],
   "source": [
    "df_nur_influenza_geimpfte"
   ]
  },
  {
   "cell_type": "markdown",
   "metadata": {},
   "source": [
    "### Wie viele gestorbene waren gegen Influenza geimpft?"
   ]
  },
  {
   "cell_type": "code",
   "execution_count": 74,
   "metadata": {},
   "outputs": [],
   "source": [
    "df_alle = pd.read_sql_query(\"SELECT patient_ID, facts_table.VALUE, conditions.DESCRIPTION AS Condition_Description, immunizations.CODE, observations.DESCRIPTION AS Observation_Description FROM facts_table LEFT JOIN conditions ON facts_table.patient_ID = conditions.PATIENT LEFT JOIN immunizations ON facts_table.patient_ID = immunizations.PATIENT LEFT JOIN observations ON facts_table.patient_ID = observations.PATIENT WHERE facts_table.condition_Id is NOT NULL AND (facts_table.VALUE==840539006 OR facts_table.VALUE==840544004) AND observations.VALUE=='COVID-19'\", conn)"
   ]
  },
  {
   "cell_type": "code",
   "execution_count": 75,
   "metadata": {},
   "outputs": [
    {
     "data": {
      "text/html": [
       "<div>\n",
       "<style scoped>\n",
       "    .dataframe tbody tr th:only-of-type {\n",
       "        vertical-align: middle;\n",
       "    }\n",
       "\n",
       "    .dataframe tbody tr th {\n",
       "        vertical-align: top;\n",
       "    }\n",
       "\n",
       "    .dataframe thead th {\n",
       "        text-align: right;\n",
       "    }\n",
       "</style>\n",
       "<table border=\"1\" class=\"dataframe\">\n",
       "  <thead>\n",
       "    <tr style=\"text-align: right;\">\n",
       "      <th></th>\n",
       "      <th>patient_ID</th>\n",
       "      <th>VALUE</th>\n",
       "      <th>Condition_Description</th>\n",
       "      <th>CODE</th>\n",
       "      <th>Observation_Description</th>\n",
       "    </tr>\n",
       "  </thead>\n",
       "  <tbody>\n",
       "    <tr>\n",
       "      <th>0</th>\n",
       "      <td>20604c29-ee90-6073-13f4-df3678392fc7</td>\n",
       "      <td>840544004</td>\n",
       "      <td>Acute pulmonary embolism (disorder)</td>\n",
       "      <td>62</td>\n",
       "      <td>Cause of Death [US Standard Certificate of Death]</td>\n",
       "    </tr>\n",
       "    <tr>\n",
       "      <th>1</th>\n",
       "      <td>20604c29-ee90-6073-13f4-df3678392fc7</td>\n",
       "      <td>840544004</td>\n",
       "      <td>Acute pulmonary embolism (disorder)</td>\n",
       "      <td>62</td>\n",
       "      <td>Cause of Death [US Standard Certificate of Death]</td>\n",
       "    </tr>\n",
       "    <tr>\n",
       "      <th>2</th>\n",
       "      <td>20604c29-ee90-6073-13f4-df3678392fc7</td>\n",
       "      <td>840544004</td>\n",
       "      <td>Acute pulmonary embolism (disorder)</td>\n",
       "      <td>114</td>\n",
       "      <td>Cause of Death [US Standard Certificate of Death]</td>\n",
       "    </tr>\n",
       "    <tr>\n",
       "      <th>3</th>\n",
       "      <td>20604c29-ee90-6073-13f4-df3678392fc7</td>\n",
       "      <td>840544004</td>\n",
       "      <td>Acute pulmonary embolism (disorder)</td>\n",
       "      <td>140</td>\n",
       "      <td>Cause of Death [US Standard Certificate of Death]</td>\n",
       "    </tr>\n",
       "    <tr>\n",
       "      <th>4</th>\n",
       "      <td>20604c29-ee90-6073-13f4-df3678392fc7</td>\n",
       "      <td>840544004</td>\n",
       "      <td>Acute pulmonary embolism (disorder)</td>\n",
       "      <td>140</td>\n",
       "      <td>Cause of Death [US Standard Certificate of Death]</td>\n",
       "    </tr>\n",
       "    <tr>\n",
       "      <th>...</th>\n",
       "      <td>...</td>\n",
       "      <td>...</td>\n",
       "      <td>...</td>\n",
       "      <td>...</td>\n",
       "      <td>...</td>\n",
       "    </tr>\n",
       "    <tr>\n",
       "      <th>8413</th>\n",
       "      <td>8d49cb05-b1c3-b8fe-dc75-e43ad861f074</td>\n",
       "      <td>840539006</td>\n",
       "      <td>Suspected COVID-19</td>\n",
       "      <td>140</td>\n",
       "      <td>Cause of Death [US Standard Certificate of Death]</td>\n",
       "    </tr>\n",
       "    <tr>\n",
       "      <th>8414</th>\n",
       "      <td>8d49cb05-b1c3-b8fe-dc75-e43ad861f074</td>\n",
       "      <td>840539006</td>\n",
       "      <td>Suspected COVID-19</td>\n",
       "      <td>140</td>\n",
       "      <td>Cause of Death [US Standard Certificate of Death]</td>\n",
       "    </tr>\n",
       "    <tr>\n",
       "      <th>8415</th>\n",
       "      <td>8d49cb05-b1c3-b8fe-dc75-e43ad861f074</td>\n",
       "      <td>840539006</td>\n",
       "      <td>Suspected COVID-19</td>\n",
       "      <td>140</td>\n",
       "      <td>Cause of Death [US Standard Certificate of Death]</td>\n",
       "    </tr>\n",
       "    <tr>\n",
       "      <th>8416</th>\n",
       "      <td>8d49cb05-b1c3-b8fe-dc75-e43ad861f074</td>\n",
       "      <td>840539006</td>\n",
       "      <td>Suspected COVID-19</td>\n",
       "      <td>140</td>\n",
       "      <td>Cause of Death [US Standard Certificate of Death]</td>\n",
       "    </tr>\n",
       "    <tr>\n",
       "      <th>8417</th>\n",
       "      <td>8d49cb05-b1c3-b8fe-dc75-e43ad861f074</td>\n",
       "      <td>840539006</td>\n",
       "      <td>Suspected COVID-19</td>\n",
       "      <td>140</td>\n",
       "      <td>Cause of Death [US Standard Certificate of Death]</td>\n",
       "    </tr>\n",
       "  </tbody>\n",
       "</table>\n",
       "<p>8418 rows × 5 columns</p>\n",
       "</div>"
      ],
      "text/plain": [
       "                                patient_ID      VALUE  \\\n",
       "0     20604c29-ee90-6073-13f4-df3678392fc7  840544004   \n",
       "1     20604c29-ee90-6073-13f4-df3678392fc7  840544004   \n",
       "2     20604c29-ee90-6073-13f4-df3678392fc7  840544004   \n",
       "3     20604c29-ee90-6073-13f4-df3678392fc7  840544004   \n",
       "4     20604c29-ee90-6073-13f4-df3678392fc7  840544004   \n",
       "...                                    ...        ...   \n",
       "8413  8d49cb05-b1c3-b8fe-dc75-e43ad861f074  840539006   \n",
       "8414  8d49cb05-b1c3-b8fe-dc75-e43ad861f074  840539006   \n",
       "8415  8d49cb05-b1c3-b8fe-dc75-e43ad861f074  840539006   \n",
       "8416  8d49cb05-b1c3-b8fe-dc75-e43ad861f074  840539006   \n",
       "8417  8d49cb05-b1c3-b8fe-dc75-e43ad861f074  840539006   \n",
       "\n",
       "                    Condition_Description  CODE  \\\n",
       "0     Acute pulmonary embolism (disorder)    62   \n",
       "1     Acute pulmonary embolism (disorder)    62   \n",
       "2     Acute pulmonary embolism (disorder)   114   \n",
       "3     Acute pulmonary embolism (disorder)   140   \n",
       "4     Acute pulmonary embolism (disorder)   140   \n",
       "...                                   ...   ...   \n",
       "8413                   Suspected COVID-19   140   \n",
       "8414                   Suspected COVID-19   140   \n",
       "8415                   Suspected COVID-19   140   \n",
       "8416                   Suspected COVID-19   140   \n",
       "8417                   Suspected COVID-19   140   \n",
       "\n",
       "                                Observation_Description  \n",
       "0     Cause of Death [US Standard Certificate of Death]  \n",
       "1     Cause of Death [US Standard Certificate of Death]  \n",
       "2     Cause of Death [US Standard Certificate of Death]  \n",
       "3     Cause of Death [US Standard Certificate of Death]  \n",
       "4     Cause of Death [US Standard Certificate of Death]  \n",
       "...                                                 ...  \n",
       "8413  Cause of Death [US Standard Certificate of Death]  \n",
       "8414  Cause of Death [US Standard Certificate of Death]  \n",
       "8415  Cause of Death [US Standard Certificate of Death]  \n",
       "8416  Cause of Death [US Standard Certificate of Death]  \n",
       "8417  Cause of Death [US Standard Certificate of Death]  \n",
       "\n",
       "[8418 rows x 5 columns]"
      ]
     },
     "execution_count": 75,
     "metadata": {},
     "output_type": "execute_result"
    }
   ],
   "source": [
    "df_alle"
   ]
  },
  {
   "cell_type": "code",
   "execution_count": 76,
   "metadata": {},
   "outputs": [
    {
     "data": {
      "text/plain": [
       "6774"
      ]
     },
     "execution_count": 76,
     "metadata": {},
     "output_type": "execute_result"
    }
   ],
   "source": [
    "len(df_alle[df_alle.CODE == 140])"
   ]
  },
  {
   "cell_type": "code",
   "execution_count": 80,
   "metadata": {},
   "outputs": [
    {
     "name": "stdout",
     "output_type": "stream",
     "text": [
      "8418\n"
     ]
    }
   ],
   "source": [
    "i = 0\n",
    "for patient in df_alle.index:\n",
    "    df_alle[patient].patient_ID\n",
    "\n",
    "print(i)\n",
    "\n"
   ]
  },
  {
   "cell_type": "code",
   "execution_count": 71,
   "metadata": {},
   "outputs": [],
   "source": [
    "#conn.close()"
   ]
  }
 ],
 "metadata": {
  "kernelspec": {
   "display_name": "Python 3.8.9 ('venv')",
   "language": "python",
   "name": "python3"
  },
  "language_info": {
   "codemirror_mode": {
    "name": "ipython",
    "version": 3
   },
   "file_extension": ".py",
   "mimetype": "text/x-python",
   "name": "python",
   "nbconvert_exporter": "python",
   "pygments_lexer": "ipython3",
   "version": "3.8.9"
  },
  "orig_nbformat": 4,
  "vscode": {
   "interpreter": {
    "hash": "c64ab6fc84cf5ab2d160e3bdb6e01563d6d3a3e715bd4e213410aed41bd6871e"
   }
  }
 },
 "nbformat": 4,
 "nbformat_minor": 2
}
