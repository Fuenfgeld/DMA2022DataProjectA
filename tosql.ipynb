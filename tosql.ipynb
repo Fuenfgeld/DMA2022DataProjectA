{
 "cells": [
  {
   "cell_type": "code",
   "execution_count": 32,
   "metadata": {},
   "outputs": [],
   "source": [
    "import sqlite3\n",
    "import pandas as pd"
   ]
  },
  {
   "cell_type": "code",
   "execution_count": 33,
   "metadata": {},
   "outputs": [
    {
     "name": "stdout",
     "output_type": "stream",
     "text": [
      "Opened database successfully\n"
     ]
    }
   ],
   "source": [
    "#connect to DB\n",
    "conn = sqlite3.connect('sqlite_example.db')\n",
    "cursor = conn.cursor()\n",
    "print(\"Opened database successfully\");"
   ]
  },
  {
   "cell_type": "code",
   "execution_count": 34,
   "metadata": {},
   "outputs": [],
   "source": [
    "#load CSVs\n",
    "careplans = pd.read_csv('Daten/careplans.csv', sep=\",\")\n",
    "conditions = pd.read_csv('Daten/conditions.csv', sep=\",\")\n",
    "disease = pd.read_csv('Daten/disease.csv', sep=\",\")\n",
    "immunizations = pd.read_csv('Daten/immunizations.csv', sep=\",\")\n",
    "medications = pd.read_csv('Daten/medications.csv', sep=\",\")\n",
    "observations = pd.read_csv('Daten/observations.csv', sep=\",\")\n",
    "patients = pd.read_csv('Daten/patients.csv', sep=\",\")"
   ]
  },
  {
   "cell_type": "code",
   "execution_count": 35,
   "metadata": {},
   "outputs": [
    {
     "data": {
      "text/plain": [
       "<sqlite3.Cursor at 0x1b5a6b24f10>"
      ]
     },
     "execution_count": 35,
     "metadata": {},
     "output_type": "execute_result"
    }
   ],
   "source": [
    "#Delete Tables in case they exist\n",
    "cursor.execute(\"DROP TABLE IF EXISTS careplans\")\n",
    "cursor.execute(\"DROP TABLE IF EXISTS conditions\")\n",
    "cursor.execute(\"DROP TABLE IF EXISTS disease\")\n",
    "cursor.execute(\"DROP TABLE IF EXISTS immunizations\")\n",
    "cursor.execute(\"DROP TABLE IF EXISTS medications\")\n",
    "cursor.execute(\"DROP TABLE IF EXISTS observations\")\n",
    "cursor.execute(\"DROP TABLE IF EXISTS patients\")\n"
   ]
  },
  {
   "cell_type": "code",
   "execution_count": 36,
   "metadata": {},
   "outputs": [
    {
     "data": {
      "text/plain": [
       "<sqlite3.Cursor at 0x1b5a6b24f10>"
      ]
     },
     "execution_count": 36,
     "metadata": {},
     "output_type": "execute_result"
    }
   ],
   "source": [
    "#Create Tables\n",
    "cursor.execute('''CREATE TABLE IF NOT EXISTS careplans (\n",
    "                           Id STRING PRIMARY KEY,\n",
    "                           START DATE,\n",
    "                           STOP DATE,\n",
    "                           PATIENT STRING,\n",
    "                           ENCOUNTER STRING,\n",
    "                           CODE STRING,\n",
    "                           DESCRIPTION STRING,\n",
    "                           REASONCODE STRING,\n",
    "                           REASONDESCRIPTION STRING,\n",
    "                           FOREIGN KEY (PATIENT)\n",
    "                              REFERENCES patients (Id) \n",
    "                           FOREIGN KEY (Encounter)\n",
    "                              REFERENCES encounters (Id) \n",
    "                       )\n",
    "                       ''')\n",
    "\n",
    "\n",
    "cursor.execute('''CREATE TABLE IF NOT EXISTS conditions (\n",
    "                           START DATE,\n",
    "                           STOP DATE,\n",
    "                           PATIENT STRING,\n",
    "                           ENCOUNTER STRING,\n",
    "                           CODE STRING,\n",
    "                           DESCRIPTION STRING,\n",
    "                           FOREIGN KEY (PATIENT)\n",
    "                              REFERENCES patients (Id) \n",
    "                           FOREIGN KEY (Encounter)\n",
    "                              REFERENCES encounters (Id) \n",
    "                        )\n",
    "                       ''')\n",
    "\n",
    "\n",
    "cursor.execute('''CREATE TABLE IF NOT EXISTS disease (\n",
    "                           START DATE,\n",
    "                           STOP DATE,\n",
    "                           PATIENT STRING,\n",
    "                           ENCOUNTER STRING,\n",
    "                           CODE STRING,\n",
    "                           DESCRIPTION STRING,\n",
    "                           FOREIGN KEY (PATIENT)\n",
    "                              REFERENCES patients (Id) \n",
    "                           FOREIGN KEY (Encounter)\n",
    "                              REFERENCES encounters (Id)\n",
    "                       )\n",
    "                       ''')\n",
    "\n",
    "\n",
    "cursor.execute('''CREATE TABLE IF NOT EXISTS observations (\n",
    "                           DATE DATE,\n",
    "                           PATIENT STRING,\n",
    "                           ENCOUNTER STRING,\n",
    "                           CODE STRING,\n",
    "                           DESCRIPTION STRING,\n",
    "                           VALUE STRING,\n",
    "                           UNITS STRING,\n",
    "                           TYPE STRING,\n",
    "                           FOREIGN KEY (PATIENT)\n",
    "                              REFERENCES patients (Id) \n",
    "                           FOREIGN KEY (Encounter)\n",
    "                              REFERENCES encounters (Id) \n",
    "\n",
    "                       )\n",
    "                       ''')\n",
    "\n",
    "\n",
    "\n",
    "cursor.execute('''CREATE TABLE IF NOT EXISTS patients (\n",
    "                           Id STRING PRIMARY KEY,\n",
    "                           BIRTHDATE DATE,\n",
    "                           DEATHDATE DATE,\n",
    "                           SSN STRING,\n",
    "                           DRIVERS STRING,\n",
    "                           PASSPORT STRING,\n",
    "                           PREFIX STRING,\n",
    "                           FIRST STRING,\n",
    "                           LAST STRING,\n",
    "                           SUFFIX STRING,\n",
    "                           MAIDEN STRING,\n",
    "                           MARITAL STRING,\n",
    "                           RACE STRING,\n",
    "                           ETHNICITY STRING,\n",
    "                           GENDER STRING,\n",
    "                           BIRTHPLACE STRING,\n",
    "                           ADDRESS STRING,\n",
    "                           CITY STRING,\n",
    "                           STATE STRING,\n",
    "                           COUNTY STRING,\n",
    "                           ZIP STRING,\n",
    "                           LAT INTEGER,\n",
    "                           LON INTEGER,\n",
    "                           HEALTHCARE_EXPENSES INTEGER,\n",
    "                           HEALTHCARE_COVERAGE INTEGER\n",
    "                       )\n",
    "                       ''')\n",
    "\n",
    "\n",
    "\n",
    "\n",
    "\n"
   ]
  },
  {
   "cell_type": "code",
   "execution_count": 37,
   "metadata": {},
   "outputs": [
    {
     "name": "stdout",
     "output_type": "stream",
     "text": [
      "           name\n",
      "0     careplans\n",
      "1    conditions\n",
      "2       disease\n",
      "3  observations\n",
      "4      patients\n"
     ]
    }
   ],
   "source": [
    "print(pd.read_sql_query(\"SELECT name FROM sqlite_master WHERE type='table';\", conn))"
   ]
  },
  {
   "cell_type": "code",
   "execution_count": 38,
   "metadata": {},
   "outputs": [
    {
     "name": "stdout",
     "output_type": "stream",
     "text": [
      "   cid               name    type  notnull dflt_value  pk\n",
      "0    0                 Id  STRING        0       None   1\n",
      "1    1              START    DATE        0       None   0\n",
      "2    2               STOP    DATE        0       None   0\n",
      "3    3            PATIENT  STRING        0       None   0\n",
      "4    4          ENCOUNTER  STRING        0       None   0\n",
      "5    5               CODE  STRING        0       None   0\n",
      "6    6        DESCRIPTION  STRING        0       None   0\n",
      "7    7         REASONCODE  STRING        0       None   0\n",
      "8    8  REASONDESCRIPTION  STRING        0       None   0\n"
     ]
    }
   ],
   "source": [
    "print(pd.read_sql_query(\"PRAGMA table_info('careplans')\", conn))"
   ]
  },
  {
   "cell_type": "code",
   "execution_count": 39,
   "metadata": {},
   "outputs": [
    {
     "data": {
      "text/plain": [
       "1050"
      ]
     },
     "execution_count": 39,
     "metadata": {},
     "output_type": "execute_result"
    }
   ],
   "source": [
    "#Insert into table\n",
    "careplans.to_sql('careplans', conn, if_exists='append', index=False)\n",
    "conditions.to_sql('conditions', conn, if_exists='append', index=False)\n",
    "disease.to_sql('disease', conn, if_exists='append', index=False)\n",
    "immunizations.to_sql('immunizations', conn, if_exists='append', index=False)\n",
    "medications.to_sql('medications', conn, if_exists='append', index=False)\n",
    "observations.to_sql('observations', conn, if_exists='append', index=False)\n",
    "patients.to_sql('patients', conn, if_exists='append', index=False)\n"
   ]
  },
  {
   "cell_type": "code",
   "execution_count": 40,
   "metadata": {},
   "outputs": [
    {
     "name": "stdout",
     "output_type": "stream",
     "text": [
      "                                        Id       START        STOP  \\\n",
      "0     bbd91bf4-ca41-8fcf-fe03-562677e1cd09  2020-03-16  2020-03-16   \n",
      "1     8fbb54fb-fdcd-6c3c-c38b-993c36a0271d  2020-03-16  2020-04-03   \n",
      "2     3258da38-50e6-b40e-889c-dc95d2323c2f  2020-02-17  2020-03-02   \n",
      "3     ebc94d26-a633-69e8-da33-a42b8e03fbbe  2020-02-24  2020-02-24   \n",
      "4     1f282245-ffef-b0c6-1002-fdef343e45d8  2020-02-24  2020-03-11   \n",
      "...                                    ...         ...         ...   \n",
      "1638  b1d4bc75-5201-f101-4dab-9bc89dab80b8  2020-03-06  2020-03-07   \n",
      "1639  b52bc20e-da2a-85b6-599e-15263ae8a85d  2020-03-07  2020-04-08   \n",
      "1640  8a1226b8-0441-2d08-58f9-a4789c63a2fd  2020-03-10  2020-03-10   \n",
      "1641  20fc258b-f765-47f2-fa93-077bc038ec20  2020-03-10  2020-04-07   \n",
      "1642  47fbbc28-64f5-5712-81e7-0597da8cf8ba  2020-03-17  2020-03-17   \n",
      "\n",
      "                                   PATIENT  \\\n",
      "0     52a250a9-24e4-ec9b-91d6-c38cf1b10fc0   \n",
      "1     52a250a9-24e4-ec9b-91d6-c38cf1b10fc0   \n",
      "2     ad5525c0-fdab-94dc-018f-d7209c72bdef   \n",
      "3     7f30313f-98e9-2cc2-68a5-6f9973f9ad5a   \n",
      "4     7f30313f-98e9-2cc2-68a5-6f9973f9ad5a   \n",
      "...                                    ...   \n",
      "1638  edab2899-dac4-a19d-59e2-a9bea7b95cab   \n",
      "1639  edab2899-dac4-a19d-59e2-a9bea7b95cab   \n",
      "1640  4c523ab1-3255-911a-7eef-3bc3e48b7b05   \n",
      "1641  4c523ab1-3255-911a-7eef-3bc3e48b7b05   \n",
      "1642  8d49cb05-b1c3-b8fe-dc75-e43ad861f074   \n",
      "\n",
      "                                 ENCOUNTER       CODE  \\\n",
      "0     e6242b21-5765-8fb9-d596-07dc2b93bd0d  736376001   \n",
      "1     e6242b21-5765-8fb9-d596-07dc2b93bd0d  736376001   \n",
      "2     1d453a83-17f7-490d-5576-09f5725cdcaa  736376001   \n",
      "3     ccb50c60-5c51-3d03-3aeb-824325cfac91  736376001   \n",
      "4     ccb50c60-5c51-3d03-3aeb-824325cfac91  736376001   \n",
      "...                                    ...        ...   \n",
      "1638  9380e944-41bd-53bf-a0c4-27cc7c08291b  736376001   \n",
      "1639  9380e944-41bd-53bf-a0c4-27cc7c08291b  736376001   \n",
      "1640  e1281c05-e0e4-6389-abb6-b672b6b38784  736376001   \n",
      "1641  e1281c05-e0e4-6389-abb6-b672b6b38784  736376001   \n",
      "1642  cd60d8e9-fac4-53d1-4241-cd277a2f03c3  736376001   \n",
      "\n",
      "                                         DESCRIPTION  REASONCODE  \\\n",
      "0     Infectious disease care plan (record artifact)   840544004   \n",
      "1     Infectious disease care plan (record artifact)   840539006   \n",
      "2     Infectious disease care plan (record artifact)   840544004   \n",
      "3     Infectious disease care plan (record artifact)   840544004   \n",
      "4     Infectious disease care plan (record artifact)   840539006   \n",
      "...                                              ...         ...   \n",
      "1638  Infectious disease care plan (record artifact)   840544004   \n",
      "1639  Infectious disease care plan (record artifact)   840539006   \n",
      "1640  Infectious disease care plan (record artifact)   840544004   \n",
      "1641  Infectious disease care plan (record artifact)   840539006   \n",
      "1642  Infectious disease care plan (record artifact)   840544004   \n",
      "\n",
      "       REASONDESCRIPTION  \n",
      "0     Suspected COVID-19  \n",
      "1               COVID-19  \n",
      "2     Suspected COVID-19  \n",
      "3     Suspected COVID-19  \n",
      "4               COVID-19  \n",
      "...                  ...  \n",
      "1638  Suspected COVID-19  \n",
      "1639            COVID-19  \n",
      "1640  Suspected COVID-19  \n",
      "1641            COVID-19  \n",
      "1642  Suspected COVID-19  \n",
      "\n",
      "[1643 rows x 9 columns]\n"
     ]
    }
   ],
   "source": [
    "print(pd.read_sql_query(\"SELECT * FROM careplans\", conn))"
   ]
  }
 ],
 "metadata": {
  "kernelspec": {
   "display_name": "Python 3.8.9 ('venv')",
   "language": "python",
   "name": "python3"
  },
  "language_info": {
   "codemirror_mode": {
    "name": "ipython",
    "version": 3
   },
   "file_extension": ".py",
   "mimetype": "text/x-python",
   "name": "python",
   "nbconvert_exporter": "python",
   "pygments_lexer": "ipython3",
   "version": "3.8.9"
  },
  "orig_nbformat": 4,
  "vscode": {
   "interpreter": {
    "hash": "c64ab6fc84cf5ab2d160e3bdb6e01563d6d3a3e715bd4e213410aed41bd6871e"
   }
  }
 },
 "nbformat": 4,
 "nbformat_minor": 2
}
