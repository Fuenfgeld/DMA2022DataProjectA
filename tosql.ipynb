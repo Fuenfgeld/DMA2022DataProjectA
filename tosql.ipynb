{
 "cells": [
  {
   "cell_type": "code",
   "execution_count": 38,
   "metadata": {},
   "outputs": [],
   "source": [
    "import sqlite3\n",
    "import pandas as pd"
   ]
  },
  {
   "cell_type": "code",
   "execution_count": 39,
   "metadata": {},
   "outputs": [
    {
     "name": "stdout",
     "output_type": "stream",
     "text": [
      "Opened database successfully\n"
     ]
    }
   ],
   "source": [
    "#connect to DB\n",
    "conn = sqlite3.connect('sqlite_example.db')\n",
    "cursor = conn.cursor()\n",
    "print(\"Opened database successfully\");"
   ]
  },
  {
   "cell_type": "code",
   "execution_count": 40,
   "metadata": {},
   "outputs": [],
   "source": [
    "#load CSVs\n",
    "careplans = pd.read_csv('Daten/careplans.csv', sep=\",\")\n",
    "conditions = pd.read_csv('Daten/conditions.csv', sep=\",\")\n",
    "disease = pd.read_csv('Daten/disease.csv', sep=\",\")\n",
    "immunizations = pd.read_csv('Daten/immunizations.csv', sep=\",\")\n",
    "medications = pd.read_csv('Daten/medications.csv', sep=\",\")\n",
    "observations = pd.read_csv('Daten/observations.csv', sep=\",\")\n",
    "patients = pd.read_csv('Daten/patients.csv', sep=\",\")"
   ]
  },
  {
   "cell_type": "code",
   "execution_count": 41,
   "metadata": {},
   "outputs": [
    {
     "data": {
      "text/plain": [
       "<sqlite3.Cursor at 0x2c40ee79c70>"
      ]
     },
     "execution_count": 41,
     "metadata": {},
     "output_type": "execute_result"
    }
   ],
   "source": [
    "#Delete Tables in case they exist\n",
    "cursor.execute(\"DROP TABLE IF EXISTS careplans\")\n",
    "cursor.execute(\"DROP TABLE IF EXISTS conditions\")\n",
    "cursor.execute(\"DROP TABLE IF EXISTS disease\")\n",
    "cursor.execute(\"DROP TABLE IF EXISTS immunizations\")\n",
    "cursor.execute(\"DROP TABLE IF EXISTS medications\")\n",
    "cursor.execute(\"DROP TABLE IF EXISTS observations\")\n",
    "cursor.execute(\"DROP TABLE IF EXISTS patients\")\n",
    "cursor.execute(\"DROP TABLE IF EXISTS facts_table\")\n"
   ]
  },
  {
   "cell_type": "code",
   "execution_count": 42,
   "metadata": {},
   "outputs": [
    {
     "data": {
      "text/plain": [
       "<sqlite3.Cursor at 0x2c40ee79c70>"
      ]
     },
     "execution_count": 42,
     "metadata": {},
     "output_type": "execute_result"
    }
   ],
   "source": [
    "#Create Tables\n",
    "cursor.execute('''CREATE TABLE IF NOT EXISTS careplans (\n",
    "                           Id STRING PRIMARY KEY,\n",
    "                           START DATE,\n",
    "                           STOP DATE,\n",
    "                           PATIENT STRING,\n",
    "                           ENCOUNTER STRING,\n",
    "                           CODE STRING,\n",
    "                           DESCRIPTION STRING,\n",
    "                           REASONCODE STRING,\n",
    "                           REASONDESCRIPTION STRING,\n",
    "                           FOREIGN KEY (PATIENT)\n",
    "                              REFERENCES patients (Id) \n",
    "                           FOREIGN KEY (Encounter)\n",
    "                              REFERENCES encounters (Id) \n",
    "                       )\n",
    "                       ''')\n",
    "\n",
    "\n",
    "cursor.execute('''CREATE TABLE IF NOT EXISTS conditions (\n",
    "                           condition_code INTEGER PRIMARY KEY AUTOINCREMENT,\n",
    "                           START DATE,\n",
    "                           STOP DATE,\n",
    "                           PATIENT STRING,\n",
    "                           ENCOUNTER STRING,\n",
    "                           CODE STRING,\n",
    "                           DESCRIPTION STRING,\n",
    "                           FOREIGN KEY (PATIENT)\n",
    "                              REFERENCES patients (Id) \n",
    "                           FOREIGN KEY (Encounter)\n",
    "                              REFERENCES encounters (Id) \n",
    "                        )\n",
    "                       ''')\n",
    "\n",
    "\n",
    "# cursor.execute('''CREATE TABLE IF NOT EXISTS disease (\n",
    "#                            disease_code INTEGER PRIMARY KEY AUTOINCREMENT,\n",
    "#                            START DATE,\n",
    "#                            STOP DATE,\n",
    "#                            PATIENT STRING,\n",
    "#                            ENCOUNTER STRING,\n",
    "#                            CODE STRING,\n",
    "#                            DESCRIPTION STRING,\n",
    "#                            FOREIGN KEY (PATIENT)\n",
    "#                               REFERENCES patients (Id) \n",
    "#                            FOREIGN KEY (Encounter)\n",
    "#                               REFERENCES encounters (Id)\n",
    "#                        )\n",
    "#                        ''')\n",
    "\n",
    "\n",
    "cursor.execute('''CREATE TABLE IF NOT EXISTS observations (\n",
    "                           observation_code INTEGER PRIMARY KEY AUTOINCREMENT,\n",
    "                           DATE DATE,\n",
    "                           PATIENT STRING,\n",
    "                           ENCOUNTER STRING,\n",
    "                           CODE STRING,\n",
    "                           DESCRIPTION STRING,\n",
    "                           VALUE STRING,\n",
    "                           UNITS STRING,\n",
    "                           TYPE STRING,\n",
    "                           FOREIGN KEY (PATIENT)\n",
    "                              REFERENCES patients (Id) \n",
    "                           FOREIGN KEY (Encounter)\n",
    "                              REFERENCES encounters (Id) \n",
    "\n",
    "                       )\n",
    "                       ''')\n",
    "\n",
    "\n",
    "\n",
    "cursor.execute('''CREATE TABLE IF NOT EXISTS patients (\n",
    "                           Id STRING PRIMARY KEY,\n",
    "                           BIRTHDATE DATE,\n",
    "                           DEATHDATE DATE,\n",
    "                           SSN STRING,\n",
    "                           DRIVERS STRING,\n",
    "                           PASSPORT STRING,\n",
    "                           PREFIX STRING,\n",
    "                           FIRST STRING,\n",
    "                           LAST STRING,\n",
    "                           SUFFIX STRING,\n",
    "                           MAIDEN STRING,\n",
    "                           MARITAL STRING,\n",
    "                           RACE STRING,\n",
    "                           ETHNICITY STRING,\n",
    "                           GENDER STRING,\n",
    "                           BIRTHPLACE STRING,\n",
    "                           ADDRESS STRING,\n",
    "                           CITY STRING,\n",
    "                           STATE STRING,\n",
    "                           COUNTY STRING,\n",
    "                           ZIP STRING,\n",
    "                           LAT INTEGER,\n",
    "                           LON INTEGER,\n",
    "                           HEALTHCARE_EXPENSES INTEGER,\n",
    "                           HEALTHCARE_COVERAGE INTEGER\n",
    "                       )\n",
    "                       ''')\n",
    "\n",
    "cursor.execute('''CREATE TABLE IF NOT EXISTS immunizations(\n",
    "                           immunization_code INTEGER PRIMARY KEY AUTOINCREMENT,\n",
    "                           DATE DATE,\n",
    "                           PATIENT STRING,\n",
    "                           ENCOUNTER STRING,\n",
    "                           CODE STRING,\n",
    "                           DESCRIPTION STRING,\n",
    "                           BASE_COST INTEGER,\n",
    "                           FOREIGN KEY (PATIENT)\n",
    "                              REFERENCES patients (Id) \n",
    "                           FOREIGN KEY (Encounter)\n",
    "                              REFERENCES encounters (Id) \n",
    "\n",
    "                       )\n",
    "                       ''')\n",
    "\n",
    "\n",
    "\n",
    "\n"
   ]
  },
  {
   "cell_type": "code",
   "execution_count": 43,
   "metadata": {},
   "outputs": [
    {
     "name": "stdout",
     "output_type": "stream",
     "text": [
      "              name\n",
      "0  sqlite_sequence\n",
      "1        careplans\n",
      "2       conditions\n",
      "3     observations\n",
      "4         patients\n",
      "5    immunizations\n"
     ]
    }
   ],
   "source": [
    "print(pd.read_sql_query(\"SELECT name FROM sqlite_master WHERE type='table';\", conn))"
   ]
  },
  {
   "cell_type": "code",
   "execution_count": 44,
   "metadata": {},
   "outputs": [
    {
     "name": "stdout",
     "output_type": "stream",
     "text": [
      "   cid               name    type  notnull dflt_value  pk\n",
      "0    0                 Id  STRING        0       None   1\n",
      "1    1              START    DATE        0       None   0\n",
      "2    2               STOP    DATE        0       None   0\n",
      "3    3            PATIENT  STRING        0       None   0\n",
      "4    4          ENCOUNTER  STRING        0       None   0\n",
      "5    5               CODE  STRING        0       None   0\n",
      "6    6        DESCRIPTION  STRING        0       None   0\n",
      "7    7         REASONCODE  STRING        0       None   0\n",
      "8    8  REASONDESCRIPTION  STRING        0       None   0\n"
     ]
    }
   ],
   "source": [
    "print(pd.read_sql_query(\"PRAGMA table_info('careplans')\", conn))"
   ]
  },
  {
   "cell_type": "code",
   "execution_count": 45,
   "metadata": {},
   "outputs": [
    {
     "data": {
      "text/plain": [
       "1050"
      ]
     },
     "execution_count": 45,
     "metadata": {},
     "output_type": "execute_result"
    }
   ],
   "source": [
    "#Insert into table\n",
    "careplans.to_sql('careplans', conn, if_exists='append', index=False)\n",
    "conditions.to_sql('conditions', conn, if_exists='append', index=False)\n",
    "#disease.to_sql('disease', conn, if_exists='append', index=False)\n",
    "immunizations.to_sql('immunizations', conn, if_exists='append', index=False)\n",
    "medications.to_sql('medications', conn, if_exists='append', index=False)\n",
    "observations.to_sql('observations', conn, if_exists='append', index=False)\n",
    "patients.to_sql('patients', conn, if_exists='append', index=False)\n"
   ]
  },
  {
   "cell_type": "code",
   "execution_count": 46,
   "metadata": {},
   "outputs": [
    {
     "name": "stdout",
     "output_type": "stream",
     "text": [
      "                                        Id       START        STOP  \\\n",
      "0     bbd91bf4-ca41-8fcf-fe03-562677e1cd09  2020-03-16  2020-03-16   \n",
      "1     8fbb54fb-fdcd-6c3c-c38b-993c36a0271d  2020-03-16  2020-04-03   \n",
      "2     3258da38-50e6-b40e-889c-dc95d2323c2f  2020-02-17  2020-03-02   \n",
      "3     ebc94d26-a633-69e8-da33-a42b8e03fbbe  2020-02-24  2020-02-24   \n",
      "4     1f282245-ffef-b0c6-1002-fdef343e45d8  2020-02-24  2020-03-11   \n",
      "...                                    ...         ...         ...   \n",
      "1638  b1d4bc75-5201-f101-4dab-9bc89dab80b8  2020-03-06  2020-03-07   \n",
      "1639  b52bc20e-da2a-85b6-599e-15263ae8a85d  2020-03-07  2020-04-08   \n",
      "1640  8a1226b8-0441-2d08-58f9-a4789c63a2fd  2020-03-10  2020-03-10   \n",
      "1641  20fc258b-f765-47f2-fa93-077bc038ec20  2020-03-10  2020-04-07   \n",
      "1642  47fbbc28-64f5-5712-81e7-0597da8cf8ba  2020-03-17  2020-03-17   \n",
      "\n",
      "                                   PATIENT  \\\n",
      "0     52a250a9-24e4-ec9b-91d6-c38cf1b10fc0   \n",
      "1     52a250a9-24e4-ec9b-91d6-c38cf1b10fc0   \n",
      "2     ad5525c0-fdab-94dc-018f-d7209c72bdef   \n",
      "3     7f30313f-98e9-2cc2-68a5-6f9973f9ad5a   \n",
      "4     7f30313f-98e9-2cc2-68a5-6f9973f9ad5a   \n",
      "...                                    ...   \n",
      "1638  edab2899-dac4-a19d-59e2-a9bea7b95cab   \n",
      "1639  edab2899-dac4-a19d-59e2-a9bea7b95cab   \n",
      "1640  4c523ab1-3255-911a-7eef-3bc3e48b7b05   \n",
      "1641  4c523ab1-3255-911a-7eef-3bc3e48b7b05   \n",
      "1642  8d49cb05-b1c3-b8fe-dc75-e43ad861f074   \n",
      "\n",
      "                                 ENCOUNTER       CODE  \\\n",
      "0     e6242b21-5765-8fb9-d596-07dc2b93bd0d  736376001   \n",
      "1     e6242b21-5765-8fb9-d596-07dc2b93bd0d  736376001   \n",
      "2     1d453a83-17f7-490d-5576-09f5725cdcaa  736376001   \n",
      "3     ccb50c60-5c51-3d03-3aeb-824325cfac91  736376001   \n",
      "4     ccb50c60-5c51-3d03-3aeb-824325cfac91  736376001   \n",
      "...                                    ...        ...   \n",
      "1638  9380e944-41bd-53bf-a0c4-27cc7c08291b  736376001   \n",
      "1639  9380e944-41bd-53bf-a0c4-27cc7c08291b  736376001   \n",
      "1640  e1281c05-e0e4-6389-abb6-b672b6b38784  736376001   \n",
      "1641  e1281c05-e0e4-6389-abb6-b672b6b38784  736376001   \n",
      "1642  cd60d8e9-fac4-53d1-4241-cd277a2f03c3  736376001   \n",
      "\n",
      "                                         DESCRIPTION  REASONCODE  \\\n",
      "0     Infectious disease care plan (record artifact)   840544004   \n",
      "1     Infectious disease care plan (record artifact)   840539006   \n",
      "2     Infectious disease care plan (record artifact)   840544004   \n",
      "3     Infectious disease care plan (record artifact)   840544004   \n",
      "4     Infectious disease care plan (record artifact)   840539006   \n",
      "...                                              ...         ...   \n",
      "1638  Infectious disease care plan (record artifact)   840544004   \n",
      "1639  Infectious disease care plan (record artifact)   840539006   \n",
      "1640  Infectious disease care plan (record artifact)   840544004   \n",
      "1641  Infectious disease care plan (record artifact)   840539006   \n",
      "1642  Infectious disease care plan (record artifact)   840544004   \n",
      "\n",
      "       REASONDESCRIPTION  \n",
      "0     Suspected COVID-19  \n",
      "1               COVID-19  \n",
      "2     Suspected COVID-19  \n",
      "3     Suspected COVID-19  \n",
      "4               COVID-19  \n",
      "...                  ...  \n",
      "1638  Suspected COVID-19  \n",
      "1639            COVID-19  \n",
      "1640  Suspected COVID-19  \n",
      "1641            COVID-19  \n",
      "1642  Suspected COVID-19  \n",
      "\n",
      "[1643 rows x 9 columns]\n"
     ]
    }
   ],
   "source": [
    "print(pd.read_sql_query(\"SELECT * FROM careplans\", conn))"
   ]
  },
  {
   "cell_type": "code",
   "execution_count": 47,
   "metadata": {},
   "outputs": [
    {
     "name": "stdout",
     "output_type": "stream",
     "text": [
      "      condition_code       START        STOP  \\\n",
      "0                  1  2020-02-17  2020-02-27   \n",
      "1                  2  2020-02-24  2020-03-11   \n",
      "2                  3  2020-02-17  2020-02-27   \n",
      "3                  4  2020-02-17  2020-02-27   \n",
      "4                  5  2020-02-17  2020-02-17   \n",
      "...              ...         ...         ...   \n",
      "6370            6371  2020-03-25        None   \n",
      "6371            6372  2020-03-25        None   \n",
      "6372            6373  2020-03-25        None   \n",
      "6373            6374  1991-09-20        None   \n",
      "6374            6375  2016-11-18        None   \n",
      "\n",
      "                                   PATIENT  \\\n",
      "0     ad5525c0-fdab-94dc-018f-d7209c72bdef   \n",
      "1     7f30313f-98e9-2cc2-68a5-6f9973f9ad5a   \n",
      "2     ad5525c0-fdab-94dc-018f-d7209c72bdef   \n",
      "3     ad5525c0-fdab-94dc-018f-d7209c72bdef   \n",
      "4     ad5525c0-fdab-94dc-018f-d7209c72bdef   \n",
      "...                                    ...   \n",
      "6370  8d49cb05-b1c3-b8fe-dc75-e43ad861f074   \n",
      "6371  8d49cb05-b1c3-b8fe-dc75-e43ad861f074   \n",
      "6372  8d49cb05-b1c3-b8fe-dc75-e43ad861f074   \n",
      "6373  fce5ed5c-e218-4839-a0c5-6ef906e5ae73   \n",
      "6374  fce5ed5c-e218-4839-a0c5-6ef906e5ae73   \n",
      "\n",
      "                                 ENCOUNTER       CODE  \\\n",
      "0     1d453a83-17f7-490d-5576-09f5725cdcaa   49727002   \n",
      "1     ccb50c60-5c51-3d03-3aeb-824325cfac91   49727002   \n",
      "2     1d453a83-17f7-490d-5576-09f5725cdcaa  386661006   \n",
      "3     1d453a83-17f7-490d-5576-09f5725cdcaa   36955009   \n",
      "4     1d453a83-17f7-490d-5576-09f5725cdcaa  840544004   \n",
      "...                                    ...        ...   \n",
      "6370  d9a1e5b3-0023-3f46-c694-7c91871b3c3d   86175003   \n",
      "6371  d9a1e5b3-0023-3f46-c694-7c91871b3c3d   84114007   \n",
      "6372  d9a1e5b3-0023-3f46-c694-7c91871b3c3d   67782005   \n",
      "6373  7afafba9-d516-51e7-78e4-51b99534bf1c  230690007   \n",
      "6374  9697db80-f51c-e97e-dbbe-9bb3ddc97c9a   49436004   \n",
      "\n",
      "                                         DESCRIPTION  \n",
      "0                                    Cough (finding)  \n",
      "1                                    Cough (finding)  \n",
      "2                                    Fever (finding)  \n",
      "3                            Loss of taste (finding)  \n",
      "4                                 Suspected COVID-19  \n",
      "...                                              ...  \n",
      "6370                      Injury of heart (disorder)  \n",
      "6371                        Heart failure (disorder)  \n",
      "6372  Acute respiratory distress syndrome (disorder)  \n",
      "6373                                          Stroke  \n",
      "6374                             Atrial Fibrillation  \n",
      "\n",
      "[6375 rows x 7 columns]\n"
     ]
    }
   ],
   "source": [
    "print(pd.read_sql_query(\"SELECT * FROM conditions\", conn))"
   ]
  },
  {
   "cell_type": "markdown",
   "metadata": {},
   "source": [
    "### Datenverarbeitungs Schema (Sternschema)\n"
   ]
  },
  {
   "cell_type": "markdown",
   "metadata": {},
   "source": [
    "Der Grund für die Verwendung eines Sternschemas liegt darin, die Anzahl der Join-Bedingungnen für die Auswertung der einzelnen Tabellen zu reduzieren. bei dem Sternschema wird eine Zentrale Datenbank erzeugt, welche die relevanten Daten enthält. Um den Kern des Sternschemas werden weitere Dimensions Tabellen angeordnet. Wichtig dabei kann es zu duplizierungen der Daten in kommen!"
   ]
  },
  {
   "cell_type": "markdown",
   "metadata": {},
   "source": [
    "## Create Facts table"
   ]
  },
  {
   "cell_type": "code",
   "execution_count": 48,
   "metadata": {},
   "outputs": [
    {
     "data": {
      "text/plain": [
       "<sqlite3.Cursor at 0x2c40ee79c70>"
      ]
     },
     "execution_count": 48,
     "metadata": {},
     "output_type": "execute_result"
    }
   ],
   "source": [
    "cursor.execute('''CREATE TABLE IF NOT EXISTS facts_table (\n",
    "                          patient_ID STRING,\n",
    "                          careplan_ID INT,\n",
    "                          condition_id INT,\n",
    "                          immunization_code INT,\n",
    "                          VALUE STRING,\n",
    "                          START_DATE DATE,\n",
    "                          STOP_DATE DATE,\n",
    "                          observation_code INT, \n",
    "                          FOREIGN KEY (patient_ID)\n",
    "                            REFERENCES patients (Id) \n",
    "                          FOREIGN KEY (careplan_ID)\n",
    "                            REFERENCES careplans (Id) \n",
    "                          FOREIGN KEY (condition_id)\n",
    "                            REFERENCES conditions (condition_code)\n",
    "                          FOREIGN KEY (immunization_code)\n",
    "                            REFERENCES immunizations (immunization_code) \n",
    "                          FOREIGN KEY (observation_code)\n",
    "                            REFERENCES observations (observation_code)                             \n",
    "\n",
    "                       )\n",
    "                       ''')"
   ]
  },
  {
   "cell_type": "code",
   "execution_count": 49,
   "metadata": {},
   "outputs": [
    {
     "name": "stdout",
     "output_type": "stream",
     "text": [
      "   cid               name    type  notnull dflt_value  pk\n",
      "0    0         patient_ID  STRING        0       None   0\n",
      "1    1        careplan_ID     INT        0       None   0\n",
      "2    2       condition_id     INT        0       None   0\n",
      "3    3  immunization_code     INT        0       None   0\n",
      "4    4              VALUE  STRING        0       None   0\n",
      "5    5         START_DATE    DATE        0       None   0\n",
      "6    6          STOP_DATE    DATE        0       None   0\n",
      "7    7   observation_code     INT        0       None   0\n"
     ]
    }
   ],
   "source": [
    "print(pd.read_sql_query(\"PRAGMA table_info('facts_table')\", conn))"
   ]
  },
  {
   "cell_type": "markdown",
   "metadata": {},
   "source": [
    "### Transfer Data to new Table"
   ]
  },
  {
   "cell_type": "code",
   "execution_count": 50,
   "metadata": {},
   "outputs": [
    {
     "data": {
      "text/plain": [
       "<sqlite3.Cursor at 0x2c40ee79c70>"
      ]
     },
     "execution_count": 50,
     "metadata": {},
     "output_type": "execute_result"
    }
   ],
   "source": [
    "cursor.execute('''INSERT INTO facts_table        \n",
    "                    (patient_ID, careplan_ID, VALUE, START_DATE, STOP_DATE) \n",
    "                    SELECT PATIENT, Id, CODE, START, STOP\n",
    "                    FROM careplans\n",
    "                    ;''')\n",
    "\n",
    "\n",
    "\n",
    "cursor.execute('''INSERT INTO facts_table        \n",
    "                    (patient_ID, observation_code, VALUE, START_DATE) \n",
    "                    SELECT PATIENT, CODE, VALUE, DATE \n",
    "                    FROM OBSERVATIONS\n",
    "                    ;''')\n",
    "\n",
    "\n",
    "cursor.execute('''INSERT INTO facts_table        \n",
    "                    (patient_ID, condition_Id, VALUE, START_DATE, STOP_DATE) \n",
    "                    SELECT PATIENT, condition_code, CODE, START, STOP\n",
    "                    FROM conditions\n",
    "                    ;''')\n",
    "\n",
    "cursor.execute('''INSERT INTO facts_table        \n",
    "                    (patient_ID, immunization_code, VALUE, START_DATE) \n",
    "                    SELECT PATIENT, immunization_code, CODE, DATE\n",
    "                    FROM immunizations\n",
    "                    ;''')\n",
    "\n"
   ]
  },
  {
   "cell_type": "code",
   "execution_count": 54,
   "metadata": {},
   "outputs": [
    {
     "name": "stdout",
     "output_type": "stream",
     "text": [
      "                                  patient_ID  \\\n",
      "0       52a250a9-24e4-ec9b-91d6-c38cf1b10fc0   \n",
      "1       52a250a9-24e4-ec9b-91d6-c38cf1b10fc0   \n",
      "2       ad5525c0-fdab-94dc-018f-d7209c72bdef   \n",
      "3       7f30313f-98e9-2cc2-68a5-6f9973f9ad5a   \n",
      "4       7f30313f-98e9-2cc2-68a5-6f9973f9ad5a   \n",
      "...                                      ...   \n",
      "141075  fce5ed5c-e218-4839-a0c5-6ef906e5ae73   \n",
      "141076  fce5ed5c-e218-4839-a0c5-6ef906e5ae73   \n",
      "141077  fce5ed5c-e218-4839-a0c5-6ef906e5ae73   \n",
      "141078  fce5ed5c-e218-4839-a0c5-6ef906e5ae73   \n",
      "141079  fce5ed5c-e218-4839-a0c5-6ef906e5ae73   \n",
      "\n",
      "                                 careplan_ID  condition_id  immunization_code  \\\n",
      "0       bbd91bf4-ca41-8fcf-fe03-562677e1cd09           NaN                NaN   \n",
      "1       8fbb54fb-fdcd-6c3c-c38b-993c36a0271d           NaN                NaN   \n",
      "2       3258da38-50e6-b40e-889c-dc95d2323c2f           NaN                NaN   \n",
      "3       ebc94d26-a633-69e8-da33-a42b8e03fbbe           NaN                NaN   \n",
      "4       1f282245-ffef-b0c6-1002-fdef343e45d8           NaN                NaN   \n",
      "...                                      ...           ...                ...   \n",
      "141075                                  None           NaN            13121.0   \n",
      "141076                                  None           NaN            13122.0   \n",
      "141077                                  None           NaN            13123.0   \n",
      "141078                                  None           NaN            13124.0   \n",
      "141079                                  None           NaN            13125.0   \n",
      "\n",
      "            VALUE            START_DATE   STOP_DATE observation_code  \n",
      "0       736376001            2020-03-16  2020-03-16             None  \n",
      "1       736376001            2020-03-16  2020-04-03             None  \n",
      "2       736376001            2020-02-17  2020-03-02             None  \n",
      "3       736376001            2020-02-24  2020-02-24             None  \n",
      "4       736376001            2020-02-24  2020-03-11             None  \n",
      "...           ...                   ...         ...              ...  \n",
      "141075        140  2015-11-13T06:00:19Z        None             None  \n",
      "141076        140  2016-11-18T06:00:19Z        None             None  \n",
      "141077        140  2017-11-24T06:00:19Z        None             None  \n",
      "141078        140  2018-11-30T06:00:19Z        None             None  \n",
      "141079        140  2019-12-06T06:00:19Z        None             None  \n",
      "\n",
      "[141080 rows x 8 columns]\n"
     ]
    }
   ],
   "source": [
    "print(pd.read_sql_query(\"SELECT * FROM facts_table\", conn))"
   ]
  },
  {
   "cell_type": "code",
   "execution_count": 55,
   "metadata": {},
   "outputs": [
    {
     "name": "stdout",
     "output_type": "stream",
     "text": [
      "                             patient_ID careplan_ID condition_id  \\\n",
      "0  2f114e21-8b95-e9eb-2e9e-4b950b059cfa        None         None   \n",
      "\n",
      "   immunization_code  VALUE            START_DATE STOP_DATE observation_code  \n",
      "0                  3    140  2011-05-08T11:01:53Z      None             None  \n"
     ]
    }
   ],
   "source": [
    "print(pd.read_sql_query(\"SELECT * FROM facts_table WHERE immunization_code == 3\", conn))"
   ]
  },
  {
   "cell_type": "code",
   "execution_count": null,
   "metadata": {},
   "outputs": [],
   "source": [
    "# conn.close()"
   ]
  }
 ],
 "metadata": {
  "kernelspec": {
   "display_name": "Python 3.8.9 ('venv')",
   "language": "python",
   "name": "python3"
  },
  "language_info": {
   "codemirror_mode": {
    "name": "ipython",
    "version": 3
   },
   "file_extension": ".py",
   "mimetype": "text/x-python",
   "name": "python",
   "nbconvert_exporter": "python",
   "pygments_lexer": "ipython3",
   "version": "3.8.9"
  },
  "orig_nbformat": 4,
  "vscode": {
   "interpreter": {
    "hash": "c64ab6fc84cf5ab2d160e3bdb6e01563d6d3a3e715bd4e213410aed41bd6871e"
   }
  }
 },
 "nbformat": 4,
 "nbformat_minor": 2
}
