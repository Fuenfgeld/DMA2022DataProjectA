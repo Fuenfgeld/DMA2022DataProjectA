{
  "nbformat": 4,
  "nbformat_minor": 0,
  "metadata": {
    "colab": {
      "name": "Create_Data_Warehouse_and Analyse.ipynb",
      "provenance": [],
      "authorship_tag": "ABX9TyNQvqeLvNTkwUIG9fyGD5kT",
      "include_colab_link": true
    },
    "kernelspec": {
      "name": "python3",
      "display_name": "Python 3"
    },
    "language_info": {
      "name": "python"
    }
  },
  "cells": [
    {
      "cell_type": "markdown",
      "metadata": {
        "id": "view-in-github",
        "colab_type": "text"
      },
      "source": [
        "<a href=\"https://colab.research.google.com/github/Fuenfgeld/DMA2022DataProjectA/blob/main/Create_Data_Warehouse_and_Analyse.ipynb\" target=\"_parent\"><img src=\"https://colab.research.google.com/assets/colab-badge.svg\" alt=\"Open In Colab\"/></a>"
      ]
    },
    {
      "cell_type": "markdown",
      "source": [
        "### Importieren der von uns benötigten Funktionen"
      ],
      "metadata": {
        "id": "rO04G8na46QK"
      }
    },
    {
      "cell_type": "code",
      "source": [
        "import sqlite3\n",
        "import pandas as pd\n",
        "import logging\n",
        "import datetime\n",
        "import seaborn as sns\n",
        "import matplotlib as mpl\n",
        "import matplotlib.pyplot as plt\n",
        "import numpy as np"
      ],
      "metadata": {
        "id": "4Sdl2EiK41xj"
      },
      "execution_count": 1,
      "outputs": []
    },
    {
      "cell_type": "markdown",
      "source": [
        "Github Repo laden"
      ],
      "metadata": {
        "id": "lhgdMnMO49ju"
      }
    },
    {
      "cell_type": "code",
      "source": [
        "# Load GitHub repo\n",
        "%cd /content/\n",
        "%rm -r ./DMA2022DataProjectA\n",
        "!git clone https://github.com/Fuenfgeld/DMA2022DataProjectA.git\n",
        "%cd ./DMA2022DataProjectA/Code/"
      ],
      "metadata": {
        "colab": {
          "base_uri": "https://localhost:8080/"
        },
        "id": "kEni8sDj10D8",
        "outputId": "5f6fa8ed-a556-468e-ee9d-5e2322950312"
      },
      "execution_count": 2,
      "outputs": [
        {
          "output_type": "stream",
          "name": "stdout",
          "text": [
            "/content\n",
            "rm: cannot remove './DMA2022DataProjectA': No such file or directory\n",
            "Cloning into 'DMA2022DataProjectA'...\n",
            "remote: Enumerating objects: 272, done.\u001b[K\n",
            "remote: Counting objects: 100% (39/39), done.\u001b[K\n",
            "remote: Compressing objects: 100% (31/31), done.\u001b[K\n",
            "remote: Total 272 (delta 15), reused 23 (delta 5), pack-reused 233\u001b[K\n",
            "Receiving objects: 100% (272/272), 19.69 MiB | 13.75 MiB/s, done.\n",
            "Resolving deltas: 100% (118/118), done.\n",
            "/content/DMA2022DataProjectA/Code\n"
          ]
        }
      ]
    },
    {
      "cell_type": "markdown",
      "source": [
        "Konfigurieren des Loggings"
      ],
      "metadata": {
        "id": "cfVrzHwo3K7b"
      }
    },
    {
      "cell_type": "code",
      "source": [
        "logging.basicConfig(filename=\"../Logs/log.txt\", level=logging.DEBUG)"
      ],
      "metadata": {
        "id": "VQZCznWk3QnT"
      },
      "execution_count": 3,
      "outputs": []
    },
    {
      "cell_type": "markdown",
      "source": [
        "\n",
        "Erstellen einer Verbindung zur Datenbank"
      ],
      "metadata": {
        "id": "tr1-5rtt5IFe"
      }
    },
    {
      "cell_type": "code",
      "source": [
        "#connect to DB\n",
        "conn = sqlite3.connect('../datawarehouse.db')\n",
        "cursor = conn.cursor()\n",
        "logging.debug(\" \"+str(datetime.datetime.now()) + \" create_data_warehouse.ipynb opened a connection to the database\")\n",
        "print(\"Opened database successfully\");"
      ],
      "metadata": {
        "colab": {
          "base_uri": "https://localhost:8080/"
        },
        "id": "Q8ZJ-vKT5JT0",
        "outputId": "a05b22bc-d3c4-4da9-e514-b638d87732ec"
      },
      "execution_count": 4,
      "outputs": [
        {
          "output_type": "stream",
          "name": "stdout",
          "text": [
            "Opened database successfully\n"
          ]
        }
      ]
    },
    {
      "cell_type": "markdown",
      "source": [
        "Mithilfe von Pandas CSV-Dateien einlesen"
      ],
      "metadata": {
        "id": "-1ARyr1b5uJU"
      }
    },
    {
      "cell_type": "code",
      "source": [
        "#load CSVs\n",
        "careplans = pd.read_csv('../Daten/careplans.csv', sep=\",\")\n",
        "conditions = pd.read_csv('../Daten/conditions.csv', sep=\",\")\n",
        "immunizations = pd.read_csv('../Daten/immunizations.csv', sep=\",\")\n",
        "medications = pd.read_csv('../Daten/medications.csv', sep=\",\")\n",
        "observations = pd.read_csv('../Daten/observations.csv', sep=\",\")\n",
        "patients = pd.read_csv('../Daten/patients.csv', sep=\",\")"
      ],
      "metadata": {
        "id": "VvBMLGIs5t3m"
      },
      "execution_count": 5,
      "outputs": []
    },
    {
      "cell_type": "markdown",
      "source": [
        "## Datenverschleierung"
      ],
      "metadata": {
        "id": "yHHb8Byn5y2y"
      }
    },
    {
      "cell_type": "markdown",
      "source": [
        "Für die Verschleierung der Daten wird aus den Werten mit, denen es möglich ist eine Person zu identifizieren ein Hash gebildet."
      ],
      "metadata": {
        "id": "6RlN0bil54wM"
      }
    },
    {
      "cell_type": "code",
      "source": [
        "to_anonymize =  (\"SSN\",\"DRIVERS\",\"PASSPORT\",\"FIRST\", \"LAST\",\"MAIDEN\", \"ADDRESS\", \"LAT\", \"LON\", \"BIRTHPLACE\")\n",
        "for idx in to_anonymize: \n",
        "    patients[idx] = patients[idx].apply(lambda x: hash(x) if(pd.isna(x) == False) else x)"
      ],
      "metadata": {
        "id": "LOsxcUAz50Xs"
      },
      "execution_count": 6,
      "outputs": []
    },
    {
      "cell_type": "markdown",
      "source": [
        "Vorhandene Tabellen löschen, um Konflikte zu vermeiden"
      ],
      "metadata": {
        "id": "50aNp10R6FDS"
      }
    },
    {
      "cell_type": "code",
      "source": [
        "#Delete Tables in case they exist\n",
        "cursor.execute(\"DROP TABLE IF EXISTS careplans\")\n",
        "cursor.execute(\"DROP TABLE IF EXISTS conditions\")\n",
        "cursor.execute(\"DROP TABLE IF EXISTS disease\")\n",
        "cursor.execute(\"DROP TABLE IF EXISTS immunizations\")\n",
        "cursor.execute(\"DROP TABLE IF EXISTS medications\")\n",
        "cursor.execute(\"DROP TABLE IF EXISTS observations\")\n",
        "cursor.execute(\"DROP TABLE IF EXISTS patients\")\n",
        "cursor.execute(\"DROP TABLE IF EXISTS facts_table\")\n",
        "logging.debug(\" \"+str(datetime.datetime.now()) + \" create_data_warehouse.ipyn dropped existing tables in the database\")"
      ],
      "metadata": {
        "id": "t3v4dzPy53L4"
      },
      "execution_count": 7,
      "outputs": []
    },
    {
      "cell_type": "markdown",
      "source": [
        "\n",
        "Erstellen der Tabellen"
      ],
      "metadata": {
        "id": "jAfuH-QY6Oou"
      }
    },
    {
      "cell_type": "code",
      "source": [
        "#Create Tables\n",
        "cursor.execute('''CREATE TABLE IF NOT EXISTS careplans (\n",
        "                           Id STRING PRIMARY KEY,\n",
        "                           START DATE,\n",
        "                           STOP DATE,\n",
        "                           PATIENT STRING,\n",
        "                           ENCOUNTER STRING,\n",
        "                           CODE STRING,\n",
        "                           DESCRIPTION STRING,\n",
        "                           REASONCODE STRING,\n",
        "                           REASONDESCRIPTION STRING,\n",
        "                           FOREIGN KEY (PATIENT)\n",
        "                              REFERENCES patients (Id) \n",
        "                           FOREIGN KEY (Encounter)\n",
        "                              REFERENCES encounters (Id) \n",
        "                       )\n",
        "                       ''')\n",
        "\n",
        "\n",
        "cursor.execute('''CREATE TABLE IF NOT EXISTS conditions (\n",
        "                           condition_code INTEGER PRIMARY KEY AUTOINCREMENT,\n",
        "                           START DATE,\n",
        "                           STOP DATE,\n",
        "                           PATIENT STRING,\n",
        "                           ENCOUNTER STRING,\n",
        "                           CODE STRING,\n",
        "                           DESCRIPTION STRING,\n",
        "                           FOREIGN KEY (PATIENT)\n",
        "                              REFERENCES patients (Id) \n",
        "                           FOREIGN KEY (Encounter)\n",
        "                              REFERENCES encounters (Id) \n",
        "                        )\n",
        "                       ''')\n",
        "\n",
        "\n",
        "\n",
        "cursor.execute('''CREATE TABLE IF NOT EXISTS observations (\n",
        "                           observation_code INTEGER PRIMARY KEY AUTOINCREMENT,\n",
        "                           DATE DATE,\n",
        "                           PATIENT STRING,\n",
        "                           ENCOUNTER STRING,\n",
        "                           CODE STRING,\n",
        "                           DESCRIPTION STRING,\n",
        "                           VALUE STRING,\n",
        "                           UNITS STRING,\n",
        "                           TYPE STRING,\n",
        "                           FOREIGN KEY (PATIENT)\n",
        "                              REFERENCES patients (Id) \n",
        "                           FOREIGN KEY (Encounter)\n",
        "                              REFERENCES encounters (Id) \n",
        "\n",
        "                       )\n",
        "                       ''')\n",
        "\n",
        "\n",
        "\n",
        "cursor.execute('''CREATE TABLE IF NOT EXISTS patients (\n",
        "                           Id STRING PRIMARY KEY,\n",
        "                           BIRTHDATE DATE,\n",
        "                           DEATHDATE DATE,\n",
        "                           SSN STRING,\n",
        "                           DRIVERS STRING,\n",
        "                           PASSPORT STRING,\n",
        "                           PREFIX STRING,\n",
        "                           FIRST STRING,\n",
        "                           LAST STRING,\n",
        "                           SUFFIX STRING,\n",
        "                           MAIDEN STRING,\n",
        "                           MARITAL STRING,\n",
        "                           RACE STRING,\n",
        "                           ETHNICITY STRING,\n",
        "                           GENDER STRING,\n",
        "                           BIRTHPLACE STRING,\n",
        "                           ADDRESS STRING,\n",
        "                           CITY STRING,\n",
        "                           STATE STRING,\n",
        "                           COUNTY STRING,\n",
        "                           ZIP STRING,\n",
        "                           LAT INTEGER,\n",
        "                           LON INTEGER,\n",
        "                           HEALTHCARE_EXPENSES INTEGER,\n",
        "                           HEALTHCARE_COVERAGE INTEGER\n",
        "                       )\n",
        "                       ''')\n",
        "\n",
        "cursor.execute('''CREATE TABLE IF NOT EXISTS immunizations(\n",
        "                           immunization_code INTEGER PRIMARY KEY AUTOINCREMENT,\n",
        "                           DATE DATE,\n",
        "                           PATIENT STRING,\n",
        "                           ENCOUNTER STRING,\n",
        "                           CODE STRING,\n",
        "                           DESCRIPTION STRING,\n",
        "                           BASE_COST INTEGER,\n",
        "                           FOREIGN KEY (PATIENT)\n",
        "                              REFERENCES patients (Id) \n",
        "                           FOREIGN KEY (Encounter)\n",
        "                              REFERENCES encounters (Id) \n",
        "\n",
        "                       )\n",
        "                       ''')\n",
        "\n",
        "\n",
        "\n",
        "\n",
        "logging.debug(\" \"+str(datetime.datetime.now()) + \" create_data_warehouse.ipyn created needed tables in the database\")"
      ],
      "metadata": {
        "id": "k-mw5e0L6LSn"
      },
      "execution_count": 8,
      "outputs": []
    },
    {
      "cell_type": "markdown",
      "source": [
        "Die Daten aus den Dataframes in die erstellten Tabellen schreiben"
      ],
      "metadata": {
        "id": "6mGOLLVv63-F"
      }
    },
    {
      "cell_type": "code",
      "source": [
        "#Insert into table\n",
        "careplans.to_sql('careplans', conn, if_exists='append', index=False)\n",
        "conditions.to_sql('conditions', conn, if_exists='append', index=False)\n",
        "immunizations.to_sql('immunizations', conn, if_exists='append', index=False)\n",
        "medications.to_sql('medications', conn, if_exists='append', index=False)\n",
        "observations.to_sql('observations', conn, if_exists='append', index=False)\n",
        "patients.to_sql('patients', conn, if_exists='append', index=False)\n",
        "\n",
        "logging.debug(\" \"+str(datetime.datetime.now()) + \" create_data_warehouse.ipyn wrote data from csvs into the database\")"
      ],
      "metadata": {
        "id": "1iABIMZc64XZ"
      },
      "execution_count": 9,
      "outputs": []
    },
    {
      "cell_type": "markdown",
      "source": [
        "# Sternschema"
      ],
      "metadata": {
        "id": "FyZ4WnCy6_xJ"
      }
    },
    {
      "cell_type": "markdown",
      "source": [
        "Der Grund für die Verwendung eines Sternschemas liegt darin, die Anzahl der Join-Bedingungnen für die Auswertung der einzelnen Tabellen zu reduzieren. bei dem Sternschema wird eine Zentrale Datenbank erzeugt, welche die relevanten Daten enthält. Um den Kern des Sternschemas werden weitere Dimensions Tabellen angeordnet. Wichtig dabei kann es zu duplizierungen der Daten in kommen. Das Sternschema erlaubt uns, uns die Tabellen passende für unsere Forschungsfrage zusammenzujoinen."
      ],
      "metadata": {
        "id": "dCeomAtD7E1-"
      }
    },
    {
      "cell_type": "markdown",
      "source": [
        "### Faktentabelle erstellen"
      ],
      "metadata": {
        "id": "-r-GfnPT7IqN"
      }
    },
    {
      "cell_type": "markdown",
      "source": [
        "Die Faktentabelle enthält die Primary Keys aus allen anderen Tabellen. Zusätzlich werden die Attribute VALUE, START_DATE und STOP_DATE hinzugefügt. VALUE enthält hierbei entweder den CODE oder den VALUE der Tabelle aus der die Daten stammen. Das Selbe gilt für START_DATE und STOP_DATE. Gibt es in der ursprünglichen Tabelle nur ein DATE und kein START_DATE und STOP_DATE wird das Datum als START_DATE übernommen und STOP_DATE bleibt dann leer."
      ],
      "metadata": {
        "id": "AlBgeO2Z7Nqi"
      }
    },
    {
      "cell_type": "code",
      "source": [
        "cursor.execute('''CREATE TABLE IF NOT EXISTS facts_table (\n",
        "                          patient_ID STRING,\n",
        "                          careplan_ID INT,\n",
        "                          condition_id INT,\n",
        "                          immunization_code INT,\n",
        "                          VALUE STRING,\n",
        "                          START_DATE DATE,\n",
        "                          STOP_DATE DATE,\n",
        "                          observation_code INT, \n",
        "                          FOREIGN KEY (patient_ID)\n",
        "                            REFERENCES patients (Id) \n",
        "                          FOREIGN KEY (careplan_ID)\n",
        "                            REFERENCES careplans (Id) \n",
        "                          FOREIGN KEY (condition_id)\n",
        "                            REFERENCES conditions (condition_code)\n",
        "                          FOREIGN KEY (immunization_code)\n",
        "                            REFERENCES immunizations (immunization_code) \n",
        "                          FOREIGN KEY (observation_code)\n",
        "                            REFERENCES observations (observation_code)                             \n",
        "\n",
        "                       )\n",
        "                       ''')\n",
        "\n",
        "logging.debug(\" \"+str(datetime.datetime.now()) + \" create_data_warehouse.ipyn created the facts_table\")"
      ],
      "metadata": {
        "id": "pU9Ep73O67bz"
      },
      "execution_count": 10,
      "outputs": []
    },
    {
      "cell_type": "code",
      "source": [
        "print(pd.read_sql_query(\"PRAGMA table_info('facts_table')\", conn))"
      ],
      "metadata": {
        "colab": {
          "base_uri": "https://localhost:8080/"
        },
        "id": "s_ID8hrp7PPl",
        "outputId": "4bbd2d84-4913-431e-9d3e-4d253e05b2e8"
      },
      "execution_count": 11,
      "outputs": [
        {
          "output_type": "stream",
          "name": "stdout",
          "text": [
            "   cid               name    type  notnull dflt_value  pk\n",
            "0    0         patient_ID  STRING        0       None   0\n",
            "1    1        careplan_ID     INT        0       None   0\n",
            "2    2       condition_id     INT        0       None   0\n",
            "3    3  immunization_code     INT        0       None   0\n",
            "4    4              VALUE  STRING        0       None   0\n",
            "5    5         START_DATE    DATE        0       None   0\n",
            "6    6          STOP_DATE    DATE        0       None   0\n",
            "7    7   observation_code     INT        0       None   0\n"
          ]
        }
      ]
    },
    {
      "cell_type": "markdown",
      "source": [
        "### Daten in Faktentabelle übertragen"
      ],
      "metadata": {
        "id": "kMaASt7X7VzD"
      }
    },
    {
      "cell_type": "code",
      "source": [
        "cursor.execute('''INSERT INTO facts_table        \n",
        "                    (patient_ID, careplan_ID, VALUE, START_DATE, STOP_DATE) \n",
        "                    SELECT PATIENT, Id, CODE, START, STOP\n",
        "                    FROM careplans\n",
        "                    ;''')\n",
        "\n",
        "\n",
        "\n",
        "cursor.execute('''INSERT INTO facts_table        \n",
        "                    (patient_ID, observation_code, VALUE, START_DATE) \n",
        "                    SELECT PATIENT, CODE, VALUE, DATE \n",
        "                    FROM OBSERVATIONS\n",
        "                    ;''')\n",
        "\n",
        "\n",
        "cursor.execute('''INSERT INTO facts_table        \n",
        "                    (patient_ID, condition_Id, VALUE, START_DATE, STOP_DATE) \n",
        "                    SELECT PATIENT, condition_code, CODE, START, STOP\n",
        "                    FROM conditions\n",
        "                    ;''')\n",
        "\n",
        "cursor.execute('''INSERT INTO facts_table        \n",
        "                    (patient_ID, immunization_code, VALUE, START_DATE) \n",
        "                    SELECT PATIENT, immunization_code, CODE, DATE\n",
        "                    FROM immunizations\n",
        "                    ;''')\n",
        "\n",
        "logging.debug(\" \"+str(datetime.datetime.now()) + \" create_data_warehouse.ipyn wrote data into the facts_table\")"
      ],
      "metadata": {
        "id": "lt06sWNo7RzB"
      },
      "execution_count": 12,
      "outputs": []
    },
    {
      "cell_type": "markdown",
      "source": [
        "Nach dem Bearbeiten müssen wir unsere Anpassungen commiten und die Verbindung zur Datenbank beenden"
      ],
      "metadata": {
        "id": "fBvjEE_f7e8M"
      }
    },
    {
      "cell_type": "code",
      "source": [
        "conn.commit()\n",
        "logging.debug(\" \"+str(datetime.datetime.now()) + \" create_data_warehouse.ipynb commited changes to the database\")\n",
        "conn.close()\n",
        "logging.debug(\" \"+str(datetime.datetime.now()) + \" create_data_warehouse.ipynb closed the connection to the database\")"
      ],
      "metadata": {
        "id": "ERqbmJ3a7Zbd"
      },
      "execution_count": 13,
      "outputs": []
    },
    {
      "cell_type": "code",
      "source": [
        "print(\"Datawarehouse created successfully\")\n",
        "logging.debug(\" \"+str(datetime.datetime.now()) + \" Datewarehouse was created\")"
      ],
      "metadata": {
        "colab": {
          "base_uri": "https://localhost:8080/"
        },
        "id": "BUnL_EWQ7i2J",
        "outputId": "bcdc8774-fb06-4592-95de-68c384217c26"
      },
      "execution_count": 14,
      "outputs": [
        {
          "output_type": "stream",
          "name": "stdout",
          "text": [
            "Datawarehouse created successfully\n"
          ]
        }
      ]
    },
    {
      "cell_type": "markdown",
      "source": [
        "# Analyse"
      ],
      "metadata": {
        "id": "tiGSZitXodSF"
      }
    },
    {
      "cell_type": "markdown",
      "source": [
        "Um unsere Forschungsfrage durchzuführen wird in diesem Notebook die Analyse durchgeführt. Weitere Informationen über die Forschungsfrage und unsere Dokumentation ist in unserem [Wiki](https://github.com/Fuenfgeld/DMA2022DataProjectA/wiki) zu finden."
      ],
      "metadata": {
        "id": "UODCh8HkojaJ"
      }
    },
    {
      "cell_type": "code",
      "source": [
        "#connect to DB\n",
        "conn = sqlite3.connect('../datawarehouse.db')\n",
        "cursor = conn.cursor()\n",
        "logging.debug(\" \"+str(datetime.datetime.now()) + \" analyse.ipynb opened a connection to the database\")\n",
        "print(\"Opened database successfully\");"
      ],
      "metadata": {
        "colab": {
          "base_uri": "https://localhost:8080/"
        },
        "id": "Wu3Br9u1pLyE",
        "outputId": "a6c6c894-0652-49e8-f3b4-933ca8076fb2"
      },
      "execution_count": 15,
      "outputs": [
        {
          "output_type": "stream",
          "name": "stdout",
          "text": [
            "Opened database successfully\n"
          ]
        }
      ]
    },
    {
      "cell_type": "markdown",
      "source": [
        "#### Zusätzliche Leiden der an Corona erkranten Patienten"
      ],
      "metadata": {
        "id": "2XPWVj4jonIB"
      }
    },
    {
      "cell_type": "code",
      "source": [
        "df_infizierte_patienten_infos = pd.read_sql_query(\"SELECT patient_ID, facts_table.VALUE, conditions.DESCRIPTION AS Condition_Description, immunizations.CODE, observations.DESCRIPTION AS Observation_Description FROM facts_table LEFT JOIN conditions ON facts_table.patient_ID = conditions.PATIENT LEFT JOIN immunizations ON facts_table.patient_ID = immunizations.PATIENT LEFT JOIN observations ON facts_table.patient_ID = observations.PATIENT WHERE facts_table.condition_Id is NOT NULL AND (facts_table.VALUE==840539006 OR facts_table.VALUE==840544004)\", conn)\n",
        "df_infizierte_patienten_infos"
      ],
      "metadata": {
        "colab": {
          "base_uri": "https://localhost:8080/",
          "height": 748
        },
        "id": "83VbtPNlob1l",
        "outputId": "b63be6ba-1924-40e0-fb0d-7c882689df38"
      },
      "execution_count": 16,
      "outputs": [
        {
          "output_type": "execute_result",
          "data": {
            "text/plain": [
              "                                    patient_ID      VALUE  \\\n",
              "0         f0f3bc8d-ef38-49ce-a2bd-dfdda982b271  840544004   \n",
              "1         f0f3bc8d-ef38-49ce-a2bd-dfdda982b271  840544004   \n",
              "2         f0f3bc8d-ef38-49ce-a2bd-dfdda982b271  840544004   \n",
              "3         f0f3bc8d-ef38-49ce-a2bd-dfdda982b271  840544004   \n",
              "4         f0f3bc8d-ef38-49ce-a2bd-dfdda982b271  840544004   \n",
              "...                                        ...        ...   \n",
              "11736905  2712205f-755e-4897-acb3-926895b7d635  840539006   \n",
              "11736906  2712205f-755e-4897-acb3-926895b7d635  840539006   \n",
              "11736907  2712205f-755e-4897-acb3-926895b7d635  840539006   \n",
              "11736908  2712205f-755e-4897-acb3-926895b7d635  840539006   \n",
              "11736909  2712205f-755e-4897-acb3-926895b7d635  840539006   \n",
              "\n",
              "                    Condition_Description   CODE  \\\n",
              "0                                COVID-19   83.0   \n",
              "1                                COVID-19   83.0   \n",
              "2                                COVID-19   83.0   \n",
              "3                                COVID-19   83.0   \n",
              "4                                COVID-19   83.0   \n",
              "...                                   ...    ...   \n",
              "11736905             Joint pain (finding)  140.0   \n",
              "11736906  Metabolic syndrome X (disorder)  140.0   \n",
              "11736907            Muscle pain (finding)  140.0   \n",
              "11736908         Sputum finding (finding)  140.0   \n",
              "11736909               Suspected COVID-19  140.0   \n",
              "\n",
              "                                    Observation_Description  \n",
              "0         Adenovirus A+B+C+D+E DNA [Presence] in Respira...  \n",
              "1                                               Body Height  \n",
              "2                                               Body Height  \n",
              "3                                           Body Mass Index  \n",
              "4                                               Body Weight  \n",
              "...                                                     ...  \n",
              "11736905                                               None  \n",
              "11736906                                               None  \n",
              "11736907                                               None  \n",
              "11736908                                               None  \n",
              "11736909                                               None  \n",
              "\n",
              "[11736910 rows x 5 columns]"
            ],
            "text/html": [
              "\n",
              "  <div id=\"df-0c044687-9517-44d5-942c-19e2c4f4be0e\">\n",
              "    <div class=\"colab-df-container\">\n",
              "      <div>\n",
              "<style scoped>\n",
              "    .dataframe tbody tr th:only-of-type {\n",
              "        vertical-align: middle;\n",
              "    }\n",
              "\n",
              "    .dataframe tbody tr th {\n",
              "        vertical-align: top;\n",
              "    }\n",
              "\n",
              "    .dataframe thead th {\n",
              "        text-align: right;\n",
              "    }\n",
              "</style>\n",
              "<table border=\"1\" class=\"dataframe\">\n",
              "  <thead>\n",
              "    <tr style=\"text-align: right;\">\n",
              "      <th></th>\n",
              "      <th>patient_ID</th>\n",
              "      <th>VALUE</th>\n",
              "      <th>Condition_Description</th>\n",
              "      <th>CODE</th>\n",
              "      <th>Observation_Description</th>\n",
              "    </tr>\n",
              "  </thead>\n",
              "  <tbody>\n",
              "    <tr>\n",
              "      <th>0</th>\n",
              "      <td>f0f3bc8d-ef38-49ce-a2bd-dfdda982b271</td>\n",
              "      <td>840544004</td>\n",
              "      <td>COVID-19</td>\n",
              "      <td>83.0</td>\n",
              "      <td>Adenovirus A+B+C+D+E DNA [Presence] in Respira...</td>\n",
              "    </tr>\n",
              "    <tr>\n",
              "      <th>1</th>\n",
              "      <td>f0f3bc8d-ef38-49ce-a2bd-dfdda982b271</td>\n",
              "      <td>840544004</td>\n",
              "      <td>COVID-19</td>\n",
              "      <td>83.0</td>\n",
              "      <td>Body Height</td>\n",
              "    </tr>\n",
              "    <tr>\n",
              "      <th>2</th>\n",
              "      <td>f0f3bc8d-ef38-49ce-a2bd-dfdda982b271</td>\n",
              "      <td>840544004</td>\n",
              "      <td>COVID-19</td>\n",
              "      <td>83.0</td>\n",
              "      <td>Body Height</td>\n",
              "    </tr>\n",
              "    <tr>\n",
              "      <th>3</th>\n",
              "      <td>f0f3bc8d-ef38-49ce-a2bd-dfdda982b271</td>\n",
              "      <td>840544004</td>\n",
              "      <td>COVID-19</td>\n",
              "      <td>83.0</td>\n",
              "      <td>Body Mass Index</td>\n",
              "    </tr>\n",
              "    <tr>\n",
              "      <th>4</th>\n",
              "      <td>f0f3bc8d-ef38-49ce-a2bd-dfdda982b271</td>\n",
              "      <td>840544004</td>\n",
              "      <td>COVID-19</td>\n",
              "      <td>83.0</td>\n",
              "      <td>Body Weight</td>\n",
              "    </tr>\n",
              "    <tr>\n",
              "      <th>...</th>\n",
              "      <td>...</td>\n",
              "      <td>...</td>\n",
              "      <td>...</td>\n",
              "      <td>...</td>\n",
              "      <td>...</td>\n",
              "    </tr>\n",
              "    <tr>\n",
              "      <th>11736905</th>\n",
              "      <td>2712205f-755e-4897-acb3-926895b7d635</td>\n",
              "      <td>840539006</td>\n",
              "      <td>Joint pain (finding)</td>\n",
              "      <td>140.0</td>\n",
              "      <td>None</td>\n",
              "    </tr>\n",
              "    <tr>\n",
              "      <th>11736906</th>\n",
              "      <td>2712205f-755e-4897-acb3-926895b7d635</td>\n",
              "      <td>840539006</td>\n",
              "      <td>Metabolic syndrome X (disorder)</td>\n",
              "      <td>140.0</td>\n",
              "      <td>None</td>\n",
              "    </tr>\n",
              "    <tr>\n",
              "      <th>11736907</th>\n",
              "      <td>2712205f-755e-4897-acb3-926895b7d635</td>\n",
              "      <td>840539006</td>\n",
              "      <td>Muscle pain (finding)</td>\n",
              "      <td>140.0</td>\n",
              "      <td>None</td>\n",
              "    </tr>\n",
              "    <tr>\n",
              "      <th>11736908</th>\n",
              "      <td>2712205f-755e-4897-acb3-926895b7d635</td>\n",
              "      <td>840539006</td>\n",
              "      <td>Sputum finding (finding)</td>\n",
              "      <td>140.0</td>\n",
              "      <td>None</td>\n",
              "    </tr>\n",
              "    <tr>\n",
              "      <th>11736909</th>\n",
              "      <td>2712205f-755e-4897-acb3-926895b7d635</td>\n",
              "      <td>840539006</td>\n",
              "      <td>Suspected COVID-19</td>\n",
              "      <td>140.0</td>\n",
              "      <td>None</td>\n",
              "    </tr>\n",
              "  </tbody>\n",
              "</table>\n",
              "<p>11736910 rows × 5 columns</p>\n",
              "</div>\n",
              "      <button class=\"colab-df-convert\" onclick=\"convertToInteractive('df-0c044687-9517-44d5-942c-19e2c4f4be0e')\"\n",
              "              title=\"Convert this dataframe to an interactive table.\"\n",
              "              style=\"display:none;\">\n",
              "        \n",
              "  <svg xmlns=\"http://www.w3.org/2000/svg\" height=\"24px\"viewBox=\"0 0 24 24\"\n",
              "       width=\"24px\">\n",
              "    <path d=\"M0 0h24v24H0V0z\" fill=\"none\"/>\n",
              "    <path d=\"M18.56 5.44l.94 2.06.94-2.06 2.06-.94-2.06-.94-.94-2.06-.94 2.06-2.06.94zm-11 1L8.5 8.5l.94-2.06 2.06-.94-2.06-.94L8.5 2.5l-.94 2.06-2.06.94zm10 10l.94 2.06.94-2.06 2.06-.94-2.06-.94-.94-2.06-.94 2.06-2.06.94z\"/><path d=\"M17.41 7.96l-1.37-1.37c-.4-.4-.92-.59-1.43-.59-.52 0-1.04.2-1.43.59L10.3 9.45l-7.72 7.72c-.78.78-.78 2.05 0 2.83L4 21.41c.39.39.9.59 1.41.59.51 0 1.02-.2 1.41-.59l7.78-7.78 2.81-2.81c.8-.78.8-2.07 0-2.86zM5.41 20L4 18.59l7.72-7.72 1.47 1.35L5.41 20z\"/>\n",
              "  </svg>\n",
              "      </button>\n",
              "      \n",
              "  <style>\n",
              "    .colab-df-container {\n",
              "      display:flex;\n",
              "      flex-wrap:wrap;\n",
              "      gap: 12px;\n",
              "    }\n",
              "\n",
              "    .colab-df-convert {\n",
              "      background-color: #E8F0FE;\n",
              "      border: none;\n",
              "      border-radius: 50%;\n",
              "      cursor: pointer;\n",
              "      display: none;\n",
              "      fill: #1967D2;\n",
              "      height: 32px;\n",
              "      padding: 0 0 0 0;\n",
              "      width: 32px;\n",
              "    }\n",
              "\n",
              "    .colab-df-convert:hover {\n",
              "      background-color: #E2EBFA;\n",
              "      box-shadow: 0px 1px 2px rgba(60, 64, 67, 0.3), 0px 1px 3px 1px rgba(60, 64, 67, 0.15);\n",
              "      fill: #174EA6;\n",
              "    }\n",
              "\n",
              "    [theme=dark] .colab-df-convert {\n",
              "      background-color: #3B4455;\n",
              "      fill: #D2E3FC;\n",
              "    }\n",
              "\n",
              "    [theme=dark] .colab-df-convert:hover {\n",
              "      background-color: #434B5C;\n",
              "      box-shadow: 0px 1px 3px 1px rgba(0, 0, 0, 0.15);\n",
              "      filter: drop-shadow(0px 1px 2px rgba(0, 0, 0, 0.3));\n",
              "      fill: #FFFFFF;\n",
              "    }\n",
              "  </style>\n",
              "\n",
              "      <script>\n",
              "        const buttonEl =\n",
              "          document.querySelector('#df-0c044687-9517-44d5-942c-19e2c4f4be0e button.colab-df-convert');\n",
              "        buttonEl.style.display =\n",
              "          google.colab.kernel.accessAllowed ? 'block' : 'none';\n",
              "\n",
              "        async function convertToInteractive(key) {\n",
              "          const element = document.querySelector('#df-0c044687-9517-44d5-942c-19e2c4f4be0e');\n",
              "          const dataTable =\n",
              "            await google.colab.kernel.invokeFunction('convertToInteractive',\n",
              "                                                     [key], {});\n",
              "          if (!dataTable) return;\n",
              "\n",
              "          const docLinkHtml = 'Like what you see? Visit the ' +\n",
              "            '<a target=\"_blank\" href=https://colab.research.google.com/notebooks/data_table.ipynb>data table notebook</a>'\n",
              "            + ' to learn more about interactive tables.';\n",
              "          element.innerHTML = '';\n",
              "          dataTable['output_type'] = 'display_data';\n",
              "          await google.colab.output.renderOutput(dataTable, element);\n",
              "          const docLink = document.createElement('div');\n",
              "          docLink.innerHTML = docLinkHtml;\n",
              "          element.appendChild(docLink);\n",
              "        }\n",
              "      </script>\n",
              "    </div>\n",
              "  </div>\n",
              "  "
            ]
          },
          "metadata": {},
          "execution_count": 16
        }
      ]
    },
    {
      "cell_type": "code",
      "source": [
        "df_weitere_corona_beschwerden = df_infizierte_patienten_infos.groupby(by=\"Condition_Description\", dropna=True)[\"Condition_Description\"].count().to_frame()\n",
        "df_weitere_corona_beschwerden.insert(loc=0, column='Description', value=df_weitere_corona_beschwerden.index)\n",
        "df_weitere_corona_beschwerden = df_weitere_corona_beschwerden.rename(columns={\"Condition_Description\":\"Count\"})\n",
        "df_weitere_corona_beschwerden = df_weitere_corona_beschwerden.sort_values(by=['Count'], ascending=False).reset_index(drop= True)\n",
        "df_weitere_corona_beschwerden[2:12]"
      ],
      "metadata": {
        "colab": {
          "base_uri": "https://localhost:8080/",
          "height": 635
        },
        "id": "Lx0CRvOVosLs",
        "outputId": "70ec3d4b-1b7b-4d97-e70a-3b4e0a446f95"
      },
      "execution_count": 17,
      "outputs": [
        {
          "output_type": "execute_result",
          "data": {
            "text/plain": [
              "                                Description   Count\n",
              "2                           Fever (finding)  753414\n",
              "3            Respiratory distress (finding)  608742\n",
              "4                      Hypoxemia (disorder)  608742\n",
              "5                      Pneumonia (disorder)  608742\n",
              "6                           Cough (finding)  568108\n",
              "7                   Loss of taste (finding)  431277\n",
              "8   Body mass index 30+ - obesity (finding)  324275\n",
              "9                         Fatigue (finding)  305015\n",
              "10                              Prediabetes  281945\n",
              "11                        Anemia (disorder)  268734"
            ],
            "text/html": [
              "\n",
              "  <div id=\"df-f1c2e969-eb20-4e3f-accd-85b9cc4e8baa\">\n",
              "    <div class=\"colab-df-container\">\n",
              "      <div>\n",
              "<style scoped>\n",
              "    .dataframe tbody tr th:only-of-type {\n",
              "        vertical-align: middle;\n",
              "    }\n",
              "\n",
              "    .dataframe tbody tr th {\n",
              "        vertical-align: top;\n",
              "    }\n",
              "\n",
              "    .dataframe thead th {\n",
              "        text-align: right;\n",
              "    }\n",
              "</style>\n",
              "<table border=\"1\" class=\"dataframe\">\n",
              "  <thead>\n",
              "    <tr style=\"text-align: right;\">\n",
              "      <th></th>\n",
              "      <th>Description</th>\n",
              "      <th>Count</th>\n",
              "    </tr>\n",
              "  </thead>\n",
              "  <tbody>\n",
              "    <tr>\n",
              "      <th>2</th>\n",
              "      <td>Fever (finding)</td>\n",
              "      <td>753414</td>\n",
              "    </tr>\n",
              "    <tr>\n",
              "      <th>3</th>\n",
              "      <td>Respiratory distress (finding)</td>\n",
              "      <td>608742</td>\n",
              "    </tr>\n",
              "    <tr>\n",
              "      <th>4</th>\n",
              "      <td>Hypoxemia (disorder)</td>\n",
              "      <td>608742</td>\n",
              "    </tr>\n",
              "    <tr>\n",
              "      <th>5</th>\n",
              "      <td>Pneumonia (disorder)</td>\n",
              "      <td>608742</td>\n",
              "    </tr>\n",
              "    <tr>\n",
              "      <th>6</th>\n",
              "      <td>Cough (finding)</td>\n",
              "      <td>568108</td>\n",
              "    </tr>\n",
              "    <tr>\n",
              "      <th>7</th>\n",
              "      <td>Loss of taste (finding)</td>\n",
              "      <td>431277</td>\n",
              "    </tr>\n",
              "    <tr>\n",
              "      <th>8</th>\n",
              "      <td>Body mass index 30+ - obesity (finding)</td>\n",
              "      <td>324275</td>\n",
              "    </tr>\n",
              "    <tr>\n",
              "      <th>9</th>\n",
              "      <td>Fatigue (finding)</td>\n",
              "      <td>305015</td>\n",
              "    </tr>\n",
              "    <tr>\n",
              "      <th>10</th>\n",
              "      <td>Prediabetes</td>\n",
              "      <td>281945</td>\n",
              "    </tr>\n",
              "    <tr>\n",
              "      <th>11</th>\n",
              "      <td>Anemia (disorder)</td>\n",
              "      <td>268734</td>\n",
              "    </tr>\n",
              "  </tbody>\n",
              "</table>\n",
              "</div>\n",
              "      <button class=\"colab-df-convert\" onclick=\"convertToInteractive('df-f1c2e969-eb20-4e3f-accd-85b9cc4e8baa')\"\n",
              "              title=\"Convert this dataframe to an interactive table.\"\n",
              "              style=\"display:none;\">\n",
              "        \n",
              "  <svg xmlns=\"http://www.w3.org/2000/svg\" height=\"24px\"viewBox=\"0 0 24 24\"\n",
              "       width=\"24px\">\n",
              "    <path d=\"M0 0h24v24H0V0z\" fill=\"none\"/>\n",
              "    <path d=\"M18.56 5.44l.94 2.06.94-2.06 2.06-.94-2.06-.94-.94-2.06-.94 2.06-2.06.94zm-11 1L8.5 8.5l.94-2.06 2.06-.94-2.06-.94L8.5 2.5l-.94 2.06-2.06.94zm10 10l.94 2.06.94-2.06 2.06-.94-2.06-.94-.94-2.06-.94 2.06-2.06.94z\"/><path d=\"M17.41 7.96l-1.37-1.37c-.4-.4-.92-.59-1.43-.59-.52 0-1.04.2-1.43.59L10.3 9.45l-7.72 7.72c-.78.78-.78 2.05 0 2.83L4 21.41c.39.39.9.59 1.41.59.51 0 1.02-.2 1.41-.59l7.78-7.78 2.81-2.81c.8-.78.8-2.07 0-2.86zM5.41 20L4 18.59l7.72-7.72 1.47 1.35L5.41 20z\"/>\n",
              "  </svg>\n",
              "      </button>\n",
              "      \n",
              "  <style>\n",
              "    .colab-df-container {\n",
              "      display:flex;\n",
              "      flex-wrap:wrap;\n",
              "      gap: 12px;\n",
              "    }\n",
              "\n",
              "    .colab-df-convert {\n",
              "      background-color: #E8F0FE;\n",
              "      border: none;\n",
              "      border-radius: 50%;\n",
              "      cursor: pointer;\n",
              "      display: none;\n",
              "      fill: #1967D2;\n",
              "      height: 32px;\n",
              "      padding: 0 0 0 0;\n",
              "      width: 32px;\n",
              "    }\n",
              "\n",
              "    .colab-df-convert:hover {\n",
              "      background-color: #E2EBFA;\n",
              "      box-shadow: 0px 1px 2px rgba(60, 64, 67, 0.3), 0px 1px 3px 1px rgba(60, 64, 67, 0.15);\n",
              "      fill: #174EA6;\n",
              "    }\n",
              "\n",
              "    [theme=dark] .colab-df-convert {\n",
              "      background-color: #3B4455;\n",
              "      fill: #D2E3FC;\n",
              "    }\n",
              "\n",
              "    [theme=dark] .colab-df-convert:hover {\n",
              "      background-color: #434B5C;\n",
              "      box-shadow: 0px 1px 3px 1px rgba(0, 0, 0, 0.15);\n",
              "      filter: drop-shadow(0px 1px 2px rgba(0, 0, 0, 0.3));\n",
              "      fill: #FFFFFF;\n",
              "    }\n",
              "  </style>\n",
              "\n",
              "      <script>\n",
              "        const buttonEl =\n",
              "          document.querySelector('#df-f1c2e969-eb20-4e3f-accd-85b9cc4e8baa button.colab-df-convert');\n",
              "        buttonEl.style.display =\n",
              "          google.colab.kernel.accessAllowed ? 'block' : 'none';\n",
              "\n",
              "        async function convertToInteractive(key) {\n",
              "          const element = document.querySelector('#df-f1c2e969-eb20-4e3f-accd-85b9cc4e8baa');\n",
              "          const dataTable =\n",
              "            await google.colab.kernel.invokeFunction('convertToInteractive',\n",
              "                                                     [key], {});\n",
              "          if (!dataTable) return;\n",
              "\n",
              "          const docLinkHtml = 'Like what you see? Visit the ' +\n",
              "            '<a target=\"_blank\" href=https://colab.research.google.com/notebooks/data_table.ipynb>data table notebook</a>'\n",
              "            + ' to learn more about interactive tables.';\n",
              "          element.innerHTML = '';\n",
              "          dataTable['output_type'] = 'display_data';\n",
              "          await google.colab.output.renderOutput(dataTable, element);\n",
              "          const docLink = document.createElement('div');\n",
              "          docLink.innerHTML = docLinkHtml;\n",
              "          element.appendChild(docLink);\n",
              "        }\n",
              "      </script>\n",
              "    </div>\n",
              "  </div>\n",
              "  "
            ]
          },
          "metadata": {},
          "execution_count": 17
        }
      ]
    },
    {
      "cell_type": "code",
      "source": [
        "fig, ax = plt.subplots(nrows=2, ncols=1)\n",
        "plt.gcf().set_size_inches(20, 10)\n",
        "\n",
        "#Plot für Kuchendiagramm\n",
        "\n",
        "pie = ax[0].pie(df_weitere_corona_beschwerden[2:12].Count,labels=df_weitere_corona_beschwerden.Description[2:12], autopct = '%0.0f%%', textprops={'fontsize': 16})\n",
        "\n",
        "\n",
        "#Plot für Tabelle\n",
        "table = ax[1].table(cellText=df_weitere_corona_beschwerden[2:12].values, colLabels=df_weitere_corona_beschwerden[2:12].columns, loc='center')\n",
        "table.auto_set_font_size(False)\n",
        "table.set_fontsize(12)\n",
        "# ax[1].axis('tight')\n",
        "ax[1].axis('off')\n",
        "\n",
        "\n",
        "fig.suptitle(\"Top 10 Beschwerden an der an Corona erkrankte Patienten leiden\",fontsize=20)\n",
        "plt.plot()"
      ],
      "metadata": {
        "colab": {
          "base_uri": "https://localhost:8080/",
          "height": 72
        },
        "id": "llH3mCViouSU",
        "outputId": "f4fdc249-76e1-4741-b8e0-6d686151f256"
      },
      "execution_count": 18,
      "outputs": [
        {
          "output_type": "execute_result",
          "data": {
            "text/plain": [
              "[]"
            ]
          },
          "metadata": {},
          "execution_count": 18
        },
        {
          "output_type": "display_data",
          "data": {
            "text/plain": [
              "<Figure size 1440x720 with 2 Axes>"
            ],
            "image/png": "[encoded data removed]"
          },
          "metadata": {
            "needs_background": "light"
          }
        }
      ]
    },
    {
      "cell_type": "markdown",
      "source": [
        "Die folgende Query liefert und alle Patienten, die gegen Influenza geimpft wurden. Die Impfung mit dem Code 140 ist die Influenzaimpfung in unserem Datensatz"
      ],
      "metadata": {
        "id": "DhLGLpJDoxo1"
      }
    },
    {
      "cell_type": "code",
      "source": [
        "print(pd.read_sql_query(\"SELECT DISTINCT patient_ID, VALUE FROM facts_table WHERE immunization_code is NOT NULL AND VALUE==140\", conn))"
      ],
      "metadata": {
        "colab": {
          "base_uri": "https://localhost:8080/"
        },
        "id": "x80UkeGtoygG",
        "outputId": "bbca8fe4-e5c4-45ab-a639-2965789ca727"
      },
      "execution_count": 19,
      "outputs": [
        {
          "output_type": "stream",
          "name": "stdout",
          "text": [
            "                                 patient_ID  VALUE\n",
            "0      f0f3bc8d-ef38-49ce-a2bd-dfdda982b271    140\n",
            "1      067318a4-db8f-447f-8b6e-f2f61e9baaa5    140\n",
            "2      ae9efba3-ddc4-43f9-a781-f72019388548    140\n",
            "3      199c586f-af16-4091-9998-ee4cfc02ee7a    140\n",
            "4      f58bf921-cba1-475a-b4f8-dc6fa3b8f89c    140\n",
            "...                                     ...    ...\n",
            "10252  eec72396-d10e-4b8e-8fb6-25fc1e396031    140\n",
            "10253  3daf2b90-c439-469f-bb44-fb6109c6a8a7    140\n",
            "10254  cb03d88e-7f08-46a1-be78-70d9fe8262a7    140\n",
            "10255  435be43f-cb57-442f-aeb2-51018b030ed0    140\n",
            "10256  2712205f-755e-4897-acb3-926895b7d635    140\n",
            "\n",
            "[10257 rows x 2 columns]\n"
          ]
        }
      ]
    },
    {
      "cell_type": "markdown",
      "source": [
        "Die folgende Query liefert und alle Patienten, die gegen Influenza geimpft wurden. Jeder Patient der als VALUE \"COVID-19\" hat, ist an Covid-19 gestorben. Nach unserer Definition gilt ein Verlauf als schwer, wenn der Patient stirbt."
      ],
      "metadata": {
        "id": "bMssV2KFpnMv"
      }
    },
    {
      "cell_type": "code",
      "source": [
        "print(pd.read_sql_query(\"SELECT DISTINCT patient_ID, VALUE FROM facts_table WHERE observation_code is NOT NULL AND VALUE=='COVID-19'\", conn))"
      ],
      "metadata": {
        "colab": {
          "base_uri": "https://localhost:8080/"
        },
        "id": "xFOJ_HyipouK",
        "outputId": "d1d5b85c-e7f9-4083-8be9-74abd22586fd"
      },
      "execution_count": 20,
      "outputs": [
        {
          "output_type": "stream",
          "name": "stdout",
          "text": [
            "                              patient_ID     VALUE\n",
            "0   c70992c9-ff13-467b-9032-1901506edeef  COVID-19\n",
            "1   a5c39700-6bf3-4984-af46-31344695e21b  COVID-19\n",
            "2   edad31f3-5a08-4678-8d31-271a41a2aad5  COVID-19\n",
            "3   000e7adf-cbaa-4fad-ab2f-658c32f7d4d3  COVID-19\n",
            "4   ce718268-3e91-4d5d-98d0-508286f0eeb2  COVID-19\n",
            "5   34916863-676d-4224-9356-c28e78526641  COVID-19\n",
            "6   c16e1174-233b-4efd-8f47-aa12b35aef8a  COVID-19\n",
            "7   dd5a1f10-b8e6-4141-8e0a-26f34f4ce412  COVID-19\n",
            "8   6ef1728a-28e0-4dbd-989f-d91ebeffbac4  COVID-19\n",
            "9   1505bc4d-8843-425b-aaa3-0e431d9402fd  COVID-19\n",
            "10  0100f99a-1b5d-4a5b-a73f-559a920412e5  COVID-19\n",
            "11  d4b977ce-8d36-4651-a593-4e403b78947f  COVID-19\n",
            "12  7a51f54b-bf90-4319-a53f-76646e791e55  COVID-19\n",
            "13  78d06517-d48c-49ef-ada2-8b5290b113dc  COVID-19\n",
            "14  0008a63c-c95c-46c2-9ef3-831d68892019  COVID-19\n",
            "15  991959ab-0188-4916-aa95-664845579bb0  COVID-19\n",
            "16  51d02f7d-6a65-4d6c-aa5f-ef43f1e372cb  COVID-19\n",
            "17  05fdcc72-b031-4947-a364-b29027807d53  COVID-19\n",
            "18  9cd159bb-f711-45b3-a353-1e354587b488  COVID-19\n",
            "19  9194a6db-4891-4ece-88ba-dd74d25ea820  COVID-19\n",
            "20  65091553-c127-452d-b050-e0e7694a4adc  COVID-19\n",
            "21  0ee2ca2c-71b8-4fff-b54e-0fa2f12dfbe2  COVID-19\n",
            "22  4edbeaf9-2af2-415d-a3d7-e5deb030bbc8  COVID-19\n",
            "23  ad45726f-9cb6-442a-b791-9e5517cc4cf8  COVID-19\n",
            "24  06559de6-a90b-46d9-b9bf-1eb876f3c176  COVID-19\n",
            "25  78b120c7-c8d4-41e1-99ba-9b1dfd67f10c  COVID-19\n",
            "26  86e6a3f7-7e01-4fbd-adcd-6bbd0d0f3b08  COVID-19\n",
            "27  8c6e59ac-c172-48f6-9e3d-5bdce628ddef  COVID-19\n",
            "28  9233763a-9561-4d51-8042-c47479943e08  COVID-19\n",
            "29  78a51a83-76cb-4036-ad2b-24e9b374a38b  COVID-19\n",
            "30  470a1368-5596-4d38-9593-e5d67a6e156d  COVID-19\n",
            "31  ff966dc4-d43d-40f7-b225-3a2034cdd962  COVID-19\n",
            "32  cbf2e833-5353-4363-bad9-dc437d8ed633  COVID-19\n",
            "33  388fcce3-1177-4d6a-8162-3d5ff72e0e6b  COVID-19\n",
            "34  8e0e0ea6-85e8-48c3-b49b-ea5a6d1dae03  COVID-19\n",
            "35  ef115d26-74a0-4a28-8bdb-ea8040280e4b  COVID-19\n",
            "36  13ea4104-f299-4e93-bba8-322c1576eb2a  COVID-19\n",
            "37  b6ee973b-c3a2-4fea-a513-83231f63a203  COVID-19\n",
            "38  c2a6ae4b-becd-41d6-827a-4deb130c759e  COVID-19\n",
            "39  cd43cc40-feac-42ca-b80c-201ab04cc3ea  COVID-19\n",
            "40  7f72e14f-b69a-4aa9-a193-10db5c497fa8  COVID-19\n",
            "41  7b2ebfc2-1850-4b59-998b-34d0dfa8c244  COVID-19\n",
            "42  d606ae07-cf79-472f-9b31-71b4d844b613  COVID-19\n",
            "43  a734198b-05b6-4d25-8626-d0325712637e  COVID-19\n",
            "44  4e1b7d92-4424-4f93-a4fa-aa0af3311f5a  COVID-19\n",
            "45  27c2228d-c127-4325-90b7-f96e078cc34e  COVID-19\n",
            "46  99b1394b-14a1-4494-91a0-1bc4fbf995fd  COVID-19\n",
            "47  26151e55-00b0-412b-8969-ed919ccce8cf  COVID-19\n"
          ]
        }
      ]
    },
    {
      "cell_type": "markdown",
      "source": [
        "### Wie viele Patienten sind insgesamt gegen Influenza geimpft?"
      ],
      "metadata": {
        "id": "pGm70sN8puom"
      }
    },
    {
      "cell_type": "markdown",
      "source": [
        "Mit der folgenden Query werden alle Patienten die in der Impftabelle vorhanden sind ausgegeben"
      ],
      "metadata": {
        "id": "cKXigG1YpwpX"
      }
    },
    {
      "cell_type": "code",
      "source": [
        "df_alle_impfungen = pd.read_sql_query(\"SELECT DISTINCT patient_ID, VALUE FROM facts_table WHERE immunization_code is NOT NULL\", conn)"
      ],
      "metadata": {
        "id": "FFJ4EnnEpqo3"
      },
      "execution_count": 21,
      "outputs": []
    },
    {
      "cell_type": "markdown",
      "source": [
        "Hier werden die Patienten kategorisiert. Die Kategorien sind \"Hat eine Influenza Impfung erhalten\" und \"Hat keine Influenza Impfung erhalten\""
      ],
      "metadata": {
        "id": "Ws1sDpxapz9W"
      }
    },
    {
      "cell_type": "code",
      "source": [
        "geimpfte = []\n",
        "geimpfte_patienten_all_df = pd.DataFrame(columns=['Patienten', 'Grippe Impfung'])\n",
        "geimpfte_patienten_all_df.Patienten = df_alle_impfungen.patient_ID.unique()\n",
        "\n",
        "#Prüfung ob der Code 140 in den Daten enthalten ist, dieser gibt Aufschluss darauf ob die Patienten eine Grippeimpfung erhalten haben. \n",
        "for id in df_alle_impfungen.patient_ID.unique():\n",
        "    patient = df_alle_impfungen.loc[df_alle_impfungen.patient_ID == id]\n",
        "    exist = 140 in patient['VALUE'].unique()\n",
        "    geimpfte .append(exist)\n",
        "geimpfte_patienten_all_df['Grippe Impfung']= geimpfte \n",
        "geimpfte_patienten_all_df"
      ],
      "metadata": {
        "colab": {
          "base_uri": "https://localhost:8080/",
          "height": 424
        },
        "id": "CeKieFInpymy",
        "outputId": "4d4ba2d4-80cd-4368-83a0-be1e1e1b1ba1"
      },
      "execution_count": 22,
      "outputs": [
        {
          "output_type": "execute_result",
          "data": {
            "text/plain": [
              "                                  Patienten  Grippe Impfung\n",
              "0      f0f3bc8d-ef38-49ce-a2bd-dfdda982b271            True\n",
              "1      067318a4-db8f-447f-8b6e-f2f61e9baaa5            True\n",
              "2      ae9efba3-ddc4-43f9-a781-f72019388548            True\n",
              "3      199c586f-af16-4091-9998-ee4cfc02ee7a            True\n",
              "4      f58bf921-cba1-475a-b4f8-dc6fa3b8f89c            True\n",
              "...                                     ...             ...\n",
              "10371  eec72396-d10e-4b8e-8fb6-25fc1e396031            True\n",
              "10372  3daf2b90-c439-469f-bb44-fb6109c6a8a7            True\n",
              "10373  cb03d88e-7f08-46a1-be78-70d9fe8262a7            True\n",
              "10374  435be43f-cb57-442f-aeb2-51018b030ed0            True\n",
              "10375  2712205f-755e-4897-acb3-926895b7d635            True\n",
              "\n",
              "[10376 rows x 2 columns]"
            ],
            "text/html": [
              "\n",
              "  <div id=\"df-0d1cb648-d404-4f31-a096-f238434af2e0\">\n",
              "    <div class=\"colab-df-container\">\n",
              "      <div>\n",
              "<style scoped>\n",
              "    .dataframe tbody tr th:only-of-type {\n",
              "        vertical-align: middle;\n",
              "    }\n",
              "\n",
              "    .dataframe tbody tr th {\n",
              "        vertical-align: top;\n",
              "    }\n",
              "\n",
              "    .dataframe thead th {\n",
              "        text-align: right;\n",
              "    }\n",
              "</style>\n",
              "<table border=\"1\" class=\"dataframe\">\n",
              "  <thead>\n",
              "    <tr style=\"text-align: right;\">\n",
              "      <th></th>\n",
              "      <th>Patienten</th>\n",
              "      <th>Grippe Impfung</th>\n",
              "    </tr>\n",
              "  </thead>\n",
              "  <tbody>\n",
              "    <tr>\n",
              "      <th>0</th>\n",
              "      <td>f0f3bc8d-ef38-49ce-a2bd-dfdda982b271</td>\n",
              "      <td>True</td>\n",
              "    </tr>\n",
              "    <tr>\n",
              "      <th>1</th>\n",
              "      <td>067318a4-db8f-447f-8b6e-f2f61e9baaa5</td>\n",
              "      <td>True</td>\n",
              "    </tr>\n",
              "    <tr>\n",
              "      <th>2</th>\n",
              "      <td>ae9efba3-ddc4-43f9-a781-f72019388548</td>\n",
              "      <td>True</td>\n",
              "    </tr>\n",
              "    <tr>\n",
              "      <th>3</th>\n",
              "      <td>199c586f-af16-4091-9998-ee4cfc02ee7a</td>\n",
              "      <td>True</td>\n",
              "    </tr>\n",
              "    <tr>\n",
              "      <th>4</th>\n",
              "      <td>f58bf921-cba1-475a-b4f8-dc6fa3b8f89c</td>\n",
              "      <td>True</td>\n",
              "    </tr>\n",
              "    <tr>\n",
              "      <th>...</th>\n",
              "      <td>...</td>\n",
              "      <td>...</td>\n",
              "    </tr>\n",
              "    <tr>\n",
              "      <th>10371</th>\n",
              "      <td>eec72396-d10e-4b8e-8fb6-25fc1e396031</td>\n",
              "      <td>True</td>\n",
              "    </tr>\n",
              "    <tr>\n",
              "      <th>10372</th>\n",
              "      <td>3daf2b90-c439-469f-bb44-fb6109c6a8a7</td>\n",
              "      <td>True</td>\n",
              "    </tr>\n",
              "    <tr>\n",
              "      <th>10373</th>\n",
              "      <td>cb03d88e-7f08-46a1-be78-70d9fe8262a7</td>\n",
              "      <td>True</td>\n",
              "    </tr>\n",
              "    <tr>\n",
              "      <th>10374</th>\n",
              "      <td>435be43f-cb57-442f-aeb2-51018b030ed0</td>\n",
              "      <td>True</td>\n",
              "    </tr>\n",
              "    <tr>\n",
              "      <th>10375</th>\n",
              "      <td>2712205f-755e-4897-acb3-926895b7d635</td>\n",
              "      <td>True</td>\n",
              "    </tr>\n",
              "  </tbody>\n",
              "</table>\n",
              "<p>10376 rows × 2 columns</p>\n",
              "</div>\n",
              "      <button class=\"colab-df-convert\" onclick=\"convertToInteractive('df-0d1cb648-d404-4f31-a096-f238434af2e0')\"\n",
              "              title=\"Convert this dataframe to an interactive table.\"\n",
              "              style=\"display:none;\">\n",
              "        \n",
              "  <svg xmlns=\"http://www.w3.org/2000/svg\" height=\"24px\"viewBox=\"0 0 24 24\"\n",
              "       width=\"24px\">\n",
              "    <path d=\"M0 0h24v24H0V0z\" fill=\"none\"/>\n",
              "    <path d=\"M18.56 5.44l.94 2.06.94-2.06 2.06-.94-2.06-.94-.94-2.06-.94 2.06-2.06.94zm-11 1L8.5 8.5l.94-2.06 2.06-.94-2.06-.94L8.5 2.5l-.94 2.06-2.06.94zm10 10l.94 2.06.94-2.06 2.06-.94-2.06-.94-.94-2.06-.94 2.06-2.06.94z\"/><path d=\"M17.41 7.96l-1.37-1.37c-.4-.4-.92-.59-1.43-.59-.52 0-1.04.2-1.43.59L10.3 9.45l-7.72 7.72c-.78.78-.78 2.05 0 2.83L4 21.41c.39.39.9.59 1.41.59.51 0 1.02-.2 1.41-.59l7.78-7.78 2.81-2.81c.8-.78.8-2.07 0-2.86zM5.41 20L4 18.59l7.72-7.72 1.47 1.35L5.41 20z\"/>\n",
              "  </svg>\n",
              "      </button>\n",
              "      \n",
              "  <style>\n",
              "    .colab-df-container {\n",
              "      display:flex;\n",
              "      flex-wrap:wrap;\n",
              "      gap: 12px;\n",
              "    }\n",
              "\n",
              "    .colab-df-convert {\n",
              "      background-color: #E8F0FE;\n",
              "      border: none;\n",
              "      border-radius: 50%;\n",
              "      cursor: pointer;\n",
              "      display: none;\n",
              "      fill: #1967D2;\n",
              "      height: 32px;\n",
              "      padding: 0 0 0 0;\n",
              "      width: 32px;\n",
              "    }\n",
              "\n",
              "    .colab-df-convert:hover {\n",
              "      background-color: #E2EBFA;\n",
              "      box-shadow: 0px 1px 2px rgba(60, 64, 67, 0.3), 0px 1px 3px 1px rgba(60, 64, 67, 0.15);\n",
              "      fill: #174EA6;\n",
              "    }\n",
              "\n",
              "    [theme=dark] .colab-df-convert {\n",
              "      background-color: #3B4455;\n",
              "      fill: #D2E3FC;\n",
              "    }\n",
              "\n",
              "    [theme=dark] .colab-df-convert:hover {\n",
              "      background-color: #434B5C;\n",
              "      box-shadow: 0px 1px 3px 1px rgba(0, 0, 0, 0.15);\n",
              "      filter: drop-shadow(0px 1px 2px rgba(0, 0, 0, 0.3));\n",
              "      fill: #FFFFFF;\n",
              "    }\n",
              "  </style>\n",
              "\n",
              "      <script>\n",
              "        const buttonEl =\n",
              "          document.querySelector('#df-0d1cb648-d404-4f31-a096-f238434af2e0 button.colab-df-convert');\n",
              "        buttonEl.style.display =\n",
              "          google.colab.kernel.accessAllowed ? 'block' : 'none';\n",
              "\n",
              "        async function convertToInteractive(key) {\n",
              "          const element = document.querySelector('#df-0d1cb648-d404-4f31-a096-f238434af2e0');\n",
              "          const dataTable =\n",
              "            await google.colab.kernel.invokeFunction('convertToInteractive',\n",
              "                                                     [key], {});\n",
              "          if (!dataTable) return;\n",
              "\n",
              "          const docLinkHtml = 'Like what you see? Visit the ' +\n",
              "            '<a target=\"_blank\" href=https://colab.research.google.com/notebooks/data_table.ipynb>data table notebook</a>'\n",
              "            + ' to learn more about interactive tables.';\n",
              "          element.innerHTML = '';\n",
              "          dataTable['output_type'] = 'display_data';\n",
              "          await google.colab.output.renderOutput(dataTable, element);\n",
              "          const docLink = document.createElement('div');\n",
              "          docLink.innerHTML = docLinkHtml;\n",
              "          element.appendChild(docLink);\n",
              "        }\n",
              "      </script>\n",
              "    </div>\n",
              "  </div>\n",
              "  "
            ]
          },
          "metadata": {},
          "execution_count": 22
        }
      ]
    },
    {
      "cell_type": "code",
      "source": [
        "print(\"Es wurden\", geimpfte_patienten_all_df['Grippe Impfung'].value_counts()[True], \"Patienten gegen Influenza geimpft\")\n",
        "print(geimpfte_patienten_all_df['Grippe Impfung'].value_counts()[False], \"Patienten wurden nicht gegen Influenza geimpft\")\n"
      ],
      "metadata": {
        "colab": {
          "base_uri": "https://localhost:8080/"
        },
        "id": "qy0G88S3p1Yi",
        "outputId": "8aa495a0-b182-424a-fdc4-d26d912740a1"
      },
      "execution_count": 23,
      "outputs": [
        {
          "output_type": "stream",
          "name": "stdout",
          "text": [
            "Es wurden 10257 Patienten gegen Influenza geimpft\n",
            "119 Patienten wurden nicht gegen Influenza geimpft\n"
          ]
        }
      ]
    },
    {
      "cell_type": "code",
      "source": [
        "verhaeltnis_geimpft_insgesamt = geimpfte_patienten_all_df['Grippe Impfung'].value_counts()[True] / len(geimpfte_patienten_all_df.index)\n",
        "verhaeltnis_geimpft_insgesamt"
      ],
      "metadata": {
        "colab": {
          "base_uri": "https://localhost:8080/"
        },
        "id": "8yasIYllp4QL",
        "outputId": "a6c9800b-884a-4a73-82e2-2d0ad49ae271"
      },
      "execution_count": 24,
      "outputs": [
        {
          "output_type": "execute_result",
          "data": {
            "text/plain": [
              "0.9885312259059368"
            ]
          },
          "metadata": {},
          "execution_count": 24
        }
      ]
    },
    {
      "cell_type": "code",
      "source": [
        "verhaeltnis_ungeimpft_insgesamt = geimpfte_patienten_all_df['Grippe Impfung'].value_counts()[False] / len(geimpfte_patienten_all_df.index)\n",
        "verhaeltnis_ungeimpft_insgesamt"
      ],
      "metadata": {
        "colab": {
          "base_uri": "https://localhost:8080/"
        },
        "id": "_ybcZDX6qH66",
        "outputId": "a3c75b4e-3b38-45cc-9e69-d265ca004b59"
      },
      "execution_count": 25,
      "outputs": [
        {
          "output_type": "execute_result",
          "data": {
            "text/plain": [
              "0.011468774094063224"
            ]
          },
          "metadata": {},
          "execution_count": 25
        }
      ]
    },
    {
      "cell_type": "code",
      "source": [
        "plt.gcf().set_size_inches(20, 10)\n",
        "data = [verhaeltnis_geimpft_insgesamt, verhaeltnis_ungeimpft_insgesamt]\n",
        "labels = ['Geimpfte insgesamt', 'Ungeimpfte insgesamt']\n",
        "plt.title(\"Verhältnis gegen Influenza geimpfte und ungeimpfte bei allen Patienten\", fontsize=16)\n",
        "plt.pie(data, labels=labels, autopct = '%0.0f%%', textprops={'fontsize': 16})\n",
        "plt.show()"
      ],
      "metadata": {
        "colab": {
          "base_uri": "https://localhost:8080/",
          "height": 592
        },
        "id": "oymlR5UEp66K",
        "outputId": "90fb7e18-31fa-4f74-c9ac-a6ed5c56f93a"
      },
      "execution_count": 26,
      "outputs": [
        {
          "output_type": "display_data",
          "data": {
            "text/plain": [
              "<Figure size 1440x720 with 1 Axes>"
            ],
            "image/png": "[encoded data removed]"
          },
          "metadata": {}
        }
      ]
    },
    {
      "cell_type": "code",
      "source": [
        "plt.gcf().set_size_inches(20, 10)\n",
        "countplot_gestorbene = sns.countplot(x=\"Grippe Impfung\", data=geimpfte_patienten_all_df)\n",
        "plt.title(\"Verhältnis gegen Influenza geimpfte und ungeimpfte bei allen Patienten\", fontsize=16)\n",
        "countplot_gestorbene.set_ylabel(\"Anzahl Gestorbene\")\n",
        "countplot_gestorbene.set_xlabel(\"Influenza Impfung\")\n",
        "plt.xticks(fontsize=16)\n",
        "plt.yticks(fontsize=16)"
      ],
      "metadata": {
        "colab": {
          "base_uri": "https://localhost:8080/",
          "height": 664
        },
        "id": "bcAPUb8Fp7gJ",
        "outputId": "3b0d413a-38f3-4cb9-bde7-c75423959637"
      },
      "execution_count": 27,
      "outputs": [
        {
          "output_type": "execute_result",
          "data": {
            "text/plain": [
              "(array([    0.,  2000.,  4000.,  6000.,  8000., 10000., 12000.]),\n",
              " <a list of 7 Text major ticklabel objects>)"
            ]
          },
          "metadata": {},
          "execution_count": 27
        },
        {
          "output_type": "display_data",
          "data": {
            "text/plain": [
              "<Figure size 1440x720 with 1 Axes>"
            ],
            "image/png": "[encoded data removed]"
          },
          "metadata": {
            "needs_background": "light"
          }
        }
      ]
    },
    {
      "cell_type": "markdown",
      "source": [
        "Es wird deutlich, dass es mehr Patienten gibt, die eine Influenza Impfung erhalten haben, als Patienten die keine Influenza Impfung erhalten haben. "
      ],
      "metadata": {
        "id": "vqfkvHLEqMiF"
      }
    },
    {
      "cell_type": "markdown",
      "source": [
        "### Wie viele gestorbene waren gegen Influenza geimpft?"
      ],
      "metadata": {
        "id": "ZbucbwDwqNmM"
      }
    },
    {
      "cell_type": "markdown",
      "source": [
        "VALUE=840539006 und VALUE=840544004 bedeuten Suspected COVID-19 und COVID-19"
      ],
      "metadata": {
        "id": "cd5NUgGLqSSQ"
      }
    },
    {
      "cell_type": "code",
      "source": [
        "df_gestorbene_patienten_infos = pd.read_sql_query(\"SELECT patient_ID, facts_table.VALUE, conditions.DESCRIPTION AS Condition_Description, immunizations.CODE, observations.DESCRIPTION AS Observation_Description FROM facts_table LEFT JOIN conditions ON facts_table.patient_ID = conditions.PATIENT LEFT JOIN immunizations ON facts_table.patient_ID = immunizations.PATIENT LEFT JOIN observations ON facts_table.patient_ID = observations.PATIENT WHERE facts_table.condition_Id is NOT NULL AND (facts_table.VALUE==840539006 OR facts_table.VALUE==840544004) AND observations.VALUE=='COVID-19'\", conn)"
      ],
      "metadata": {
        "id": "Oh_ERtdcqM81"
      },
      "execution_count": 28,
      "outputs": []
    },
    {
      "cell_type": "markdown",
      "source": [
        "#### Aufbau des Dataframes"
      ],
      "metadata": {
        "id": "G5ibPXHYqV5i"
      }
    },
    {
      "cell_type": "code",
      "source": [
        "df_gestorbene_patienten_infos.tail()"
      ],
      "metadata": {
        "colab": {
          "base_uri": "https://localhost:8080/",
          "height": 444
        },
        "id": "vyVKqcC8qT4i",
        "outputId": "d91be300-2a1f-45b6-a7d0-ad105421c752"
      },
      "execution_count": 29,
      "outputs": [
        {
          "output_type": "execute_result",
          "data": {
            "text/plain": [
              "                                patient_ID      VALUE  \\\n",
              "2257  26151e55-00b0-412b-8969-ed919ccce8cf  840539006   \n",
              "2258  26151e55-00b0-412b-8969-ed919ccce8cf  840539006   \n",
              "2259  26151e55-00b0-412b-8969-ed919ccce8cf  840539006   \n",
              "2260  26151e55-00b0-412b-8969-ed919ccce8cf  840539006   \n",
              "2261  26151e55-00b0-412b-8969-ed919ccce8cf  840539006   \n",
              "\n",
              "                  Condition_Description   CODE  \\\n",
              "2257               Pneumonia (disorder)  140.0   \n",
              "2258     Respiratory distress (finding)  140.0   \n",
              "2259  Sepsis caused by virus (disorder)  140.0   \n",
              "2260                 Suspected COVID-19  140.0   \n",
              "2261                 Wheezing (finding)  140.0   \n",
              "\n",
              "                                Observation_Description  \n",
              "2257  Cause of Death [US Standard Certificate of Death]  \n",
              "2258  Cause of Death [US Standard Certificate of Death]  \n",
              "2259  Cause of Death [US Standard Certificate of Death]  \n",
              "2260  Cause of Death [US Standard Certificate of Death]  \n",
              "2261  Cause of Death [US Standard Certificate of Death]  "
            ],
            "text/html": [
              "\n",
              "  <div id=\"df-d63a5015-8449-4db9-add4-2bf1579de8e0\">\n",
              "    <div class=\"colab-df-container\">\n",
              "      <div>\n",
              "<style scoped>\n",
              "    .dataframe tbody tr th:only-of-type {\n",
              "        vertical-align: middle;\n",
              "    }\n",
              "\n",
              "    .dataframe tbody tr th {\n",
              "        vertical-align: top;\n",
              "    }\n",
              "\n",
              "    .dataframe thead th {\n",
              "        text-align: right;\n",
              "    }\n",
              "</style>\n",
              "<table border=\"1\" class=\"dataframe\">\n",
              "  <thead>\n",
              "    <tr style=\"text-align: right;\">\n",
              "      <th></th>\n",
              "      <th>patient_ID</th>\n",
              "      <th>VALUE</th>\n",
              "      <th>Condition_Description</th>\n",
              "      <th>CODE</th>\n",
              "      <th>Observation_Description</th>\n",
              "    </tr>\n",
              "  </thead>\n",
              "  <tbody>\n",
              "    <tr>\n",
              "      <th>2257</th>\n",
              "      <td>26151e55-00b0-412b-8969-ed919ccce8cf</td>\n",
              "      <td>840539006</td>\n",
              "      <td>Pneumonia (disorder)</td>\n",
              "      <td>140.0</td>\n",
              "      <td>Cause of Death [US Standard Certificate of Death]</td>\n",
              "    </tr>\n",
              "    <tr>\n",
              "      <th>2258</th>\n",
              "      <td>26151e55-00b0-412b-8969-ed919ccce8cf</td>\n",
              "      <td>840539006</td>\n",
              "      <td>Respiratory distress (finding)</td>\n",
              "      <td>140.0</td>\n",
              "      <td>Cause of Death [US Standard Certificate of Death]</td>\n",
              "    </tr>\n",
              "    <tr>\n",
              "      <th>2259</th>\n",
              "      <td>26151e55-00b0-412b-8969-ed919ccce8cf</td>\n",
              "      <td>840539006</td>\n",
              "      <td>Sepsis caused by virus (disorder)</td>\n",
              "      <td>140.0</td>\n",
              "      <td>Cause of Death [US Standard Certificate of Death]</td>\n",
              "    </tr>\n",
              "    <tr>\n",
              "      <th>2260</th>\n",
              "      <td>26151e55-00b0-412b-8969-ed919ccce8cf</td>\n",
              "      <td>840539006</td>\n",
              "      <td>Suspected COVID-19</td>\n",
              "      <td>140.0</td>\n",
              "      <td>Cause of Death [US Standard Certificate of Death]</td>\n",
              "    </tr>\n",
              "    <tr>\n",
              "      <th>2261</th>\n",
              "      <td>26151e55-00b0-412b-8969-ed919ccce8cf</td>\n",
              "      <td>840539006</td>\n",
              "      <td>Wheezing (finding)</td>\n",
              "      <td>140.0</td>\n",
              "      <td>Cause of Death [US Standard Certificate of Death]</td>\n",
              "    </tr>\n",
              "  </tbody>\n",
              "</table>\n",
              "</div>\n",
              "      <button class=\"colab-df-convert\" onclick=\"convertToInteractive('df-d63a5015-8449-4db9-add4-2bf1579de8e0')\"\n",
              "              title=\"Convert this dataframe to an interactive table.\"\n",
              "              style=\"display:none;\">\n",
              "        \n",
              "  <svg xmlns=\"http://www.w3.org/2000/svg\" height=\"24px\"viewBox=\"0 0 24 24\"\n",
              "       width=\"24px\">\n",
              "    <path d=\"M0 0h24v24H0V0z\" fill=\"none\"/>\n",
              "    <path d=\"M18.56 5.44l.94 2.06.94-2.06 2.06-.94-2.06-.94-.94-2.06-.94 2.06-2.06.94zm-11 1L8.5 8.5l.94-2.06 2.06-.94-2.06-.94L8.5 2.5l-.94 2.06-2.06.94zm10 10l.94 2.06.94-2.06 2.06-.94-2.06-.94-.94-2.06-.94 2.06-2.06.94z\"/><path d=\"M17.41 7.96l-1.37-1.37c-.4-.4-.92-.59-1.43-.59-.52 0-1.04.2-1.43.59L10.3 9.45l-7.72 7.72c-.78.78-.78 2.05 0 2.83L4 21.41c.39.39.9.59 1.41.59.51 0 1.02-.2 1.41-.59l7.78-7.78 2.81-2.81c.8-.78.8-2.07 0-2.86zM5.41 20L4 18.59l7.72-7.72 1.47 1.35L5.41 20z\"/>\n",
              "  </svg>\n",
              "      </button>\n",
              "      \n",
              "  <style>\n",
              "    .colab-df-container {\n",
              "      display:flex;\n",
              "      flex-wrap:wrap;\n",
              "      gap: 12px;\n",
              "    }\n",
              "\n",
              "    .colab-df-convert {\n",
              "      background-color: #E8F0FE;\n",
              "      border: none;\n",
              "      border-radius: 50%;\n",
              "      cursor: pointer;\n",
              "      display: none;\n",
              "      fill: #1967D2;\n",
              "      height: 32px;\n",
              "      padding: 0 0 0 0;\n",
              "      width: 32px;\n",
              "    }\n",
              "\n",
              "    .colab-df-convert:hover {\n",
              "      background-color: #E2EBFA;\n",
              "      box-shadow: 0px 1px 2px rgba(60, 64, 67, 0.3), 0px 1px 3px 1px rgba(60, 64, 67, 0.15);\n",
              "      fill: #174EA6;\n",
              "    }\n",
              "\n",
              "    [theme=dark] .colab-df-convert {\n",
              "      background-color: #3B4455;\n",
              "      fill: #D2E3FC;\n",
              "    }\n",
              "\n",
              "    [theme=dark] .colab-df-convert:hover {\n",
              "      background-color: #434B5C;\n",
              "      box-shadow: 0px 1px 3px 1px rgba(0, 0, 0, 0.15);\n",
              "      filter: drop-shadow(0px 1px 2px rgba(0, 0, 0, 0.3));\n",
              "      fill: #FFFFFF;\n",
              "    }\n",
              "  </style>\n",
              "\n",
              "      <script>\n",
              "        const buttonEl =\n",
              "          document.querySelector('#df-d63a5015-8449-4db9-add4-2bf1579de8e0 button.colab-df-convert');\n",
              "        buttonEl.style.display =\n",
              "          google.colab.kernel.accessAllowed ? 'block' : 'none';\n",
              "\n",
              "        async function convertToInteractive(key) {\n",
              "          const element = document.querySelector('#df-d63a5015-8449-4db9-add4-2bf1579de8e0');\n",
              "          const dataTable =\n",
              "            await google.colab.kernel.invokeFunction('convertToInteractive',\n",
              "                                                     [key], {});\n",
              "          if (!dataTable) return;\n",
              "\n",
              "          const docLinkHtml = 'Like what you see? Visit the ' +\n",
              "            '<a target=\"_blank\" href=https://colab.research.google.com/notebooks/data_table.ipynb>data table notebook</a>'\n",
              "            + ' to learn more about interactive tables.';\n",
              "          element.innerHTML = '';\n",
              "          dataTable['output_type'] = 'display_data';\n",
              "          await google.colab.output.renderOutput(dataTable, element);\n",
              "          const docLink = document.createElement('div');\n",
              "          docLink.innerHTML = docLinkHtml;\n",
              "          element.appendChild(docLink);\n",
              "        }\n",
              "      </script>\n",
              "    </div>\n",
              "  </div>\n",
              "  "
            ]
          },
          "metadata": {},
          "execution_count": 29
        }
      ]
    },
    {
      "cell_type": "code",
      "source": [
        "impfkandidat = []\n",
        "geimpfte_patienten_df = pd.DataFrame(columns=['Patienten', 'Grippe Impfung'])\n",
        "geimpfte_patienten_df.Patienten = df_gestorbene_patienten_infos.patient_ID.unique()\n",
        "\n",
        "#Prüfung ob der Code 140 in den Daten enthalten ist, dieser gibt Aufschluss darauf ob die Patienten eine Grippeimpfung erhalten haben. \n",
        "for id in df_gestorbene_patienten_infos.patient_ID.unique():\n",
        "    patient = df_gestorbene_patienten_infos.loc[df_gestorbene_patienten_infos.patient_ID == id]\n",
        "    exist = 140 in patient['CODE'].unique()\n",
        "    impfkandidat.append(exist)\n",
        "geimpfte_patienten_df['Grippe Impfung']= impfkandidat"
      ],
      "metadata": {
        "id": "BLD92Dt_qajq"
      },
      "execution_count": 30,
      "outputs": []
    },
    {
      "cell_type": "code",
      "source": [
        "verhaeltnis_geimpft_tote = geimpfte_patienten_df['Grippe Impfung'].value_counts()[True] / len(geimpfte_patienten_df.index)\n",
        "verhaeltnis_geimpft_tote"
      ],
      "metadata": {
        "colab": {
          "base_uri": "https://localhost:8080/"
        },
        "id": "DoHH-d-Jqbwc",
        "outputId": "998342be-9ef4-4c86-8ea0-ed7649a394a1"
      },
      "execution_count": 31,
      "outputs": [
        {
          "output_type": "execute_result",
          "data": {
            "text/plain": [
              "0.8125"
            ]
          },
          "metadata": {},
          "execution_count": 31
        }
      ]
    },
    {
      "cell_type": "markdown",
      "source": [
        "81,25% aller gestorbenen waren gegen Influenza geimpft"
      ],
      "metadata": {
        "id": "s3DQw_1YqdyR"
      }
    },
    {
      "cell_type": "code",
      "source": [
        "verhaeltnis_ungeimpft_tote = geimpfte_patienten_df['Grippe Impfung'].value_counts()[False] / len(geimpfte_patienten_df.index)\n",
        "verhaeltnis_ungeimpft_tote"
      ],
      "metadata": {
        "colab": {
          "base_uri": "https://localhost:8080/"
        },
        "id": "YaQk-_yOqdFh",
        "outputId": "ae2650de-a0e0-4d29-8b53-81067ca0d894"
      },
      "execution_count": 32,
      "outputs": [
        {
          "output_type": "execute_result",
          "data": {
            "text/plain": [
              "0.1875"
            ]
          },
          "metadata": {},
          "execution_count": 32
        }
      ]
    },
    {
      "cell_type": "markdown",
      "source": [
        "18,75% aller gestorbenen waren nicht gegen Influenza geimpft"
      ],
      "metadata": {
        "id": "rl-YnHFCqlEm"
      }
    },
    {
      "cell_type": "code",
      "source": [
        "plt.gcf().set_size_inches(20, 10)\n",
        "countplot_gestorbene = sns.countplot(x=\"Grippe Impfung\", data=geimpfte_patienten_df)\n",
        "plt.title(\"Verhältnis gegen Influenza geimpfte und ungeimpfte bei gestorbenen Patienten\", fontsize=16)\n",
        "countplot_gestorbene.set_ylabel(\"Anzahl Gestorbene\")\n",
        "countplot_gestorbene.set_xlabel(\"Influenza Impfung\")\n",
        "plt.xticks(fontsize=16)\n",
        "plt.yticks(fontsize=16)"
      ],
      "metadata": {
        "colab": {
          "base_uri": "https://localhost:8080/",
          "height": 412
        },
        "id": "lARVe4xhqr2f",
        "outputId": "2d68473c-8002-46b9-b455-a2268a215118"
      },
      "execution_count": 33,
      "outputs": [
        {
          "output_type": "execute_result",
          "data": {
            "text/plain": [
              "(array([ 0.,  5., 10., 15., 20., 25., 30., 35., 40., 45.]),\n",
              " <a list of 10 Text major ticklabel objects>)"
            ]
          },
          "metadata": {},
          "execution_count": 33
        },
        {
          "output_type": "display_data",
          "data": {
            "text/plain": [
              "<Figure size 1440x720 with 1 Axes>"
            ],
            "image/png": "[encoded data removed]"
          },
          "metadata": {
            "needs_background": "light"
          }
        }
      ]
    },
    {
      "cell_type": "code",
      "source": [
        "plt.gcf().set_size_inches(20, 10)\n",
        "plt.title(\"Verhältnis gegen Influenza geimpfte und ungeimpfte bei gestorbenen Patienten\", fontsize=16)\n",
        "data = [verhaeltnis_geimpft_tote, verhaeltnis_ungeimpft_tote]\n",
        "labels = ['Geimpfte gestorbene', 'Ungeimpfte Gestorbene']\n",
        "plt.pie(data, labels=labels, autopct = '%0.0f%%', textprops={'fontsize': 16})\n",
        "\n",
        "plt.show()"
      ],
      "metadata": {
        "colab": {
          "base_uri": "https://localhost:8080/",
          "height": 54
        },
        "id": "MRlx90scqumd",
        "outputId": "f7c13c68-3b18-469b-ebc5-25ffb2000044"
      },
      "execution_count": 34,
      "outputs": [
        {
          "output_type": "display_data",
          "data": {
            "text/plain": [
              "<Figure size 1440x720 with 1 Axes>"
            ],
            "image/png": "[encoded data removed]"
          },
          "metadata": {}
        }
      ]
    },
    {
      "cell_type": "markdown",
      "source": [
        "Generell sind im Datensatz deutlich mehr Influenzageimpfte Patienten (99%) als nicht gegen Influenza geimpfte Patienten (1%) vorhanden. Dieses Verhältnis hat sich bei den gestorbenen Patienten verändert, hier sind 19% der gestorbenen nicht gegen Influenza geimpft. Daraus könnte man schließen, dass die Sterbewahrscheinlichkeit für Covid-19 ohne Influenzaimpfung höher ist.\n",
        "Nahliegender ist allerdings, dass Patienten, die sich gegen Influenza impfen lassen, auch offener gegenüber einer COVID-19 Impfung sind. Dies können wir aufgrund fehlender Daten leider nicht überprüfen."
      ],
      "metadata": {
        "id": "mtsKEGLrqw8L"
      }
    },
    {
      "cell_type": "markdown",
      "source": [
        "## Hat die Ethnie einfluss auf die Sterbewahrscheinlichkeit bei Covid-19?\n",
        "\n",
        "Für die Betrachung der Auswertung der Sterbewahrscheinlichkeit im Zusammenhang der Ethnie, können Sie über den [Link](https://github.com/Fuenfgeld/DMA2022DataProjectA/blob/main/Code/analyse.ipynb) auf das Jupyter Notebook für die Analyse zugreifen. Dies ist leider Notwenig, da die Menge an Daten den RAM der kostenlosen Version von Colab überstreitet. Alternativ können Sie sich auch die Grafiken im dem Repository zugreifen. [Verteilung der Ethnien bei allen Patienten](https://raw.githubusercontent.com/Fuenfgeld/DMA2022DataProjectA/main/Dokumentation/Bilder_analyse/verteilung_ethnien_alle.png),\n",
        "[Verteilung der Ethnien bei den an COVID-19 gestrobenen](https://raw.githubusercontent.com/Fuenfgeld/DMA2022DataProjectA/main/Dokumentation/Bilder_analyse/verteilung_ethnien_gestorben.png)"
      ],
      "metadata": {
        "id": "SyWiaeM_qy3d"
      }
    },
    {
      "cell_type": "markdown",
      "source": [
        "[<img src=https://raw.githubusercontent.com/Fuenfgeld/DMA2022DataProjectA/main/Dokumentation/Bilder_analyse/verteilung_ethnien_alle.png width=\"1000\"/>](https://raw.githubusercontent.com/Fuenfgeld/DMA2022DataProjectA/main/Dokumentation/Bilder_analyse/verteilung_ethnien_alle.png)"
      ],
      "metadata": {
        "id": "f39ywluwyd8l"
      }
    },
    {
      "cell_type": "markdown",
      "source": [
        "[<img src=https://raw.githubusercontent.com/Fuenfgeld/DMA2022DataProjectA/main/Dokumentation/Bilder_analyse/verteilung_ethnien_gestorben.png width=\"1000\"/>](https://raw.githubusercontent.com/Fuenfgeld/DMA2022DataProjectA/main/Dokumentation/Bilder_analyse/verteilung_ethnien_gestorben.png)"
      ],
      "metadata": {
        "id": "ZUwRnBmpyhGQ"
      }
    },
    {
      "cell_type": "code",
      "source": [
        "conn.close()\n",
        "logging.debug(\" \"+str(datetime.datetime.now()) + \" analyse.ipynb closed the connection to the database\")"
      ],
      "metadata": {
        "id": "9WjVh5fWyjJp"
      },
      "execution_count": null,
      "outputs": []
    }
  ]
}