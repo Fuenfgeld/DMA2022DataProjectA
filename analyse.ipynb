{
 "cells": [
  {
   "cell_type": "code",
   "execution_count": 37,
   "metadata": {},
   "outputs": [],
   "source": [
    "import sqlite3\n",
    "import pandas as pd\n",
    "import seaborn as sns\n",
    "import matplotlib as mpl\n",
    "import matplotlib.pyplot as plt\n",
    "import logging\n",
    "import datetime"
   ]
  },
  {
   "cell_type": "markdown",
   "metadata": {},
   "source": [
    "Logging konfigurieren"
   ]
  },
  {
   "cell_type": "code",
   "execution_count": 38,
   "metadata": {},
   "outputs": [],
   "source": [
    "logging.basicConfig(filename=\"Logs/log.txt\", level=logging.DEBUG)\n",
    "logging.getLogger('matplotlib').setLevel(logging.WARNING)"
   ]
  },
  {
   "cell_type": "code",
   "execution_count": 39,
   "metadata": {},
   "outputs": [
    {
     "name": "stdout",
     "output_type": "stream",
     "text": [
      "Opened database successfully\n"
     ]
    }
   ],
   "source": [
    "#connect to DB\n",
    "conn = sqlite3.connect('datawarehouse.db')\n",
    "cursor = conn.cursor()\n",
    "logging.debug(\" \"+str(datetime.datetime.now()) + \" analyse.ipynb opened a connection to the database\")\n",
    "print(\"Opened database successfully\");"
   ]
  },
  {
   "cell_type": "markdown",
   "metadata": {},
   "source": [
    "# Analyse\n"
   ]
  },
  {
   "cell_type": "markdown",
   "metadata": {},
   "source": [
    "Um unsere Forschungsfrage durchzuführen wird in diesem Notebook die Analyse durchgeführt. Weitere Informationen über die Forschungsfrage und unsere Dokumentation ist in unserem [Wiki](https://github.com/Fuenfgeld/DMA2022DataProjectA/wiki) zu finden."
   ]
  },
  {
   "cell_type": "markdown",
   "metadata": {
    "collapsed": false
   },
   "source": [
    "#### Zusätzliche Leiden der an Corona erkranten Patienten \n"
   ]
  },
  {
   "cell_type": "code",
   "execution_count": 40,
   "metadata": {},
   "outputs": [
    {
     "data": {
      "text/html": [
       "<div>\n",
       "<style scoped>\n",
       "    .dataframe tbody tr th:only-of-type {\n",
       "        vertical-align: middle;\n",
       "    }\n",
       "\n",
       "    .dataframe tbody tr th {\n",
       "        vertical-align: top;\n",
       "    }\n",
       "\n",
       "    .dataframe thead th {\n",
       "        text-align: right;\n",
       "    }\n",
       "</style>\n",
       "<table border=\"1\" class=\"dataframe\">\n",
       "  <thead>\n",
       "    <tr style=\"text-align: right;\">\n",
       "      <th></th>\n",
       "      <th>patient_ID</th>\n",
       "      <th>VALUE</th>\n",
       "      <th>Condition_Description</th>\n",
       "      <th>CODE</th>\n",
       "      <th>Observation_Description</th>\n",
       "    </tr>\n",
       "  </thead>\n",
       "  <tbody>\n",
       "    <tr>\n",
       "      <th>0</th>\n",
       "      <td>f0f3bc8d-ef38-49ce-a2bd-dfdda982b271</td>\n",
       "      <td>840544004</td>\n",
       "      <td>COVID-19</td>\n",
       "      <td>83.0</td>\n",
       "      <td>Adenovirus A+B+C+D+E DNA [Presence] in Respira...</td>\n",
       "    </tr>\n",
       "    <tr>\n",
       "      <th>1</th>\n",
       "      <td>f0f3bc8d-ef38-49ce-a2bd-dfdda982b271</td>\n",
       "      <td>840544004</td>\n",
       "      <td>COVID-19</td>\n",
       "      <td>83.0</td>\n",
       "      <td>Body Height</td>\n",
       "    </tr>\n",
       "    <tr>\n",
       "      <th>2</th>\n",
       "      <td>f0f3bc8d-ef38-49ce-a2bd-dfdda982b271</td>\n",
       "      <td>840544004</td>\n",
       "      <td>COVID-19</td>\n",
       "      <td>83.0</td>\n",
       "      <td>Body Height</td>\n",
       "    </tr>\n",
       "    <tr>\n",
       "      <th>3</th>\n",
       "      <td>f0f3bc8d-ef38-49ce-a2bd-dfdda982b271</td>\n",
       "      <td>840544004</td>\n",
       "      <td>COVID-19</td>\n",
       "      <td>83.0</td>\n",
       "      <td>Body Mass Index</td>\n",
       "    </tr>\n",
       "    <tr>\n",
       "      <th>4</th>\n",
       "      <td>f0f3bc8d-ef38-49ce-a2bd-dfdda982b271</td>\n",
       "      <td>840544004</td>\n",
       "      <td>COVID-19</td>\n",
       "      <td>83.0</td>\n",
       "      <td>Body Weight</td>\n",
       "    </tr>\n",
       "    <tr>\n",
       "      <th>...</th>\n",
       "      <td>...</td>\n",
       "      <td>...</td>\n",
       "      <td>...</td>\n",
       "      <td>...</td>\n",
       "      <td>...</td>\n",
       "    </tr>\n",
       "    <tr>\n",
       "      <th>11736905</th>\n",
       "      <td>2712205f-755e-4897-acb3-926895b7d635</td>\n",
       "      <td>840539006</td>\n",
       "      <td>Joint pain (finding)</td>\n",
       "      <td>140.0</td>\n",
       "      <td>None</td>\n",
       "    </tr>\n",
       "    <tr>\n",
       "      <th>11736906</th>\n",
       "      <td>2712205f-755e-4897-acb3-926895b7d635</td>\n",
       "      <td>840539006</td>\n",
       "      <td>Metabolic syndrome X (disorder)</td>\n",
       "      <td>140.0</td>\n",
       "      <td>None</td>\n",
       "    </tr>\n",
       "    <tr>\n",
       "      <th>11736907</th>\n",
       "      <td>2712205f-755e-4897-acb3-926895b7d635</td>\n",
       "      <td>840539006</td>\n",
       "      <td>Muscle pain (finding)</td>\n",
       "      <td>140.0</td>\n",
       "      <td>None</td>\n",
       "    </tr>\n",
       "    <tr>\n",
       "      <th>11736908</th>\n",
       "      <td>2712205f-755e-4897-acb3-926895b7d635</td>\n",
       "      <td>840539006</td>\n",
       "      <td>Sputum finding (finding)</td>\n",
       "      <td>140.0</td>\n",
       "      <td>None</td>\n",
       "    </tr>\n",
       "    <tr>\n",
       "      <th>11736909</th>\n",
       "      <td>2712205f-755e-4897-acb3-926895b7d635</td>\n",
       "      <td>840539006</td>\n",
       "      <td>Suspected COVID-19</td>\n",
       "      <td>140.0</td>\n",
       "      <td>None</td>\n",
       "    </tr>\n",
       "  </tbody>\n",
       "</table>\n",
       "<p>11736910 rows × 5 columns</p>\n",
       "</div>"
      ],
      "text/plain": [
       "                                    patient_ID      VALUE  \\\n",
       "0         f0f3bc8d-ef38-49ce-a2bd-dfdda982b271  840544004   \n",
       "1         f0f3bc8d-ef38-49ce-a2bd-dfdda982b271  840544004   \n",
       "2         f0f3bc8d-ef38-49ce-a2bd-dfdda982b271  840544004   \n",
       "3         f0f3bc8d-ef38-49ce-a2bd-dfdda982b271  840544004   \n",
       "4         f0f3bc8d-ef38-49ce-a2bd-dfdda982b271  840544004   \n",
       "...                                        ...        ...   \n",
       "11736905  2712205f-755e-4897-acb3-926895b7d635  840539006   \n",
       "11736906  2712205f-755e-4897-acb3-926895b7d635  840539006   \n",
       "11736907  2712205f-755e-4897-acb3-926895b7d635  840539006   \n",
       "11736908  2712205f-755e-4897-acb3-926895b7d635  840539006   \n",
       "11736909  2712205f-755e-4897-acb3-926895b7d635  840539006   \n",
       "\n",
       "                    Condition_Description   CODE  \\\n",
       "0                                COVID-19   83.0   \n",
       "1                                COVID-19   83.0   \n",
       "2                                COVID-19   83.0   \n",
       "3                                COVID-19   83.0   \n",
       "4                                COVID-19   83.0   \n",
       "...                                   ...    ...   \n",
       "11736905             Joint pain (finding)  140.0   \n",
       "11736906  Metabolic syndrome X (disorder)  140.0   \n",
       "11736907            Muscle pain (finding)  140.0   \n",
       "11736908         Sputum finding (finding)  140.0   \n",
       "11736909               Suspected COVID-19  140.0   \n",
       "\n",
       "                                    Observation_Description  \n",
       "0         Adenovirus A+B+C+D+E DNA [Presence] in Respira...  \n",
       "1                                               Body Height  \n",
       "2                                               Body Height  \n",
       "3                                           Body Mass Index  \n",
       "4                                               Body Weight  \n",
       "...                                                     ...  \n",
       "11736905                                               None  \n",
       "11736906                                               None  \n",
       "11736907                                               None  \n",
       "11736908                                               None  \n",
       "11736909                                               None  \n",
       "\n",
       "[11736910 rows x 5 columns]"
      ]
     },
     "execution_count": 40,
     "metadata": {},
     "output_type": "execute_result"
    }
   ],
   "source": [
    "df_infizierte_patienten_infos = pd.read_sql_query(\"SELECT patient_ID, facts_table.VALUE, conditions.DESCRIPTION AS Condition_Description, immunizations.CODE, observations.DESCRIPTION AS Observation_Description FROM facts_table LEFT JOIN conditions ON facts_table.patient_ID = conditions.PATIENT LEFT JOIN immunizations ON facts_table.patient_ID = immunizations.PATIENT LEFT JOIN observations ON facts_table.patient_ID = observations.PATIENT WHERE facts_table.condition_Id is NOT NULL AND (facts_table.VALUE==840539006 OR facts_table.VALUE==840544004)\", conn)\n",
    "df_infizierte_patienten_infos"
   ]
  },
  {
   "cell_type": "code",
   "execution_count": 41,
   "metadata": {},
   "outputs": [
    {
     "data": {
      "text/html": [
       "<div>\n",
       "<style scoped>\n",
       "    .dataframe tbody tr th:only-of-type {\n",
       "        vertical-align: middle;\n",
       "    }\n",
       "\n",
       "    .dataframe tbody tr th {\n",
       "        vertical-align: top;\n",
       "    }\n",
       "\n",
       "    .dataframe thead th {\n",
       "        text-align: right;\n",
       "    }\n",
       "</style>\n",
       "<table border=\"1\" class=\"dataframe\">\n",
       "  <thead>\n",
       "    <tr style=\"text-align: right;\">\n",
       "      <th></th>\n",
       "      <th>Description</th>\n",
       "      <th>Count</th>\n",
       "    </tr>\n",
       "  </thead>\n",
       "  <tbody>\n",
       "    <tr>\n",
       "      <th>2</th>\n",
       "      <td>Fever (finding)</td>\n",
       "      <td>753414</td>\n",
       "    </tr>\n",
       "    <tr>\n",
       "      <th>3</th>\n",
       "      <td>Respiratory distress (finding)</td>\n",
       "      <td>608742</td>\n",
       "    </tr>\n",
       "    <tr>\n",
       "      <th>4</th>\n",
       "      <td>Hypoxemia (disorder)</td>\n",
       "      <td>608742</td>\n",
       "    </tr>\n",
       "    <tr>\n",
       "      <th>5</th>\n",
       "      <td>Pneumonia (disorder)</td>\n",
       "      <td>608742</td>\n",
       "    </tr>\n",
       "    <tr>\n",
       "      <th>6</th>\n",
       "      <td>Cough (finding)</td>\n",
       "      <td>568108</td>\n",
       "    </tr>\n",
       "    <tr>\n",
       "      <th>7</th>\n",
       "      <td>Loss of taste (finding)</td>\n",
       "      <td>431277</td>\n",
       "    </tr>\n",
       "    <tr>\n",
       "      <th>8</th>\n",
       "      <td>Body mass index 30+ - obesity (finding)</td>\n",
       "      <td>324275</td>\n",
       "    </tr>\n",
       "    <tr>\n",
       "      <th>9</th>\n",
       "      <td>Fatigue (finding)</td>\n",
       "      <td>305015</td>\n",
       "    </tr>\n",
       "    <tr>\n",
       "      <th>10</th>\n",
       "      <td>Prediabetes</td>\n",
       "      <td>281945</td>\n",
       "    </tr>\n",
       "    <tr>\n",
       "      <th>11</th>\n",
       "      <td>Anemia (disorder)</td>\n",
       "      <td>268734</td>\n",
       "    </tr>\n",
       "  </tbody>\n",
       "</table>\n",
       "</div>"
      ],
      "text/plain": [
       "                                Description   Count\n",
       "2                           Fever (finding)  753414\n",
       "3            Respiratory distress (finding)  608742\n",
       "4                      Hypoxemia (disorder)  608742\n",
       "5                      Pneumonia (disorder)  608742\n",
       "6                           Cough (finding)  568108\n",
       "7                   Loss of taste (finding)  431277\n",
       "8   Body mass index 30+ - obesity (finding)  324275\n",
       "9                         Fatigue (finding)  305015\n",
       "10                              Prediabetes  281945\n",
       "11                        Anemia (disorder)  268734"
      ]
     },
     "execution_count": 41,
     "metadata": {},
     "output_type": "execute_result"
    }
   ],
   "source": [
    "df_weitere_corona_beschwerden = df_infizierte_patienten_infos.groupby(by=\"Condition_Description\", dropna=True)[\"Condition_Description\"].count().to_frame()\n",
    "df_weitere_corona_beschwerden.insert(loc=0, column='Description', value=df_weitere_corona_beschwerden.index)\n",
    "df_weitere_corona_beschwerden = df_weitere_corona_beschwerden.rename(columns={\"Condition_Description\":\"Count\"})\n",
    "df_weitere_corona_beschwerden = df_weitere_corona_beschwerden.sort_values(by=['Count'], ascending=False).reset_index(drop= True)\n",
    "df_weitere_corona_beschwerden[2:12]"
   ]
  },
  {
   "cell_type": "code",
   "execution_count": 42,
   "metadata": {},
   "outputs": [
    {
     "data": {
      "text/plain": [
       "[]"
      ]
     },
     "execution_count": 42,
     "metadata": {},
     "output_type": "execute_result"
    },
    {
     "data": {
      "image/png": "[encoded data removed]",
      "text/plain": [
       "<Figure size 1440x720 with 2 Axes>"
      ]
     },
     "metadata": {
      "needs_background": "light"
     },
     "output_type": "display_data"
    }
   ],
   "source": [
    "fig, ax = plt.subplots(nrows=2, ncols=1)\n",
    "plt.gcf().set_size_inches(20, 10)\n",
    "\n",
    "#Plot für Kuchendiagramm\n",
    "\n",
    "pie = ax[0].pie(df_weitere_corona_beschwerden[2:12].Count,labels=df_weitere_corona_beschwerden.Description[2:12], autopct = '%0.0f%%')\n",
    "\n",
    "\n",
    "#Plot für Tabelle\n",
    "table = ax[1].table(cellText=df_weitere_corona_beschwerden[2:12].values, colLabels=df_weitere_corona_beschwerden[2:12].columns, loc='center')\n",
    "table.auto_set_font_size(False)\n",
    "table.set_fontsize(12)\n",
    "# ax[1].axis('tight')\n",
    "ax[1].axis('off')\n",
    "\n",
    "\n",
    "fig.suptitle(\"Top 10 Beschwerden an der an Corona erkrankte Patienten leiden\",fontsize=20)\n",
    "plt.plot()"
   ]
  },
  {
   "cell_type": "markdown",
   "metadata": {},
   "source": [
    "Die folgende Query liefert und alle Patienten, die gegen Influenza geimpft wurden. Die Impfung mit dem Code 140 ist die Influenzaimpfung in unserem Datensatz"
   ]
  },
  {
   "cell_type": "code",
   "execution_count": 43,
   "metadata": {},
   "outputs": [
    {
     "name": "stdout",
     "output_type": "stream",
     "text": [
      "                                 patient_ID  VALUE\n",
      "0      f0f3bc8d-ef38-49ce-a2bd-dfdda982b271    140\n",
      "1      067318a4-db8f-447f-8b6e-f2f61e9baaa5    140\n",
      "2      ae9efba3-ddc4-43f9-a781-f72019388548    140\n",
      "3      199c586f-af16-4091-9998-ee4cfc02ee7a    140\n",
      "4      f58bf921-cba1-475a-b4f8-dc6fa3b8f89c    140\n",
      "...                                     ...    ...\n",
      "10252  eec72396-d10e-4b8e-8fb6-25fc1e396031    140\n",
      "10253  3daf2b90-c439-469f-bb44-fb6109c6a8a7    140\n",
      "10254  cb03d88e-7f08-46a1-be78-70d9fe8262a7    140\n",
      "10255  435be43f-cb57-442f-aeb2-51018b030ed0    140\n",
      "10256  2712205f-755e-4897-acb3-926895b7d635    140\n",
      "\n",
      "[10257 rows x 2 columns]\n"
     ]
    }
   ],
   "source": [
    "print(pd.read_sql_query(\"SELECT DISTINCT patient_ID, VALUE FROM facts_table WHERE immunization_code is NOT NULL AND VALUE==140\", conn))"
   ]
  },
  {
   "cell_type": "markdown",
   "metadata": {},
   "source": [
    "Die folgende Query liefert und alle Patienten, die gegen Influenza geimpft wurden. Jeder Patient der als VALUE \"COVID-19\" hat, ist an Covid-19 gestorben. Nach unserer Definition gilt ein Verlauf als schwer, wenn der Patient stirbt."
   ]
  },
  {
   "cell_type": "code",
   "execution_count": 44,
   "metadata": {},
   "outputs": [
    {
     "name": "stdout",
     "output_type": "stream",
     "text": [
      "                              patient_ID     VALUE\n",
      "0   c70992c9-ff13-467b-9032-1901506edeef  COVID-19\n",
      "1   a5c39700-6bf3-4984-af46-31344695e21b  COVID-19\n",
      "2   edad31f3-5a08-4678-8d31-271a41a2aad5  COVID-19\n",
      "3   000e7adf-cbaa-4fad-ab2f-658c32f7d4d3  COVID-19\n",
      "4   ce718268-3e91-4d5d-98d0-508286f0eeb2  COVID-19\n",
      "5   34916863-676d-4224-9356-c28e78526641  COVID-19\n",
      "6   c16e1174-233b-4efd-8f47-aa12b35aef8a  COVID-19\n",
      "7   dd5a1f10-b8e6-4141-8e0a-26f34f4ce412  COVID-19\n",
      "8   6ef1728a-28e0-4dbd-989f-d91ebeffbac4  COVID-19\n",
      "9   1505bc4d-8843-425b-aaa3-0e431d9402fd  COVID-19\n",
      "10  0100f99a-1b5d-4a5b-a73f-559a920412e5  COVID-19\n",
      "11  d4b977ce-8d36-4651-a593-4e403b78947f  COVID-19\n",
      "12  7a51f54b-bf90-4319-a53f-76646e791e55  COVID-19\n",
      "13  78d06517-d48c-49ef-ada2-8b5290b113dc  COVID-19\n",
      "14  0008a63c-c95c-46c2-9ef3-831d68892019  COVID-19\n",
      "15  991959ab-0188-4916-aa95-664845579bb0  COVID-19\n",
      "16  51d02f7d-6a65-4d6c-aa5f-ef43f1e372cb  COVID-19\n",
      "17  05fdcc72-b031-4947-a364-b29027807d53  COVID-19\n",
      "18  9cd159bb-f711-45b3-a353-1e354587b488  COVID-19\n",
      "19  9194a6db-4891-4ece-88ba-dd74d25ea820  COVID-19\n",
      "20  65091553-c127-452d-b050-e0e7694a4adc  COVID-19\n",
      "21  0ee2ca2c-71b8-4fff-b54e-0fa2f12dfbe2  COVID-19\n",
      "22  4edbeaf9-2af2-415d-a3d7-e5deb030bbc8  COVID-19\n",
      "23  ad45726f-9cb6-442a-b791-9e5517cc4cf8  COVID-19\n",
      "24  06559de6-a90b-46d9-b9bf-1eb876f3c176  COVID-19\n",
      "25  78b120c7-c8d4-41e1-99ba-9b1dfd67f10c  COVID-19\n",
      "26  86e6a3f7-7e01-4fbd-adcd-6bbd0d0f3b08  COVID-19\n",
      "27  8c6e59ac-c172-48f6-9e3d-5bdce628ddef  COVID-19\n",
      "28  9233763a-9561-4d51-8042-c47479943e08  COVID-19\n",
      "29  78a51a83-76cb-4036-ad2b-24e9b374a38b  COVID-19\n",
      "30  470a1368-5596-4d38-9593-e5d67a6e156d  COVID-19\n",
      "31  ff966dc4-d43d-40f7-b225-3a2034cdd962  COVID-19\n",
      "32  cbf2e833-5353-4363-bad9-dc437d8ed633  COVID-19\n",
      "33  388fcce3-1177-4d6a-8162-3d5ff72e0e6b  COVID-19\n",
      "34  8e0e0ea6-85e8-48c3-b49b-ea5a6d1dae03  COVID-19\n",
      "35  ef115d26-74a0-4a28-8bdb-ea8040280e4b  COVID-19\n",
      "36  13ea4104-f299-4e93-bba8-322c1576eb2a  COVID-19\n",
      "37  b6ee973b-c3a2-4fea-a513-83231f63a203  COVID-19\n",
      "38  c2a6ae4b-becd-41d6-827a-4deb130c759e  COVID-19\n",
      "39  cd43cc40-feac-42ca-b80c-201ab04cc3ea  COVID-19\n",
      "40  7f72e14f-b69a-4aa9-a193-10db5c497fa8  COVID-19\n",
      "41  7b2ebfc2-1850-4b59-998b-34d0dfa8c244  COVID-19\n",
      "42  d606ae07-cf79-472f-9b31-71b4d844b613  COVID-19\n",
      "43  a734198b-05b6-4d25-8626-d0325712637e  COVID-19\n",
      "44  4e1b7d92-4424-4f93-a4fa-aa0af3311f5a  COVID-19\n",
      "45  27c2228d-c127-4325-90b7-f96e078cc34e  COVID-19\n",
      "46  99b1394b-14a1-4494-91a0-1bc4fbf995fd  COVID-19\n",
      "47  26151e55-00b0-412b-8969-ed919ccce8cf  COVID-19\n"
     ]
    }
   ],
   "source": [
    "print(pd.read_sql_query(\"SELECT DISTINCT patient_ID, VALUE FROM facts_table WHERE observation_code is NOT NULL AND VALUE=='COVID-19'\", conn))"
   ]
  },
  {
   "cell_type": "markdown",
   "metadata": {},
   "source": [
    "### Wie viele Patienten sind insgesamt gegen Influenza geimpft?"
   ]
  },
  {
   "cell_type": "markdown",
   "metadata": {},
   "source": [
    "Mit der folgenden Query werden alle Patienten die in der Impftabelle vorhanden sind ausgegeben"
   ]
  },
  {
   "cell_type": "code",
   "execution_count": 45,
   "metadata": {},
   "outputs": [],
   "source": [
    "df_alle_impfungen = pd.read_sql_query(\"SELECT DISTINCT patient_ID, VALUE FROM facts_table WHERE immunization_code is NOT NULL\", conn)"
   ]
  },
  {
   "cell_type": "markdown",
   "metadata": {},
   "source": [
    "Hier werden die Patienten kategorisiert. Die Kategorien sind \"Hat eine Influenza Impfung erhalten\" und \"Hat keine Influenza Impfung erhalten\""
   ]
  },
  {
   "cell_type": "code",
   "execution_count": 46,
   "metadata": {},
   "outputs": [
    {
     "data": {
      "text/html": [
       "<div>\n",
       "<style scoped>\n",
       "    .dataframe tbody tr th:only-of-type {\n",
       "        vertical-align: middle;\n",
       "    }\n",
       "\n",
       "    .dataframe tbody tr th {\n",
       "        vertical-align: top;\n",
       "    }\n",
       "\n",
       "    .dataframe thead th {\n",
       "        text-align: right;\n",
       "    }\n",
       "</style>\n",
       "<table border=\"1\" class=\"dataframe\">\n",
       "  <thead>\n",
       "    <tr style=\"text-align: right;\">\n",
       "      <th></th>\n",
       "      <th>Patienten</th>\n",
       "      <th>Grippe Impfung</th>\n",
       "    </tr>\n",
       "  </thead>\n",
       "  <tbody>\n",
       "    <tr>\n",
       "      <th>0</th>\n",
       "      <td>f0f3bc8d-ef38-49ce-a2bd-dfdda982b271</td>\n",
       "      <td>True</td>\n",
       "    </tr>\n",
       "    <tr>\n",
       "      <th>1</th>\n",
       "      <td>067318a4-db8f-447f-8b6e-f2f61e9baaa5</td>\n",
       "      <td>True</td>\n",
       "    </tr>\n",
       "    <tr>\n",
       "      <th>2</th>\n",
       "      <td>ae9efba3-ddc4-43f9-a781-f72019388548</td>\n",
       "      <td>True</td>\n",
       "    </tr>\n",
       "    <tr>\n",
       "      <th>3</th>\n",
       "      <td>199c586f-af16-4091-9998-ee4cfc02ee7a</td>\n",
       "      <td>True</td>\n",
       "    </tr>\n",
       "    <tr>\n",
       "      <th>4</th>\n",
       "      <td>f58bf921-cba1-475a-b4f8-dc6fa3b8f89c</td>\n",
       "      <td>True</td>\n",
       "    </tr>\n",
       "    <tr>\n",
       "      <th>...</th>\n",
       "      <td>...</td>\n",
       "      <td>...</td>\n",
       "    </tr>\n",
       "    <tr>\n",
       "      <th>10371</th>\n",
       "      <td>eec72396-d10e-4b8e-8fb6-25fc1e396031</td>\n",
       "      <td>True</td>\n",
       "    </tr>\n",
       "    <tr>\n",
       "      <th>10372</th>\n",
       "      <td>3daf2b90-c439-469f-bb44-fb6109c6a8a7</td>\n",
       "      <td>True</td>\n",
       "    </tr>\n",
       "    <tr>\n",
       "      <th>10373</th>\n",
       "      <td>cb03d88e-7f08-46a1-be78-70d9fe8262a7</td>\n",
       "      <td>True</td>\n",
       "    </tr>\n",
       "    <tr>\n",
       "      <th>10374</th>\n",
       "      <td>435be43f-cb57-442f-aeb2-51018b030ed0</td>\n",
       "      <td>True</td>\n",
       "    </tr>\n",
       "    <tr>\n",
       "      <th>10375</th>\n",
       "      <td>2712205f-755e-4897-acb3-926895b7d635</td>\n",
       "      <td>True</td>\n",
       "    </tr>\n",
       "  </tbody>\n",
       "</table>\n",
       "<p>10376 rows × 2 columns</p>\n",
       "</div>"
      ],
      "text/plain": [
       "                                  Patienten  Grippe Impfung\n",
       "0      f0f3bc8d-ef38-49ce-a2bd-dfdda982b271            True\n",
       "1      067318a4-db8f-447f-8b6e-f2f61e9baaa5            True\n",
       "2      ae9efba3-ddc4-43f9-a781-f72019388548            True\n",
       "3      199c586f-af16-4091-9998-ee4cfc02ee7a            True\n",
       "4      f58bf921-cba1-475a-b4f8-dc6fa3b8f89c            True\n",
       "...                                     ...             ...\n",
       "10371  eec72396-d10e-4b8e-8fb6-25fc1e396031            True\n",
       "10372  3daf2b90-c439-469f-bb44-fb6109c6a8a7            True\n",
       "10373  cb03d88e-7f08-46a1-be78-70d9fe8262a7            True\n",
       "10374  435be43f-cb57-442f-aeb2-51018b030ed0            True\n",
       "10375  2712205f-755e-4897-acb3-926895b7d635            True\n",
       "\n",
       "[10376 rows x 2 columns]"
      ]
     },
     "execution_count": 46,
     "metadata": {},
     "output_type": "execute_result"
    }
   ],
   "source": [
    "geimpfte = []\n",
    "geimpfte_patienten_all_df = pd.DataFrame(columns=['Patienten', 'Grippe Impfung'])\n",
    "geimpfte_patienten_all_df.Patienten = df_alle_impfungen.patient_ID.unique()\n",
    "\n",
    "#Prüfung ob der Code 140 in den Daten enthalten ist, dieser gibt Aufschluss darauf ob die Patienten eine Grippeimpfung erhalten haben. \n",
    "for id in df_alle_impfungen.patient_ID.unique():\n",
    "    patient = df_alle_impfungen.loc[df_alle_impfungen.patient_ID == id]\n",
    "    exist = 140 in patient['VALUE'].unique()\n",
    "    geimpfte .append(exist)\n",
    "geimpfte_patienten_all_df['Grippe Impfung']= geimpfte \n",
    "geimpfte_patienten_all_df"
   ]
  },
  {
   "cell_type": "code",
   "execution_count": 47,
   "metadata": {},
   "outputs": [
    {
     "name": "stdout",
     "output_type": "stream",
     "text": [
      "Es wurden 10257 Patienten gegen Influenza geimpft\n",
      "119 Patienten wurden nicht gegen Influenza geimpft\n"
     ]
    }
   ],
   "source": [
    "print(\"Es wurden\", geimpfte_patienten_all_df['Grippe Impfung'].value_counts()[True], \"Patienten gegen Influenza geimpft\")\n",
    "print(geimpfte_patienten_all_df['Grippe Impfung'].value_counts()[False], \"Patienten wurden nicht gegen Influenza geimpft\")\n"
   ]
  },
  {
   "cell_type": "code",
   "execution_count": 48,
   "metadata": {},
   "outputs": [
    {
     "data": {
      "text/plain": [
       "0.9885312259059368"
      ]
     },
     "execution_count": 48,
     "metadata": {},
     "output_type": "execute_result"
    }
   ],
   "source": [
    "verhaeltnis_geimpft_insgesamt = geimpfte_patienten_all_df['Grippe Impfung'].value_counts()[True] / len(geimpfte_patienten_all_df.index)\n",
    "verhaeltnis_geimpft_insgesamt"
   ]
  },
  {
   "cell_type": "code",
   "execution_count": 49,
   "metadata": {},
   "outputs": [
    {
     "data": {
      "text/plain": [
       "0.011468774094063224"
      ]
     },
     "execution_count": 49,
     "metadata": {},
     "output_type": "execute_result"
    }
   ],
   "source": [
    "verhaeltnis_ungeimpft_insgesamt = geimpfte_patienten_all_df['Grippe Impfung'].value_counts()[False] / len(geimpfte_patienten_all_df.index)\n",
    "verhaeltnis_ungeimpft_insgesamt"
   ]
  },
  {
   "cell_type": "code",
   "execution_count": 50,
   "metadata": {},
   "outputs": [
    {
     "data": {
      "image/png": "[encoded data removed]",
      "text/plain": [
       "<Figure size 1440x720 with 1 Axes>"
      ]
     },
     "metadata": {},
     "output_type": "display_data"
    }
   ],
   "source": [
    "plt.gcf().set_size_inches(20, 10)\n",
    "data = [verhaeltnis_geimpft_insgesamt, verhaeltnis_ungeimpft_insgesamt]\n",
    "labels = ['Geimpfte insgesamt', 'Ungeimpfte insgesamt']\n",
    "plt.title(\"Verhältnis gegen Influenza geimpfte und ungeimpfte bei allen Patienten\")\n",
    "plt.pie(data, labels=labels, autopct = '%0.0f%%')\n",
    "plt.show()"
   ]
  },
  {
   "cell_type": "code",
   "execution_count": 51,
   "metadata": {},
   "outputs": [
    {
     "data": {
      "text/plain": [
       "Text(0.5, 0, 'Influenza Impfung')"
      ]
     },
     "execution_count": 51,
     "metadata": {},
     "output_type": "execute_result"
    },
    {
     "data": {
      "image/png": "[encoded data removed]",
      "text/plain": [
       "<Figure size 1440x720 with 1 Axes>"
      ]
     },
     "metadata": {
      "needs_background": "light"
     },
     "output_type": "display_data"
    }
   ],
   "source": [
    "plt.gcf().set_size_inches(20, 10)\n",
    "countplot_gestorbene = sns.countplot(x=\"Grippe Impfung\", data=geimpfte_patienten_all_df)\n",
    "countplot_gestorbene.set_ylabel(\"Anzahl Gestorbene\")\n",
    "countplot_gestorbene.set_xlabel(\"Influenza Impfung\")"
   ]
  },
  {
   "cell_type": "markdown",
   "metadata": {},
   "source": [
    "Es wird deutlich, dass es mehr Patienten gibt, die eine Influenza Impfung erhalten haben, als Patienten die keine Influenza Impfung erhalten haben. "
   ]
  },
  {
   "cell_type": "markdown",
   "metadata": {},
   "source": [
    "### Wie viele gestorbene waren gegen Influenza geimpft?"
   ]
  },
  {
   "cell_type": "markdown",
   "metadata": {},
   "source": [
    "VALUE=840539006 und VALUE=840544004 bedeuten Suspected COVID-19 und COVID-19"
   ]
  },
  {
   "cell_type": "code",
   "execution_count": 52,
   "metadata": {},
   "outputs": [],
   "source": [
    "df_gestorbene_patienten_infos = pd.read_sql_query(\"SELECT patient_ID, facts_table.VALUE, conditions.DESCRIPTION AS Condition_Description, immunizations.CODE, observations.DESCRIPTION AS Observation_Description FROM facts_table LEFT JOIN conditions ON facts_table.patient_ID = conditions.PATIENT LEFT JOIN immunizations ON facts_table.patient_ID = immunizations.PATIENT LEFT JOIN observations ON facts_table.patient_ID = observations.PATIENT WHERE facts_table.condition_Id is NOT NULL AND (facts_table.VALUE==840539006 OR facts_table.VALUE==840544004) AND observations.VALUE=='COVID-19'\", conn)"
   ]
  },
  {
   "cell_type": "markdown",
   "metadata": {},
   "source": [
    "Aufbau des Dataframes"
   ]
  },
  {
   "cell_type": "code",
   "execution_count": 53,
   "metadata": {},
   "outputs": [
    {
     "data": {
      "text/html": [
       "<div>\n",
       "<style scoped>\n",
       "    .dataframe tbody tr th:only-of-type {\n",
       "        vertical-align: middle;\n",
       "    }\n",
       "\n",
       "    .dataframe tbody tr th {\n",
       "        vertical-align: top;\n",
       "    }\n",
       "\n",
       "    .dataframe thead th {\n",
       "        text-align: right;\n",
       "    }\n",
       "</style>\n",
       "<table border=\"1\" class=\"dataframe\">\n",
       "  <thead>\n",
       "    <tr style=\"text-align: right;\">\n",
       "      <th></th>\n",
       "      <th>patient_ID</th>\n",
       "      <th>VALUE</th>\n",
       "      <th>Condition_Description</th>\n",
       "      <th>CODE</th>\n",
       "      <th>Observation_Description</th>\n",
       "    </tr>\n",
       "  </thead>\n",
       "  <tbody>\n",
       "    <tr>\n",
       "      <th>2257</th>\n",
       "      <td>26151e55-00b0-412b-8969-ed919ccce8cf</td>\n",
       "      <td>840539006</td>\n",
       "      <td>Pneumonia (disorder)</td>\n",
       "      <td>140.0</td>\n",
       "      <td>Cause of Death [US Standard Certificate of Death]</td>\n",
       "    </tr>\n",
       "    <tr>\n",
       "      <th>2258</th>\n",
       "      <td>26151e55-00b0-412b-8969-ed919ccce8cf</td>\n",
       "      <td>840539006</td>\n",
       "      <td>Respiratory distress (finding)</td>\n",
       "      <td>140.0</td>\n",
       "      <td>Cause of Death [US Standard Certificate of Death]</td>\n",
       "    </tr>\n",
       "    <tr>\n",
       "      <th>2259</th>\n",
       "      <td>26151e55-00b0-412b-8969-ed919ccce8cf</td>\n",
       "      <td>840539006</td>\n",
       "      <td>Sepsis caused by virus (disorder)</td>\n",
       "      <td>140.0</td>\n",
       "      <td>Cause of Death [US Standard Certificate of Death]</td>\n",
       "    </tr>\n",
       "    <tr>\n",
       "      <th>2260</th>\n",
       "      <td>26151e55-00b0-412b-8969-ed919ccce8cf</td>\n",
       "      <td>840539006</td>\n",
       "      <td>Suspected COVID-19</td>\n",
       "      <td>140.0</td>\n",
       "      <td>Cause of Death [US Standard Certificate of Death]</td>\n",
       "    </tr>\n",
       "    <tr>\n",
       "      <th>2261</th>\n",
       "      <td>26151e55-00b0-412b-8969-ed919ccce8cf</td>\n",
       "      <td>840539006</td>\n",
       "      <td>Wheezing (finding)</td>\n",
       "      <td>140.0</td>\n",
       "      <td>Cause of Death [US Standard Certificate of Death]</td>\n",
       "    </tr>\n",
       "  </tbody>\n",
       "</table>\n",
       "</div>"
      ],
      "text/plain": [
       "                                patient_ID      VALUE  \\\n",
       "2257  26151e55-00b0-412b-8969-ed919ccce8cf  840539006   \n",
       "2258  26151e55-00b0-412b-8969-ed919ccce8cf  840539006   \n",
       "2259  26151e55-00b0-412b-8969-ed919ccce8cf  840539006   \n",
       "2260  26151e55-00b0-412b-8969-ed919ccce8cf  840539006   \n",
       "2261  26151e55-00b0-412b-8969-ed919ccce8cf  840539006   \n",
       "\n",
       "                  Condition_Description   CODE  \\\n",
       "2257               Pneumonia (disorder)  140.0   \n",
       "2258     Respiratory distress (finding)  140.0   \n",
       "2259  Sepsis caused by virus (disorder)  140.0   \n",
       "2260                 Suspected COVID-19  140.0   \n",
       "2261                 Wheezing (finding)  140.0   \n",
       "\n",
       "                                Observation_Description  \n",
       "2257  Cause of Death [US Standard Certificate of Death]  \n",
       "2258  Cause of Death [US Standard Certificate of Death]  \n",
       "2259  Cause of Death [US Standard Certificate of Death]  \n",
       "2260  Cause of Death [US Standard Certificate of Death]  \n",
       "2261  Cause of Death [US Standard Certificate of Death]  "
      ]
     },
     "execution_count": 53,
     "metadata": {},
     "output_type": "execute_result"
    }
   ],
   "source": [
    "df_gestorbene_patienten_infos.tail()"
   ]
  },
  {
   "cell_type": "markdown",
   "metadata": {},
   "source": [
    "Hier werden alle gestorbenen Patienten durchsucht, haben sie eine Influenzaimpfung erhalten, werden sie mit TRUE markiert."
   ]
  },
  {
   "cell_type": "code",
   "execution_count": 54,
   "metadata": {},
   "outputs": [],
   "source": [
    "impfkandidat = []\n",
    "geimpfte_patienten_df = pd.DataFrame(columns=['Patienten', 'Grippe Impfung'])\n",
    "geimpfte_patienten_df.Patienten = df_gestorbene_patienten_infos.patient_ID.unique()\n",
    "\n",
    "#Prüfung ob der Code 140 in den Daten enthalten ist, dieser gibt Aufschluss darauf ob die Patienten eine Grippeimpfung erhalten haben. \n",
    "for id in df_gestorbene_patienten_infos.patient_ID.unique():\n",
    "    patient = df_gestorbene_patienten_infos.loc[df_gestorbene_patienten_infos.patient_ID == id]\n",
    "    exist = 140 in patient['CODE'].unique()\n",
    "    impfkandidat.append(exist)\n",
    "geimpfte_patienten_df['Grippe Impfung']= impfkandidat\n"
   ]
  },
  {
   "cell_type": "code",
   "execution_count": 55,
   "metadata": {},
   "outputs": [
    {
     "data": {
      "text/plain": [
       "0.8125"
      ]
     },
     "execution_count": 55,
     "metadata": {},
     "output_type": "execute_result"
    }
   ],
   "source": [
    "verhaeltnis_geimpft_tote = geimpfte_patienten_df['Grippe Impfung'].value_counts()[True] / len(geimpfte_patienten_df.index)\n",
    "verhaeltnis_geimpft_tote"
   ]
  },
  {
   "cell_type": "markdown",
   "metadata": {},
   "source": [
    "81,25% aller gestorbenen waren gegen Influenza geimpft"
   ]
  },
  {
   "cell_type": "code",
   "execution_count": 56,
   "metadata": {},
   "outputs": [
    {
     "data": {
      "text/plain": [
       "0.1875"
      ]
     },
     "execution_count": 56,
     "metadata": {},
     "output_type": "execute_result"
    }
   ],
   "source": [
    "verhaeltnis_ungeimpft_tote = geimpfte_patienten_df['Grippe Impfung'].value_counts()[False] / len(geimpfte_patienten_df.index)\n",
    "verhaeltnis_ungeimpft_tote"
   ]
  },
  {
   "cell_type": "markdown",
   "metadata": {},
   "source": [
    "18,75% aller gestorbenen waren nicht gegen Influenza geimpft"
   ]
  },
  {
   "cell_type": "code",
   "execution_count": 57,
   "metadata": {},
   "outputs": [
    {
     "data": {
      "text/plain": [
       "Text(0.5, 0, 'Influenza Impfung')"
      ]
     },
     "execution_count": 57,
     "metadata": {},
     "output_type": "execute_result"
    },
    {
     "data": {
      "image/png": "[encoded data removed]",
      "text/plain": [
       "<Figure size 1440x720 with 1 Axes>"
      ]
     },
     "metadata": {
      "needs_background": "light"
     },
     "output_type": "display_data"
    }
   ],
   "source": [
    "plt.gcf().set_size_inches(20, 10)\n",
    "countplot_gestorbene = sns.countplot(x=\"Grippe Impfung\", data=geimpfte_patienten_df)\n",
    "countplot_gestorbene.set_ylabel(\"Anzahl Gestorbene\")\n",
    "countplot_gestorbene.set_xlabel(\"Influenza Impfung\")"
   ]
  },
  {
   "cell_type": "code",
   "execution_count": 58,
   "metadata": {},
   "outputs": [
    {
     "data": {
      "image/png": "[encoded data removed]",
      "text/plain": [
       "<Figure size 1440x720 with 1 Axes>"
      ]
     },
     "metadata": {},
     "output_type": "display_data"
    }
   ],
   "source": [
    "plt.gcf().set_size_inches(20, 10)\n",
    "plt.title(\"Verhältnis gegen Influenza geimpfte und ungeimpfte bei gestorbenen Patienten\")\n",
    "data = [verhaeltnis_geimpft_tote, verhaeltnis_ungeimpft_tote]\n",
    "labels = ['Geimpfte gestorbene', 'Ungeimpfte Gestorbene']\n",
    "plt.pie(data, labels=labels, autopct = '%0.0f%%')\n",
    "plt.show()"
   ]
  },
  {
   "cell_type": "markdown",
   "metadata": {},
   "source": [
    "Generell sind im Datensatz deutlich mehr Influenzageimpfte Patienten (99%) als nicht gegen Influenza geimpfte Patienten (1%) vorhanden. Dieses Verhältnis hat sich bei den gestorbenen Patienten verändert, hier sind 19% der gestorbenen nicht gegen Influenza geimpft. Daraus könnte man schließen, dass die Sterbewahrscheinlichkeit für Covid-19 ohne Influenzaimpfung höher ist.\n",
    "Nahliegender ist allerdings, dass Patienten, die sich gegen Influenza impfen lassen, auch offener gegenüber einer COVID-19 Impfung sind. Dies können wir aufgrund fehlender Daten leider nicht überprüfen."
   ]
  },
  {
   "cell_type": "markdown",
   "metadata": {},
   "source": [
    "## Hat die Ethnie einfluss auf die Sterbewahrscheinlichkeit bei Covid-19?"
   ]
  },
  {
   "cell_type": "markdown",
   "metadata": {},
   "source": [
    "Betrachtung für alle Patienten:"
   ]
  },
  {
   "cell_type": "code",
   "execution_count": 59,
   "metadata": {},
   "outputs": [],
   "source": [
    "df_ethnien_alle =  pd.read_sql_query(\"SELECT patient_ID, patients.ETHNICITY, patients.RACE, facts_table.VALUE, conditions.DESCRIPTION AS Condition_Description, immunizations.CODE, observations.DESCRIPTION AS Observation_Description FROM facts_table LEFT JOIN conditions ON facts_table.patient_ID = conditions.PATIENT LEFT JOIN immunizations ON facts_table.patient_ID = immunizations.PATIENT LEFT JOIN observations ON facts_table.patient_ID = observations.PATIENT LEFT JOIN patients ON facts_table.patient_ID = patients.Id WHERE facts_table.condition_Id is NOT NULL AND (facts_table.VALUE==840539006 OR facts_table.VALUE==840544004)\", conn)"
   ]
  },
  {
   "cell_type": "code",
   "execution_count": 60,
   "metadata": {},
   "outputs": [],
   "source": [
    "df_ethnien_alle_counted = df_ethnien_alle.groupby(by=[\"RACE\", \"ETHNICITY\"], dropna=True)[\"RACE\"].count().to_frame()\n",
    "df_ethnien_alle_counted.insert(loc=0, column=\"Ethnie\", value=df_ethnien_alle_counted.index)\n",
    "df_ethnien_alle_counted.rename(columns = {'RACE':'Count'}, inplace = True)\n",
    "df_ethnien_alle_counted = df_ethnien_alle_counted.reset_index(drop=True)"
   ]
  },
  {
   "cell_type": "code",
   "execution_count": 61,
   "metadata": {},
   "outputs": [],
   "source": [
    "df_ethnien_alle_counted.drop(index=[4,5,6,7], inplace=True)\n",
    "df_ethnien_alle_counted = df_ethnien_alle_counted.reset_index(drop=True)"
   ]
  },
  {
   "cell_type": "code",
   "execution_count": 62,
   "metadata": {},
   "outputs": [
    {
     "data": {
      "text/html": [
       "<div>\n",
       "<style scoped>\n",
       "    .dataframe tbody tr th:only-of-type {\n",
       "        vertical-align: middle;\n",
       "    }\n",
       "\n",
       "    .dataframe tbody tr th {\n",
       "        vertical-align: top;\n",
       "    }\n",
       "\n",
       "    .dataframe thead th {\n",
       "        text-align: right;\n",
       "    }\n",
       "</style>\n",
       "<table border=\"1\" class=\"dataframe\">\n",
       "  <thead>\n",
       "    <tr style=\"text-align: right;\">\n",
       "      <th></th>\n",
       "      <th>Ethnie</th>\n",
       "      <th>Count</th>\n",
       "      <th>percentage</th>\n",
       "    </tr>\n",
       "  </thead>\n",
       "  <tbody>\n",
       "    <tr>\n",
       "      <th>0</th>\n",
       "      <td>(asian, hispanic)</td>\n",
       "      <td>76974</td>\n",
       "      <td>0.657233</td>\n",
       "    </tr>\n",
       "    <tr>\n",
       "      <th>1</th>\n",
       "      <td>(asian, nonhispanic)</td>\n",
       "      <td>695198</td>\n",
       "      <td>5.935860</td>\n",
       "    </tr>\n",
       "    <tr>\n",
       "      <th>2</th>\n",
       "      <td>(black, hispanic)</td>\n",
       "      <td>153228</td>\n",
       "      <td>1.308318</td>\n",
       "    </tr>\n",
       "    <tr>\n",
       "      <th>3</th>\n",
       "      <td>(black, nonhispanic)</td>\n",
       "      <td>700632</td>\n",
       "      <td>5.982257</td>\n",
       "    </tr>\n",
       "    <tr>\n",
       "      <th>4</th>\n",
       "      <td>(white, hispanic)</td>\n",
       "      <td>824122</td>\n",
       "      <td>7.036661</td>\n",
       "    </tr>\n",
       "    <tr>\n",
       "      <th>5</th>\n",
       "      <td>(white, nonhispanic)</td>\n",
       "      <td>9261679</td>\n",
       "      <td>79.079671</td>\n",
       "    </tr>\n",
       "  </tbody>\n",
       "</table>\n",
       "</div>"
      ],
      "text/plain": [
       "                 Ethnie    Count  percentage\n",
       "0     (asian, hispanic)    76974    0.657233\n",
       "1  (asian, nonhispanic)   695198    5.935860\n",
       "2     (black, hispanic)   153228    1.308318\n",
       "3  (black, nonhispanic)   700632    5.982257\n",
       "4     (white, hispanic)   824122    7.036661\n",
       "5  (white, nonhispanic)  9261679   79.079671"
      ]
     },
     "execution_count": 62,
     "metadata": {},
     "output_type": "execute_result"
    }
   ],
   "source": [
    "df_ethnien_alle_counted[\"percentage\"] = (df_ethnien_alle_counted.Count / df_ethnien_alle_counted.Count.sum()) * 100\n",
    "df_ethnien_alle_counted"
   ]
  },
  {
   "cell_type": "code",
   "execution_count": 63,
   "metadata": {},
   "outputs": [
    {
     "data": {
      "image/png": "[encoded data removed]",
      "text/plain": [
       "<Figure size 1440x720 with 1 Axes>"
      ]
     },
     "metadata": {
      "needs_background": "light"
     },
     "output_type": "display_data"
    }
   ],
   "source": [
    "ax = sns.barplot(x=\"Ethnie\", y=\"percentage\", data=df_ethnien_alle_counted)\n",
    "plt.gcf().set_size_inches(20, 10)"
   ]
  },
  {
   "cell_type": "markdown",
   "metadata": {},
   "source": [
    "Betrachtung für gestorbene Patienten:"
   ]
  },
  {
   "cell_type": "code",
   "execution_count": 64,
   "metadata": {},
   "outputs": [],
   "source": [
    "df_ethnien_gestorbene =  pd.read_sql_query(\"SELECT patient_ID, patients.ETHNICITY, patients.RACE, facts_table.VALUE, conditions.DESCRIPTION AS Condition_Description, immunizations.CODE, observations.DESCRIPTION AS Observation_Description FROM facts_table LEFT JOIN conditions ON facts_table.patient_ID = conditions.PATIENT LEFT JOIN immunizations ON facts_table.patient_ID = immunizations.PATIENT LEFT JOIN observations ON facts_table.patient_ID = observations.PATIENT LEFT JOIN patients ON facts_table.patient_ID = patients.Id WHERE facts_table.condition_Id is NOT NULL AND (facts_table.VALUE==840539006 OR facts_table.VALUE==840544004) AND observations.VALUE=='COVID-19'\", conn)"
   ]
  },
  {
   "cell_type": "code",
   "execution_count": 65,
   "metadata": {},
   "outputs": [
    {
     "data": {
      "text/html": [
       "<div>\n",
       "<style scoped>\n",
       "    .dataframe tbody tr th:only-of-type {\n",
       "        vertical-align: middle;\n",
       "    }\n",
       "\n",
       "    .dataframe tbody tr th {\n",
       "        vertical-align: top;\n",
       "    }\n",
       "\n",
       "    .dataframe thead th {\n",
       "        text-align: right;\n",
       "    }\n",
       "</style>\n",
       "<table border=\"1\" class=\"dataframe\">\n",
       "  <thead>\n",
       "    <tr style=\"text-align: right;\">\n",
       "      <th></th>\n",
       "      <th>Ethnie</th>\n",
       "      <th>Count</th>\n",
       "      <th>percentage</th>\n",
       "    </tr>\n",
       "  </thead>\n",
       "  <tbody>\n",
       "    <tr>\n",
       "      <th>0</th>\n",
       "      <td>(asian, hispanic)</td>\n",
       "      <td>36</td>\n",
       "      <td>1.591512</td>\n",
       "    </tr>\n",
       "    <tr>\n",
       "      <th>1</th>\n",
       "      <td>(black, hispanic)</td>\n",
       "      <td>46</td>\n",
       "      <td>2.033599</td>\n",
       "    </tr>\n",
       "    <tr>\n",
       "      <th>2</th>\n",
       "      <td>(black, nonhispanic)</td>\n",
       "      <td>194</td>\n",
       "      <td>8.576481</td>\n",
       "    </tr>\n",
       "    <tr>\n",
       "      <th>3</th>\n",
       "      <td>(white, hispanic)</td>\n",
       "      <td>46</td>\n",
       "      <td>2.033599</td>\n",
       "    </tr>\n",
       "    <tr>\n",
       "      <th>4</th>\n",
       "      <td>(white, nonhispanic)</td>\n",
       "      <td>1940</td>\n",
       "      <td>85.764810</td>\n",
       "    </tr>\n",
       "  </tbody>\n",
       "</table>\n",
       "</div>"
      ],
      "text/plain": [
       "                 Ethnie  Count  percentage\n",
       "0     (asian, hispanic)     36    1.591512\n",
       "1     (black, hispanic)     46    2.033599\n",
       "2  (black, nonhispanic)    194    8.576481\n",
       "3     (white, hispanic)     46    2.033599\n",
       "4  (white, nonhispanic)   1940   85.764810"
      ]
     },
     "execution_count": 65,
     "metadata": {},
     "output_type": "execute_result"
    }
   ],
   "source": [
    "df_ethnien_gestorbene_counted = df_ethnien_gestorbene.groupby(by=[\"RACE\", \"ETHNICITY\"], dropna=True)[\"RACE\"].count().to_frame()\n",
    "df_ethnien_gestorbene_counted.insert(loc=0, column=\"Ethnie\", value=df_ethnien_gestorbene_counted.index)\n",
    "df_ethnien_gestorbene_counted[\"percentage\"] = (df_ethnien_gestorbene_counted.RACE / df_ethnien_gestorbene_counted.RACE.sum()) * 100\n",
    "df_ethnien_gestorbene_counted.rename(columns = {'RACE':'Count'}, inplace = True)\n",
    "df_ethnien_gestorbene_counted =  df_ethnien_gestorbene_counted.reset_index(drop=True)\n",
    "df_ethnien_gestorbene_counted[\"percentage\"] = (df_ethnien_gestorbene_counted.Count / df_ethnien_gestorbene_counted.Count.sum()) * 100\n",
    "df_ethnien_gestorbene_counted"
   ]
  },
  {
   "cell_type": "code",
   "execution_count": 66,
   "metadata": {},
   "outputs": [
    {
     "data": {
      "image/png": "[encoded data removed]",
      "text/plain": [
       "<Figure size 1440x720 with 1 Axes>"
      ]
     },
     "metadata": {
      "needs_background": "light"
     },
     "output_type": "display_data"
    }
   ],
   "source": [
    "ax = sns.barplot(x=\"Ethnie\", y=\"percentage\", data=df_ethnien_gestorbene_counted)\n",
    "plt.gcf().set_size_inches(20, 10)"
   ]
  },
  {
   "cell_type": "markdown",
   "metadata": {},
   "source": [
    "Es lässt sich ablesen, die meisten gestorbenen Patienten aus der Gruppe (\"white, nonhispanic\") kommen. Dies ist nicht verwunderlich, da sie die größte Gruppe in unserem Datensatz sind. Auffällig ist, dass die Gruppe (\"black, nonhispanic\") bei den gestorbenen Patienten einen größeren Teil einnimmt (8,5%) als im Datensatz aller Patienten (5,9%) "
   ]
  },
  {
   "cell_type": "code",
   "execution_count": 67,
   "metadata": {},
   "outputs": [],
   "source": [
    "conn.close()\n",
    "logging.debug(\" \"+str(datetime.datetime.now()) + \" analyse.ipynb closed the connection to the database\")"
   ]
  }
 ],
 "metadata": {
  "kernelspec": {
   "display_name": "Python 3.8.9 ('venv')",
   "language": "python",
   "name": "python3"
  },
  "language_info": {
   "codemirror_mode": {
    "name": "ipython",
    "version": 3
   },
   "file_extension": ".py",
   "mimetype": "text/x-python",
   "name": "python",
   "nbconvert_exporter": "python",
   "pygments_lexer": "ipython3",
   "version": "3.8.9"
  },
  "orig_nbformat": 4,
  "vscode": {
   "interpreter": {
    "hash": "c64ab6fc84cf5ab2d160e3bdb6e01563d6d3a3e715bd4e213410aed41bd6871e"
   }
  }
 },
 "nbformat": 4,
 "nbformat_minor": 2
}
