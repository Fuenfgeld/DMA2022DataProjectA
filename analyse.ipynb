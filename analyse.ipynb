{
 "cells": [
  {
   "cell_type": "code",
   "execution_count": 1,
   "metadata": {},
   "outputs": [],
   "source": [
    "import sqlite3\n",
    "import pandas as pd\n",
    "import seaborn as sns\n",
    "import matplotlib as mpl\n",
    "import matplotlib.pyplot as plt"
   ]
  },
  {
   "cell_type": "code",
   "execution_count": 2,
   "metadata": {},
   "outputs": [
    {
     "name": "stdout",
     "output_type": "stream",
     "text": [
      "Opened database successfully\n"
     ]
    }
   ],
   "source": [
    "#connect to DB\n",
    "conn = sqlite3.connect('datawarehouse.db')\n",
    "cursor = conn.cursor()\n",
    "print(\"Opened database successfully\");"
   ]
  },
  {
   "cell_type": "markdown",
   "metadata": {},
   "source": [
    "# Analyse\n"
   ]
  },
  {
   "cell_type": "markdown",
   "metadata": {},
   "source": [
    "Um unsere Forschungsfrage durchzuführen wird in diesem Notebook die Analyse durchgeführt. Weitere Informationen über die Forschungsfrage und unsere Dokumentation ist in unserem [Wiki](https://github.com/Fuenfgeld/DMA2022DataProjectA/wiki) zu finden."
   ]
  },
  {
   "cell_type": "markdown",
   "metadata": {},
   "source": [
    "Die folgende Query liefert und alle Patienten, die gegen Influenza geimpft wurden. Die Impfung mit dem Code 140 ist die Influenzaimpfung in unserem Datensatz"
   ]
  },
  {
   "cell_type": "code",
   "execution_count": 3,
   "metadata": {},
   "outputs": [
    {
     "name": "stdout",
     "output_type": "stream",
     "text": [
      "                                 patient_ID  VALUE\n",
      "0      f0f3bc8d-ef38-49ce-a2bd-dfdda982b271    140\n",
      "1      067318a4-db8f-447f-8b6e-f2f61e9baaa5    140\n",
      "2      ae9efba3-ddc4-43f9-a781-f72019388548    140\n",
      "3      199c586f-af16-4091-9998-ee4cfc02ee7a    140\n",
      "4      f58bf921-cba1-475a-b4f8-dc6fa3b8f89c    140\n",
      "...                                     ...    ...\n",
      "10252  eec72396-d10e-4b8e-8fb6-25fc1e396031    140\n",
      "10253  3daf2b90-c439-469f-bb44-fb6109c6a8a7    140\n",
      "10254  cb03d88e-7f08-46a1-be78-70d9fe8262a7    140\n",
      "10255  435be43f-cb57-442f-aeb2-51018b030ed0    140\n",
      "10256  2712205f-755e-4897-acb3-926895b7d635    140\n",
      "\n",
      "[10257 rows x 2 columns]\n"
     ]
    }
   ],
   "source": [
    "print(pd.read_sql_query(\"SELECT DISTINCT patient_ID, VALUE FROM facts_table WHERE immunization_code is NOT NULL AND VALUE==140\", conn))"
   ]
  },
  {
   "cell_type": "markdown",
   "metadata": {},
   "source": [
    "Die folgende Query liefert und alle Patienten, die gegen Influenza geimpft wurden. Jeder Patient der als VALUE \"COVID-19\" hat, ist an Covid-19 gestorben. Nach unserer Definition gilt ein Verlauf als schwer, wenn der Patient stirbt."
   ]
  },
  {
   "cell_type": "code",
   "execution_count": 4,
   "metadata": {},
   "outputs": [
    {
     "name": "stdout",
     "output_type": "stream",
     "text": [
      "                               patient_ID     VALUE\n",
      "0    c70992c9-ff13-467b-9032-1901506edeef  COVID-19\n",
      "1    a5c39700-6bf3-4984-af46-31344695e21b  COVID-19\n",
      "2    edad31f3-5a08-4678-8d31-271a41a2aad5  COVID-19\n",
      "3    000e7adf-cbaa-4fad-ab2f-658c32f7d4d3  COVID-19\n",
      "4    ce718268-3e91-4d5d-98d0-508286f0eeb2  COVID-19\n",
      "..                                    ...       ...\n",
      "340  0e55ddcc-ada3-46bc-870b-b43e2e73443c  COVID-19\n",
      "341  8a56897f-4e14-4463-a534-77abcc6831bc  COVID-19\n",
      "342  429fb60f-de0d-4293-99d0-2fb6a6475782  COVID-19\n",
      "343  0a0ed3b8-75bf-4770-934d-74fac91bc4a8  COVID-19\n",
      "344  cc08ece6-5a10-454f-b1d8-830a4b02fd31  COVID-19\n",
      "\n",
      "[345 rows x 2 columns]\n"
     ]
    }
   ],
   "source": [
    "print(pd.read_sql_query(\"SELECT DISTINCT patient_ID, VALUE FROM facts_table WHERE observation_code is NOT NULL AND VALUE=='COVID-19'\", conn))"
   ]
  },
  {
   "cell_type": "code",
   "execution_count": 5,
   "metadata": {},
   "outputs": [],
   "source": [
    "#alle Patienten die Corona oder verdacht auf Corona haben\n",
    "#print(pd.read_sql_query(\"SELECT DISTINCT patient_ID, VALUE FROM facts_table WHERE condition_Id is NOT NULL AND (VALUE==840539006 OR VALUE==840544004)\", conn))\n"
   ]
  },
  {
   "cell_type": "code",
   "execution_count": 6,
   "metadata": {},
   "outputs": [],
   "source": [
    "#selbe wie drüber + Symptome, brauchen wir nicht mehr wenn wir schwerer verlauf als patient tot definieren\n",
    "#print(pd.read_sql_query(\"SELECT DISTINCT patient_ID, facts_table.VALUE, conditions.DESCRIPTION FROM facts_table LEFT JOIN conditions ON facts_table.patient_ID = conditions.PATIENT LEFT JOIN immunizations ON facts_table.patient_ID = immunizations.PATIENT LEFT JOIN observations ON facts_table.patient_ID = observations.PATIENT WHERE facts_table.condition_Id is NOT NULL AND (facts_table.VALUE==840539006 OR facts_table.VALUE==840544004) AND observations.VALUE=='COVID-19' AND immunizations.CODE==140\", conn))\n"
   ]
  },
  {
   "cell_type": "code",
   "execution_count": 7,
   "metadata": {},
   "outputs": [],
   "source": [
    "#df_nur_influenza_geimpfte = pd.read_sql_query(\"SELECT DISTINCT patient_ID, facts_table.VALUE, conditions.DESCRIPTION AS Condition_Description, immunizations.CODE, observations.DESCRIPTION AS Observation_Description FROM facts_table LEFT JOIN conditions ON facts_table.patient_ID = conditions.PATIENT LEFT JOIN immunizations ON facts_table.patient_ID = immunizations.PATIENT LEFT JOIN observations ON facts_table.patient_ID = observations.PATIENT WHERE facts_table.condition_Id is NOT NULL AND (facts_table.VALUE==840539006 OR facts_table.VALUE==840544004) AND immunizations.CODE==140\", conn)\n"
   ]
  },
  {
   "cell_type": "code",
   "execution_count": 8,
   "metadata": {},
   "outputs": [],
   "source": [
    "#df_nur_influenza_geimpfte"
   ]
  },
  {
   "cell_type": "markdown",
   "metadata": {},
   "source": [
    "### Wie viele gestorbene waren gegen Influenza geimpft?"
   ]
  },
  {
   "cell_type": "markdown",
   "metadata": {},
   "source": [
    "VALUE=840539006 und VALUE=840544004 bedeuten Suspected COVID-19 und COVID-19"
   ]
  },
  {
   "cell_type": "code",
   "execution_count": 9,
   "metadata": {},
   "outputs": [],
   "source": [
    "df_alle_patienten_infos = pd.read_sql_query(\"SELECT patient_ID, facts_table.VALUE, conditions.DESCRIPTION AS Condition_Description, immunizations.CODE, observations.DESCRIPTION AS Observation_Description FROM facts_table LEFT JOIN conditions ON facts_table.patient_ID = conditions.PATIENT LEFT JOIN immunizations ON facts_table.patient_ID = immunizations.PATIENT LEFT JOIN observations ON facts_table.patient_ID = observations.PATIENT WHERE facts_table.condition_Id is NOT NULL AND (facts_table.VALUE==840539006 OR facts_table.VALUE==840544004) AND observations.VALUE=='COVID-19'\", conn)"
   ]
  },
  {
   "cell_type": "markdown",
   "metadata": {},
   "source": [
    "Aufbau des Dataframes"
   ]
  },
  {
   "cell_type": "code",
   "execution_count": 10,
   "metadata": {},
   "outputs": [
    {
     "data": {
      "text/html": [
       "<div>\n",
       "<style scoped>\n",
       "    .dataframe tbody tr th:only-of-type {\n",
       "        vertical-align: middle;\n",
       "    }\n",
       "\n",
       "    .dataframe tbody tr th {\n",
       "        vertical-align: top;\n",
       "    }\n",
       "\n",
       "    .dataframe thead th {\n",
       "        text-align: right;\n",
       "    }\n",
       "</style>\n",
       "<table border=\"1\" class=\"dataframe\">\n",
       "  <thead>\n",
       "    <tr style=\"text-align: right;\">\n",
       "      <th></th>\n",
       "      <th>patient_ID</th>\n",
       "      <th>VALUE</th>\n",
       "      <th>Condition_Description</th>\n",
       "      <th>CODE</th>\n",
       "      <th>Observation_Description</th>\n",
       "    </tr>\n",
       "  </thead>\n",
       "  <tbody>\n",
       "    <tr>\n",
       "      <th>17519</th>\n",
       "      <td>cc08ece6-5a10-454f-b1d8-830a4b02fd31</td>\n",
       "      <td>840539006</td>\n",
       "      <td>Respiratory distress (finding)</td>\n",
       "      <td>140.0</td>\n",
       "      <td>Cause of Death [US Standard Certificate of Death]</td>\n",
       "    </tr>\n",
       "    <tr>\n",
       "      <th>17520</th>\n",
       "      <td>cc08ece6-5a10-454f-b1d8-830a4b02fd31</td>\n",
       "      <td>840539006</td>\n",
       "      <td>Sepsis caused by virus (disorder)</td>\n",
       "      <td>140.0</td>\n",
       "      <td>Cause of Death [US Standard Certificate of Death]</td>\n",
       "    </tr>\n",
       "    <tr>\n",
       "      <th>17521</th>\n",
       "      <td>cc08ece6-5a10-454f-b1d8-830a4b02fd31</td>\n",
       "      <td>840539006</td>\n",
       "      <td>Septic shock (disorder)</td>\n",
       "      <td>140.0</td>\n",
       "      <td>Cause of Death [US Standard Certificate of Death]</td>\n",
       "    </tr>\n",
       "    <tr>\n",
       "      <th>17522</th>\n",
       "      <td>cc08ece6-5a10-454f-b1d8-830a4b02fd31</td>\n",
       "      <td>840539006</td>\n",
       "      <td>Suspected COVID-19</td>\n",
       "      <td>140.0</td>\n",
       "      <td>Cause of Death [US Standard Certificate of Death]</td>\n",
       "    </tr>\n",
       "    <tr>\n",
       "      <th>17523</th>\n",
       "      <td>cc08ece6-5a10-454f-b1d8-830a4b02fd31</td>\n",
       "      <td>840539006</td>\n",
       "      <td>Viral sinusitis (disorder)</td>\n",
       "      <td>140.0</td>\n",
       "      <td>Cause of Death [US Standard Certificate of Death]</td>\n",
       "    </tr>\n",
       "  </tbody>\n",
       "</table>\n",
       "</div>"
      ],
      "text/plain": [
       "                                 patient_ID      VALUE  \\\n",
       "17519  cc08ece6-5a10-454f-b1d8-830a4b02fd31  840539006   \n",
       "17520  cc08ece6-5a10-454f-b1d8-830a4b02fd31  840539006   \n",
       "17521  cc08ece6-5a10-454f-b1d8-830a4b02fd31  840539006   \n",
       "17522  cc08ece6-5a10-454f-b1d8-830a4b02fd31  840539006   \n",
       "17523  cc08ece6-5a10-454f-b1d8-830a4b02fd31  840539006   \n",
       "\n",
       "                   Condition_Description   CODE  \\\n",
       "17519     Respiratory distress (finding)  140.0   \n",
       "17520  Sepsis caused by virus (disorder)  140.0   \n",
       "17521            Septic shock (disorder)  140.0   \n",
       "17522                 Suspected COVID-19  140.0   \n",
       "17523         Viral sinusitis (disorder)  140.0   \n",
       "\n",
       "                                 Observation_Description  \n",
       "17519  Cause of Death [US Standard Certificate of Death]  \n",
       "17520  Cause of Death [US Standard Certificate of Death]  \n",
       "17521  Cause of Death [US Standard Certificate of Death]  \n",
       "17522  Cause of Death [US Standard Certificate of Death]  \n",
       "17523  Cause of Death [US Standard Certificate of Death]  "
      ]
     },
     "execution_count": 10,
     "metadata": {},
     "output_type": "execute_result"
    }
   ],
   "source": [
    "df_alle_patienten_infos.tail()"
   ]
  },
  {
   "cell_type": "markdown",
   "metadata": {},
   "source": [
    "Hier werden alle gestorbenen Patienten durchsucht, haben sie eine Influenzaimpfung erhalten, werden sie mit TRUE markiert."
   ]
  },
  {
   "cell_type": "code",
   "execution_count": 11,
   "metadata": {},
   "outputs": [
    {
     "data": {
      "text/html": [
       "<div>\n",
       "<style scoped>\n",
       "    .dataframe tbody tr th:only-of-type {\n",
       "        vertical-align: middle;\n",
       "    }\n",
       "\n",
       "    .dataframe tbody tr th {\n",
       "        vertical-align: top;\n",
       "    }\n",
       "\n",
       "    .dataframe thead th {\n",
       "        text-align: right;\n",
       "    }\n",
       "</style>\n",
       "<table border=\"1\" class=\"dataframe\">\n",
       "  <thead>\n",
       "    <tr style=\"text-align: right;\">\n",
       "      <th></th>\n",
       "      <th>Patienten</th>\n",
       "      <th>Grippe Impfung</th>\n",
       "    </tr>\n",
       "  </thead>\n",
       "  <tbody>\n",
       "    <tr>\n",
       "      <th>0</th>\n",
       "      <td>c70992c9-ff13-467b-9032-1901506edeef</td>\n",
       "      <td>True</td>\n",
       "    </tr>\n",
       "    <tr>\n",
       "      <th>1</th>\n",
       "      <td>a5c39700-6bf3-4984-af46-31344695e21b</td>\n",
       "      <td>True</td>\n",
       "    </tr>\n",
       "    <tr>\n",
       "      <th>2</th>\n",
       "      <td>edad31f3-5a08-4678-8d31-271a41a2aad5</td>\n",
       "      <td>True</td>\n",
       "    </tr>\n",
       "    <tr>\n",
       "      <th>3</th>\n",
       "      <td>000e7adf-cbaa-4fad-ab2f-658c32f7d4d3</td>\n",
       "      <td>True</td>\n",
       "    </tr>\n",
       "    <tr>\n",
       "      <th>4</th>\n",
       "      <td>ce718268-3e91-4d5d-98d0-508286f0eeb2</td>\n",
       "      <td>True</td>\n",
       "    </tr>\n",
       "    <tr>\n",
       "      <th>...</th>\n",
       "      <td>...</td>\n",
       "      <td>...</td>\n",
       "    </tr>\n",
       "    <tr>\n",
       "      <th>340</th>\n",
       "      <td>0e55ddcc-ada3-46bc-870b-b43e2e73443c</td>\n",
       "      <td>False</td>\n",
       "    </tr>\n",
       "    <tr>\n",
       "      <th>341</th>\n",
       "      <td>8a56897f-4e14-4463-a534-77abcc6831bc</td>\n",
       "      <td>True</td>\n",
       "    </tr>\n",
       "    <tr>\n",
       "      <th>342</th>\n",
       "      <td>429fb60f-de0d-4293-99d0-2fb6a6475782</td>\n",
       "      <td>True</td>\n",
       "    </tr>\n",
       "    <tr>\n",
       "      <th>343</th>\n",
       "      <td>0a0ed3b8-75bf-4770-934d-74fac91bc4a8</td>\n",
       "      <td>True</td>\n",
       "    </tr>\n",
       "    <tr>\n",
       "      <th>344</th>\n",
       "      <td>cc08ece6-5a10-454f-b1d8-830a4b02fd31</td>\n",
       "      <td>True</td>\n",
       "    </tr>\n",
       "  </tbody>\n",
       "</table>\n",
       "<p>345 rows × 2 columns</p>\n",
       "</div>"
      ],
      "text/plain": [
       "                                Patienten  Grippe Impfung\n",
       "0    c70992c9-ff13-467b-9032-1901506edeef            True\n",
       "1    a5c39700-6bf3-4984-af46-31344695e21b            True\n",
       "2    edad31f3-5a08-4678-8d31-271a41a2aad5            True\n",
       "3    000e7adf-cbaa-4fad-ab2f-658c32f7d4d3            True\n",
       "4    ce718268-3e91-4d5d-98d0-508286f0eeb2            True\n",
       "..                                    ...             ...\n",
       "340  0e55ddcc-ada3-46bc-870b-b43e2e73443c           False\n",
       "341  8a56897f-4e14-4463-a534-77abcc6831bc            True\n",
       "342  429fb60f-de0d-4293-99d0-2fb6a6475782            True\n",
       "343  0a0ed3b8-75bf-4770-934d-74fac91bc4a8            True\n",
       "344  cc08ece6-5a10-454f-b1d8-830a4b02fd31            True\n",
       "\n",
       "[345 rows x 2 columns]"
      ]
     },
     "execution_count": 11,
     "metadata": {},
     "output_type": "execute_result"
    }
   ],
   "source": [
    "impfkandidat = []\n",
    "geimpfte_patienten_df = pd.DataFrame(columns=['Patienten', 'Grippe Impfung'])\n",
    "geimpfte_patienten_df.Patienten = df_alle_patienten_infos.patient_ID.unique()\n",
    "\n",
    "#Prüfung ob der Code 140 in den Daten enthalten ist, dieser gibt Aufschluss darauf ob die Patienten eine Grippeimpfung erhalten haben. \n",
    "for id in df_alle_patienten_infos.patient_ID.unique():\n",
    "    patient = df_alle_patienten_infos.loc[df_alle_patienten_infos.patient_ID == id]\n",
    "    exist = 140 in patient['CODE'].unique()\n",
    "    impfkandidat.append(exist)\n",
    "geimpfte_patienten_df['Grippe Impfung']= impfkandidat\n",
    "geimpfte_patienten_df"
   ]
  },
  {
   "cell_type": "code",
   "execution_count": 12,
   "metadata": {},
   "outputs": [
    {
     "data": {
      "text/plain": [
       "Text(0.5, 0, 'Influenza Impfung')"
      ]
     },
     "execution_count": 12,
     "metadata": {},
     "output_type": "execute_result"
    },
    {
     "data": {
      "image/png": "[encoded data removed]",
      "text/plain": [
       "<Figure size 1440x720 with 1 Axes>"
      ]
     },
     "metadata": {
      "needs_background": "light"
     },
     "output_type": "display_data"
    }
   ],
   "source": [
    "plt.gcf().set_size_inches(20, 10)\n",
    "countplot_gestorbene = sns.countplot(x=\"Grippe Impfung\", data=geimpfte_patienten_df)\n",
    "countplot_gestorbene.set_ylabel(\"Anzahl Gestorbene\")\n",
    "countplot_gestorbene.set_xlabel(\"Influenza Impfung\")"
   ]
  },
  {
   "cell_type": "code",
   "execution_count": 13,
   "metadata": {},
   "outputs": [],
   "source": [
    "conn.close()"
   ]
  }
 ],
 "metadata": {
  "kernelspec": {
   "display_name": "Python 3.8.9 ('venv')",
   "language": "python",
   "name": "python3"
  },
  "language_info": {
   "codemirror_mode": {
    "name": "ipython",
    "version": 3
   },
   "file_extension": ".py",
   "mimetype": "text/x-python",
   "name": "python",
   "nbconvert_exporter": "python",
   "pygments_lexer": "ipython3",
   "version": "3.8.9"
  },
  "orig_nbformat": 4,
  "vscode": {
   "interpreter": {
    "hash": "c64ab6fc84cf5ab2d160e3bdb6e01563d6d3a3e715bd4e213410aed41bd6871e"
   }
  }
 },
 "nbformat": 4,
 "nbformat_minor": 2
}
