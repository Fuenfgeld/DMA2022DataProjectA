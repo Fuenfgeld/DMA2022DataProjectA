{
 "cells": [
  {
   "cell_type": "code",
   "execution_count": 17,
   "metadata": {},
   "outputs": [],
   "source": [
    "import sqlite3\n",
    "import pandas as pd"
   ]
  },
  {
   "cell_type": "code",
   "execution_count": 18,
   "metadata": {},
   "outputs": [
    {
     "name": "stdout",
     "output_type": "stream",
     "text": [
      "Opened database successfully\n"
     ]
    }
   ],
   "source": [
    "#connect to DB\n",
    "conn = sqlite3.connect('datawarehouse.db')\n",
    "cursor = conn.cursor()\n",
    "print(\"Opened database successfully\");"
   ]
  },
  {
   "cell_type": "markdown",
   "metadata": {},
   "source": [
    "# Analyse\n"
   ]
  },
  {
   "cell_type": "markdown",
   "metadata": {},
   "source": [
    "Um unsere Forschungsfrage durchzuführen wird in diesem Notebook die Analyse durchgeführt. Weitere Informationen über die Forschungsfrage und unsere Dokumentation ist in unserem [Wiki](https://github.com/Fuenfgeld/DMA2022DataProjectA/wiki) zu finden."
   ]
  },
  {
   "cell_type": "markdown",
   "metadata": {},
   "source": [
    "Die folgende Query liefert und alle Patienten, die gegen Influenza geimpft wurden. Die Impfung mit dem Code 140 ist die Influenzaimpfung in unserem Datensatz"
   ]
  },
  {
   "cell_type": "code",
   "execution_count": 20,
   "metadata": {},
   "outputs": [
    {
     "name": "stdout",
     "output_type": "stream",
     "text": [
      "                                patient_ID  VALUE\n",
      "0     7f30313f-98e9-2cc2-68a5-6f9973f9ad5a    140\n",
      "1     2f114e21-8b95-e9eb-2e9e-4b950b059cfa    140\n",
      "2     f7dddcba-380e-7fd4-20b0-da086ce5dc3a    140\n",
      "3     ad5525c0-fdab-94dc-018f-d7209c72bdef    140\n",
      "4     2812f4fc-6aba-0033-728b-7e569bb8adcc    140\n",
      "...                                    ...    ...\n",
      "1045  edab2899-dac4-a19d-59e2-a9bea7b95cab    140\n",
      "1046  d1065043-2a5f-2d0e-1dd0-cb7f31e6d340    140\n",
      "1047  4c523ab1-3255-911a-7eef-3bc3e48b7b05    140\n",
      "1048  8d49cb05-b1c3-b8fe-dc75-e43ad861f074    140\n",
      "1049  fce5ed5c-e218-4839-a0c5-6ef906e5ae73    140\n",
      "\n",
      "[1050 rows x 2 columns]\n"
     ]
    }
   ],
   "source": [
    "print(pd.read_sql_query(\"SELECT DISTINCT patient_ID, VALUE FROM facts_table WHERE immunization_code is NOT NULL AND VALUE==140\", conn))"
   ]
  },
  {
   "cell_type": "markdown",
   "metadata": {},
   "source": [
    "Die folgende Query liefert und alle Patienten, die gegen Influenza geimpft wurden. Jeder Patient der als VALUE \"COVID-19\" hat, ist an Covid-19 gestorben. Nach unserer Definition gilt ein Verlauf als schwer, wenn der Patient stirbt."
   ]
  },
  {
   "cell_type": "code",
   "execution_count": 32,
   "metadata": {},
   "outputs": [
    {
     "name": "stdout",
     "output_type": "stream",
     "text": [
      "                              patient_ID     VALUE\n",
      "0   20604c29-ee90-6073-13f4-df3678392fc7  COVID-19\n",
      "1   bec7fd7c-d645-1450-f851-e21e07c2a442  COVID-19\n",
      "2   6a59c578-ebb4-e0bb-0b82-d5c57d5e9f2a  COVID-19\n",
      "3   d4ec20ef-1ed3-9d97-36c5-1216c4037f05  COVID-19\n",
      "4   adcc96d4-285a-e833-f968-13a940c78098  COVID-19\n",
      "5   cbcf9807-abfa-0ae8-7f3d-ac05fb0e61f5  COVID-19\n",
      "6   92df158a-bcb4-01af-1529-adf33db69253  COVID-19\n",
      "7   b228751b-8384-9070-a49c-faa67070f494  COVID-19\n",
      "8   63576001-7584-d85a-e056-475fe720a291  COVID-19\n",
      "9   69ba11d9-8061-f328-0733-ab332742c586  COVID-19\n",
      "10  68a2bbc6-3f56-081e-3fd5-cbd13248ed31  COVID-19\n",
      "11  b56193a1-5bfb-bb37-0886-9a02d10edd41  COVID-19\n",
      "12  cc43826f-49e1-1144-76d4-464f992c9dd0  COVID-19\n",
      "13  8a84c9b4-0ee2-8cd0-a78b-ed8e8d654467  COVID-19\n",
      "14  de5013bd-4eb1-8e08-e863-c0ee3a03d6ca  COVID-19\n",
      "15  15905260-4510-3a9a-53b3-88a440c2128d  COVID-19\n",
      "16  26d353df-e9af-35b0-b694-af604d610bd9  COVID-19\n",
      "17  212b3d3b-eb3c-cb51-b0fe-08554b71ac2a  COVID-19\n",
      "18  12f8384e-d49a-1343-2e3a-dc547629d770  COVID-19\n",
      "19  ac1c63de-5c72-a482-4d1a-3cea500dba3f  COVID-19\n",
      "20  3845c8f4-39c6-eeec-75e6-2780169f0aa3  COVID-19\n",
      "21  27d46fed-1591-5a1f-b92c-667e495e6b1c  COVID-19\n",
      "22  6008a677-9edd-5ffc-699f-c32a109ffabd  COVID-19\n",
      "23  8d49cb05-b1c3-b8fe-dc75-e43ad861f074  COVID-19\n"
     ]
    }
   ],
   "source": [
    "print(pd.read_sql_query(\"SELECT DISTINCT patient_ID, VALUE FROM facts_table WHERE observation_code is NOT NULL AND VALUE=='COVID-19'\", conn))"
   ]
  },
  {
   "cell_type": "code",
   "execution_count": 22,
   "metadata": {},
   "outputs": [
    {
     "name": "stdout",
     "output_type": "stream",
     "text": [
      "                                patient_ID      VALUE\n",
      "0     ad5525c0-fdab-94dc-018f-d7209c72bdef  840544004\n",
      "1     ad5525c0-fdab-94dc-018f-d7209c72bdef  840539006\n",
      "2     7f30313f-98e9-2cc2-68a5-6f9973f9ad5a  840544004\n",
      "3     7f30313f-98e9-2cc2-68a5-6f9973f9ad5a  840539006\n",
      "4     2812f4fc-6aba-0033-728b-7e569bb8adcc  840544004\n",
      "...                                    ...        ...\n",
      "1765  edab2899-dac4-a19d-59e2-a9bea7b95cab  840539006\n",
      "1766  4c523ab1-3255-911a-7eef-3bc3e48b7b05  840544004\n",
      "1767  4c523ab1-3255-911a-7eef-3bc3e48b7b05  840539006\n",
      "1768  8d49cb05-b1c3-b8fe-dc75-e43ad861f074  840544004\n",
      "1769  8d49cb05-b1c3-b8fe-dc75-e43ad861f074  840539006\n",
      "\n",
      "[1770 rows x 2 columns]\n"
     ]
    }
   ],
   "source": [
    "#alle Patienten die Corona oder verdacht auf Corona haben\n",
    "#print(pd.read_sql_query(\"SELECT DISTINCT patient_ID, VALUE FROM facts_table WHERE condition_Id is NOT NULL AND (VALUE==840539006 OR VALUE==840544004)\", conn))\n"
   ]
  },
  {
   "cell_type": "code",
   "execution_count": 23,
   "metadata": {},
   "outputs": [
    {
     "name": "stdout",
     "output_type": "stream",
     "text": [
      "                               patient_ID      VALUE  \\\n",
      "0    20604c29-ee90-6073-13f4-df3678392fc7  840544004   \n",
      "1    20604c29-ee90-6073-13f4-df3678392fc7  840544004   \n",
      "2    20604c29-ee90-6073-13f4-df3678392fc7  840544004   \n",
      "3    20604c29-ee90-6073-13f4-df3678392fc7  840544004   \n",
      "4    20604c29-ee90-6073-13f4-df3678392fc7  840544004   \n",
      "..                                    ...        ...   \n",
      "789  8d49cb05-b1c3-b8fe-dc75-e43ad861f074  840539006   \n",
      "790  8d49cb05-b1c3-b8fe-dc75-e43ad861f074  840539006   \n",
      "791  8d49cb05-b1c3-b8fe-dc75-e43ad861f074  840539006   \n",
      "792  8d49cb05-b1c3-b8fe-dc75-e43ad861f074  840539006   \n",
      "793  8d49cb05-b1c3-b8fe-dc75-e43ad861f074  840539006   \n",
      "\n",
      "                                        DESCRIPTION  \n",
      "0               Acute pulmonary embolism (disorder)  \n",
      "1    Acute respiratory distress syndrome (disorder)  \n",
      "2              Acute respiratory failure (disorder)  \n",
      "3           Bacterial infectious disease (disorder)  \n",
      "4                                          COVID-19  \n",
      "..                                              ...  \n",
      "789                  Respiratory distress (finding)  \n",
      "790               Sepsis caused by virus (disorder)  \n",
      "791                         Septic shock (disorder)  \n",
      "792                        Sputum finding (finding)  \n",
      "793                              Suspected COVID-19  \n",
      "\n",
      "[794 rows x 3 columns]\n"
     ]
    }
   ],
   "source": [
    "#selbe wie drüber + Symptome, brauchen wir nicht mehr wenn wir schwerer verlauf als patient tot definieren\n",
    "#print(pd.read_sql_query(\"SELECT DISTINCT patient_ID, facts_table.VALUE, conditions.DESCRIPTION FROM facts_table LEFT JOIN conditions ON facts_table.patient_ID = conditions.PATIENT LEFT JOIN immunizations ON facts_table.patient_ID = immunizations.PATIENT LEFT JOIN observations ON facts_table.patient_ID = observations.PATIENT WHERE facts_table.condition_Id is NOT NULL AND (facts_table.VALUE==840539006 OR facts_table.VALUE==840544004) AND observations.VALUE=='COVID-19' AND immunizations.CODE==140\", conn))\n"
   ]
  },
  {
   "cell_type": "code",
   "execution_count": 24,
   "metadata": {},
   "outputs": [],
   "source": [
    "#df_nur_influenza_geimpfte = pd.read_sql_query(\"SELECT DISTINCT patient_ID, facts_table.VALUE, conditions.DESCRIPTION AS Condition_Description, immunizations.CODE, observations.DESCRIPTION AS Observation_Description FROM facts_table LEFT JOIN conditions ON facts_table.patient_ID = conditions.PATIENT LEFT JOIN immunizations ON facts_table.patient_ID = immunizations.PATIENT LEFT JOIN observations ON facts_table.patient_ID = observations.PATIENT WHERE facts_table.condition_Id is NOT NULL AND (facts_table.VALUE==840539006 OR facts_table.VALUE==840544004) AND immunizations.CODE==140\", conn)\n"
   ]
  },
  {
   "cell_type": "code",
   "execution_count": 25,
   "metadata": {},
   "outputs": [
    {
     "data": {
      "text/html": [
       "<div>\n",
       "<style scoped>\n",
       "    .dataframe tbody tr th:only-of-type {\n",
       "        vertical-align: middle;\n",
       "    }\n",
       "\n",
       "    .dataframe tbody tr th {\n",
       "        vertical-align: top;\n",
       "    }\n",
       "\n",
       "    .dataframe thead th {\n",
       "        text-align: right;\n",
       "    }\n",
       "</style>\n",
       "<table border=\"1\" class=\"dataframe\">\n",
       "  <thead>\n",
       "    <tr style=\"text-align: right;\">\n",
       "      <th></th>\n",
       "      <th>patient_ID</th>\n",
       "      <th>VALUE</th>\n",
       "      <th>Condition_Description</th>\n",
       "      <th>CODE</th>\n",
       "      <th>Observation_Description</th>\n",
       "    </tr>\n",
       "  </thead>\n",
       "  <tbody>\n",
       "    <tr>\n",
       "      <th>0</th>\n",
       "      <td>7f30313f-98e9-2cc2-68a5-6f9973f9ad5a</td>\n",
       "      <td>840544004</td>\n",
       "      <td>COVID-19</td>\n",
       "      <td>140</td>\n",
       "      <td>Body Weight</td>\n",
       "    </tr>\n",
       "    <tr>\n",
       "      <th>1</th>\n",
       "      <td>7f30313f-98e9-2cc2-68a5-6f9973f9ad5a</td>\n",
       "      <td>840544004</td>\n",
       "      <td>COVID-19</td>\n",
       "      <td>140</td>\n",
       "      <td>Body temperature</td>\n",
       "    </tr>\n",
       "    <tr>\n",
       "      <th>2</th>\n",
       "      <td>7f30313f-98e9-2cc2-68a5-6f9973f9ad5a</td>\n",
       "      <td>840544004</td>\n",
       "      <td>COVID-19</td>\n",
       "      <td>140</td>\n",
       "      <td>DALY</td>\n",
       "    </tr>\n",
       "    <tr>\n",
       "      <th>3</th>\n",
       "      <td>7f30313f-98e9-2cc2-68a5-6f9973f9ad5a</td>\n",
       "      <td>840544004</td>\n",
       "      <td>COVID-19</td>\n",
       "      <td>140</td>\n",
       "      <td>Diastolic Blood Pressure</td>\n",
       "    </tr>\n",
       "    <tr>\n",
       "      <th>4</th>\n",
       "      <td>7f30313f-98e9-2cc2-68a5-6f9973f9ad5a</td>\n",
       "      <td>840544004</td>\n",
       "      <td>COVID-19</td>\n",
       "      <td>140</td>\n",
       "      <td>Heart rate</td>\n",
       "    </tr>\n",
       "    <tr>\n",
       "      <th>...</th>\n",
       "      <td>...</td>\n",
       "      <td>...</td>\n",
       "      <td>...</td>\n",
       "      <td>...</td>\n",
       "      <td>...</td>\n",
       "    </tr>\n",
       "    <tr>\n",
       "      <th>325412</th>\n",
       "      <td>8d49cb05-b1c3-b8fe-dc75-e43ad861f074</td>\n",
       "      <td>840539006</td>\n",
       "      <td>Suspected COVID-19</td>\n",
       "      <td>140</td>\n",
       "      <td>Sodium [Moles/volume] in Serum or Plasma</td>\n",
       "    </tr>\n",
       "    <tr>\n",
       "      <th>325413</th>\n",
       "      <td>8d49cb05-b1c3-b8fe-dc75-e43ad861f074</td>\n",
       "      <td>840539006</td>\n",
       "      <td>Suspected COVID-19</td>\n",
       "      <td>140</td>\n",
       "      <td>Systolic Blood Pressure</td>\n",
       "    </tr>\n",
       "    <tr>\n",
       "      <th>325414</th>\n",
       "      <td>8d49cb05-b1c3-b8fe-dc75-e43ad861f074</td>\n",
       "      <td>840539006</td>\n",
       "      <td>Suspected COVID-19</td>\n",
       "      <td>140</td>\n",
       "      <td>Troponin I.cardiac [Mass/volume] in Serum or P...</td>\n",
       "    </tr>\n",
       "    <tr>\n",
       "      <th>325415</th>\n",
       "      <td>8d49cb05-b1c3-b8fe-dc75-e43ad861f074</td>\n",
       "      <td>840539006</td>\n",
       "      <td>Suspected COVID-19</td>\n",
       "      <td>140</td>\n",
       "      <td>Urea nitrogen [Mass/volume] in Serum or Plasma</td>\n",
       "    </tr>\n",
       "    <tr>\n",
       "      <th>325416</th>\n",
       "      <td>8d49cb05-b1c3-b8fe-dc75-e43ad861f074</td>\n",
       "      <td>840539006</td>\n",
       "      <td>Suspected COVID-19</td>\n",
       "      <td>140</td>\n",
       "      <td>pH of Arterial blood</td>\n",
       "    </tr>\n",
       "  </tbody>\n",
       "</table>\n",
       "<p>325417 rows × 5 columns</p>\n",
       "</div>"
      ],
      "text/plain": [
       "                                  patient_ID      VALUE Condition_Description  \\\n",
       "0       7f30313f-98e9-2cc2-68a5-6f9973f9ad5a  840544004              COVID-19   \n",
       "1       7f30313f-98e9-2cc2-68a5-6f9973f9ad5a  840544004              COVID-19   \n",
       "2       7f30313f-98e9-2cc2-68a5-6f9973f9ad5a  840544004              COVID-19   \n",
       "3       7f30313f-98e9-2cc2-68a5-6f9973f9ad5a  840544004              COVID-19   \n",
       "4       7f30313f-98e9-2cc2-68a5-6f9973f9ad5a  840544004              COVID-19   \n",
       "...                                      ...        ...                   ...   \n",
       "325412  8d49cb05-b1c3-b8fe-dc75-e43ad861f074  840539006    Suspected COVID-19   \n",
       "325413  8d49cb05-b1c3-b8fe-dc75-e43ad861f074  840539006    Suspected COVID-19   \n",
       "325414  8d49cb05-b1c3-b8fe-dc75-e43ad861f074  840539006    Suspected COVID-19   \n",
       "325415  8d49cb05-b1c3-b8fe-dc75-e43ad861f074  840539006    Suspected COVID-19   \n",
       "325416  8d49cb05-b1c3-b8fe-dc75-e43ad861f074  840539006    Suspected COVID-19   \n",
       "\n",
       "        CODE                            Observation_Description  \n",
       "0        140                                        Body Weight  \n",
       "1        140                                   Body temperature  \n",
       "2        140                                               DALY  \n",
       "3        140                           Diastolic Blood Pressure  \n",
       "4        140                                         Heart rate  \n",
       "...      ...                                                ...  \n",
       "325412   140           Sodium [Moles/volume] in Serum or Plasma  \n",
       "325413   140                            Systolic Blood Pressure  \n",
       "325414   140  Troponin I.cardiac [Mass/volume] in Serum or P...  \n",
       "325415   140     Urea nitrogen [Mass/volume] in Serum or Plasma  \n",
       "325416   140                               pH of Arterial blood  \n",
       "\n",
       "[325417 rows x 5 columns]"
      ]
     },
     "execution_count": 25,
     "metadata": {},
     "output_type": "execute_result"
    }
   ],
   "source": [
    "#df_nur_influenza_geimpfte"
   ]
  },
  {
   "cell_type": "markdown",
   "metadata": {},
   "source": [
    "### Wie viele gestorbene waren gegen Influenza geimpft?"
   ]
  },
  {
   "cell_type": "markdown",
   "metadata": {},
   "source": [
    "VALUE=840539006 und VALUE=840544004 bedeuten Suspected COVID-19 und COVID-19"
   ]
  },
  {
   "cell_type": "code",
   "execution_count": 26,
   "metadata": {},
   "outputs": [],
   "source": [
    "df_alle_patienten_infos = pd.read_sql_query(\"SELECT patient_ID, facts_table.VALUE, conditions.DESCRIPTION AS Condition_Description, immunizations.CODE, observations.DESCRIPTION AS Observation_Description FROM facts_table LEFT JOIN conditions ON facts_table.patient_ID = conditions.PATIENT LEFT JOIN immunizations ON facts_table.patient_ID = immunizations.PATIENT LEFT JOIN observations ON facts_table.patient_ID = observations.PATIENT WHERE facts_table.condition_Id is NOT NULL AND (facts_table.VALUE==840539006 OR facts_table.VALUE==840544004) AND observations.VALUE=='COVID-19'\", conn)"
   ]
  },
  {
   "cell_type": "markdown",
   "metadata": {},
   "source": [
    "Aufbau des Dataframes"
   ]
  },
  {
   "cell_type": "code",
   "execution_count": 27,
   "metadata": {},
   "outputs": [
    {
     "data": {
      "text/html": [
       "<div>\n",
       "<style scoped>\n",
       "    .dataframe tbody tr th:only-of-type {\n",
       "        vertical-align: middle;\n",
       "    }\n",
       "\n",
       "    .dataframe tbody tr th {\n",
       "        vertical-align: top;\n",
       "    }\n",
       "\n",
       "    .dataframe thead th {\n",
       "        text-align: right;\n",
       "    }\n",
       "</style>\n",
       "<table border=\"1\" class=\"dataframe\">\n",
       "  <thead>\n",
       "    <tr style=\"text-align: right;\">\n",
       "      <th></th>\n",
       "      <th>patient_ID</th>\n",
       "      <th>VALUE</th>\n",
       "      <th>Condition_Description</th>\n",
       "      <th>CODE</th>\n",
       "      <th>Observation_Description</th>\n",
       "    </tr>\n",
       "  </thead>\n",
       "  <tbody>\n",
       "    <tr>\n",
       "      <th>8413</th>\n",
       "      <td>8d49cb05-b1c3-b8fe-dc75-e43ad861f074</td>\n",
       "      <td>840539006</td>\n",
       "      <td>Suspected COVID-19</td>\n",
       "      <td>140</td>\n",
       "      <td>Cause of Death [US Standard Certificate of Death]</td>\n",
       "    </tr>\n",
       "    <tr>\n",
       "      <th>8414</th>\n",
       "      <td>8d49cb05-b1c3-b8fe-dc75-e43ad861f074</td>\n",
       "      <td>840539006</td>\n",
       "      <td>Suspected COVID-19</td>\n",
       "      <td>140</td>\n",
       "      <td>Cause of Death [US Standard Certificate of Death]</td>\n",
       "    </tr>\n",
       "    <tr>\n",
       "      <th>8415</th>\n",
       "      <td>8d49cb05-b1c3-b8fe-dc75-e43ad861f074</td>\n",
       "      <td>840539006</td>\n",
       "      <td>Suspected COVID-19</td>\n",
       "      <td>140</td>\n",
       "      <td>Cause of Death [US Standard Certificate of Death]</td>\n",
       "    </tr>\n",
       "    <tr>\n",
       "      <th>8416</th>\n",
       "      <td>8d49cb05-b1c3-b8fe-dc75-e43ad861f074</td>\n",
       "      <td>840539006</td>\n",
       "      <td>Suspected COVID-19</td>\n",
       "      <td>140</td>\n",
       "      <td>Cause of Death [US Standard Certificate of Death]</td>\n",
       "    </tr>\n",
       "    <tr>\n",
       "      <th>8417</th>\n",
       "      <td>8d49cb05-b1c3-b8fe-dc75-e43ad861f074</td>\n",
       "      <td>840539006</td>\n",
       "      <td>Suspected COVID-19</td>\n",
       "      <td>140</td>\n",
       "      <td>Cause of Death [US Standard Certificate of Death]</td>\n",
       "    </tr>\n",
       "  </tbody>\n",
       "</table>\n",
       "</div>"
      ],
      "text/plain": [
       "                                patient_ID      VALUE Condition_Description  \\\n",
       "8413  8d49cb05-b1c3-b8fe-dc75-e43ad861f074  840539006    Suspected COVID-19   \n",
       "8414  8d49cb05-b1c3-b8fe-dc75-e43ad861f074  840539006    Suspected COVID-19   \n",
       "8415  8d49cb05-b1c3-b8fe-dc75-e43ad861f074  840539006    Suspected COVID-19   \n",
       "8416  8d49cb05-b1c3-b8fe-dc75-e43ad861f074  840539006    Suspected COVID-19   \n",
       "8417  8d49cb05-b1c3-b8fe-dc75-e43ad861f074  840539006    Suspected COVID-19   \n",
       "\n",
       "      CODE                            Observation_Description  \n",
       "8413   140  Cause of Death [US Standard Certificate of Death]  \n",
       "8414   140  Cause of Death [US Standard Certificate of Death]  \n",
       "8415   140  Cause of Death [US Standard Certificate of Death]  \n",
       "8416   140  Cause of Death [US Standard Certificate of Death]  \n",
       "8417   140  Cause of Death [US Standard Certificate of Death]  "
      ]
     },
     "execution_count": 27,
     "metadata": {},
     "output_type": "execute_result"
    }
   ],
   "source": [
    "df_alle_patienten_infos.tail()"
   ]
  },
  {
   "cell_type": "markdown",
   "metadata": {},
   "source": [
    "Hier werden alle gestorbenen Patienten durchsucht, haben sie eine Influenzaimpfung erhalten, werden sie mit TRUE markiert."
   ]
  },
  {
   "cell_type": "code",
   "execution_count": 28,
   "metadata": {},
   "outputs": [
    {
     "data": {
      "text/html": [
       "<div>\n",
       "<style scoped>\n",
       "    .dataframe tbody tr th:only-of-type {\n",
       "        vertical-align: middle;\n",
       "    }\n",
       "\n",
       "    .dataframe tbody tr th {\n",
       "        vertical-align: top;\n",
       "    }\n",
       "\n",
       "    .dataframe thead th {\n",
       "        text-align: right;\n",
       "    }\n",
       "</style>\n",
       "<table border=\"1\" class=\"dataframe\">\n",
       "  <thead>\n",
       "    <tr style=\"text-align: right;\">\n",
       "      <th></th>\n",
       "      <th>Patienten</th>\n",
       "      <th>Grippe Impfung</th>\n",
       "    </tr>\n",
       "  </thead>\n",
       "  <tbody>\n",
       "    <tr>\n",
       "      <th>0</th>\n",
       "      <td>20604c29-ee90-6073-13f4-df3678392fc7</td>\n",
       "      <td>True</td>\n",
       "    </tr>\n",
       "    <tr>\n",
       "      <th>1</th>\n",
       "      <td>bec7fd7c-d645-1450-f851-e21e07c2a442</td>\n",
       "      <td>True</td>\n",
       "    </tr>\n",
       "    <tr>\n",
       "      <th>2</th>\n",
       "      <td>6a59c578-ebb4-e0bb-0b82-d5c57d5e9f2a</td>\n",
       "      <td>True</td>\n",
       "    </tr>\n",
       "    <tr>\n",
       "      <th>3</th>\n",
       "      <td>d4ec20ef-1ed3-9d97-36c5-1216c4037f05</td>\n",
       "      <td>True</td>\n",
       "    </tr>\n",
       "    <tr>\n",
       "      <th>4</th>\n",
       "      <td>adcc96d4-285a-e833-f968-13a940c78098</td>\n",
       "      <td>True</td>\n",
       "    </tr>\n",
       "    <tr>\n",
       "      <th>5</th>\n",
       "      <td>cbcf9807-abfa-0ae8-7f3d-ac05fb0e61f5</td>\n",
       "      <td>True</td>\n",
       "    </tr>\n",
       "    <tr>\n",
       "      <th>6</th>\n",
       "      <td>92df158a-bcb4-01af-1529-adf33db69253</td>\n",
       "      <td>True</td>\n",
       "    </tr>\n",
       "    <tr>\n",
       "      <th>7</th>\n",
       "      <td>b228751b-8384-9070-a49c-faa67070f494</td>\n",
       "      <td>True</td>\n",
       "    </tr>\n",
       "    <tr>\n",
       "      <th>8</th>\n",
       "      <td>63576001-7584-d85a-e056-475fe720a291</td>\n",
       "      <td>True</td>\n",
       "    </tr>\n",
       "    <tr>\n",
       "      <th>9</th>\n",
       "      <td>69ba11d9-8061-f328-0733-ab332742c586</td>\n",
       "      <td>True</td>\n",
       "    </tr>\n",
       "    <tr>\n",
       "      <th>10</th>\n",
       "      <td>68a2bbc6-3f56-081e-3fd5-cbd13248ed31</td>\n",
       "      <td>True</td>\n",
       "    </tr>\n",
       "    <tr>\n",
       "      <th>11</th>\n",
       "      <td>b56193a1-5bfb-bb37-0886-9a02d10edd41</td>\n",
       "      <td>True</td>\n",
       "    </tr>\n",
       "    <tr>\n",
       "      <th>12</th>\n",
       "      <td>cc43826f-49e1-1144-76d4-464f992c9dd0</td>\n",
       "      <td>True</td>\n",
       "    </tr>\n",
       "    <tr>\n",
       "      <th>13</th>\n",
       "      <td>8a84c9b4-0ee2-8cd0-a78b-ed8e8d654467</td>\n",
       "      <td>True</td>\n",
       "    </tr>\n",
       "    <tr>\n",
       "      <th>14</th>\n",
       "      <td>de5013bd-4eb1-8e08-e863-c0ee3a03d6ca</td>\n",
       "      <td>True</td>\n",
       "    </tr>\n",
       "    <tr>\n",
       "      <th>15</th>\n",
       "      <td>15905260-4510-3a9a-53b3-88a440c2128d</td>\n",
       "      <td>True</td>\n",
       "    </tr>\n",
       "    <tr>\n",
       "      <th>16</th>\n",
       "      <td>26d353df-e9af-35b0-b694-af604d610bd9</td>\n",
       "      <td>True</td>\n",
       "    </tr>\n",
       "    <tr>\n",
       "      <th>17</th>\n",
       "      <td>212b3d3b-eb3c-cb51-b0fe-08554b71ac2a</td>\n",
       "      <td>True</td>\n",
       "    </tr>\n",
       "    <tr>\n",
       "      <th>18</th>\n",
       "      <td>12f8384e-d49a-1343-2e3a-dc547629d770</td>\n",
       "      <td>True</td>\n",
       "    </tr>\n",
       "    <tr>\n",
       "      <th>19</th>\n",
       "      <td>ac1c63de-5c72-a482-4d1a-3cea500dba3f</td>\n",
       "      <td>True</td>\n",
       "    </tr>\n",
       "    <tr>\n",
       "      <th>20</th>\n",
       "      <td>3845c8f4-39c6-eeec-75e6-2780169f0aa3</td>\n",
       "      <td>True</td>\n",
       "    </tr>\n",
       "    <tr>\n",
       "      <th>21</th>\n",
       "      <td>27d46fed-1591-5a1f-b92c-667e495e6b1c</td>\n",
       "      <td>True</td>\n",
       "    </tr>\n",
       "    <tr>\n",
       "      <th>22</th>\n",
       "      <td>6008a677-9edd-5ffc-699f-c32a109ffabd</td>\n",
       "      <td>True</td>\n",
       "    </tr>\n",
       "    <tr>\n",
       "      <th>23</th>\n",
       "      <td>8d49cb05-b1c3-b8fe-dc75-e43ad861f074</td>\n",
       "      <td>True</td>\n",
       "    </tr>\n",
       "  </tbody>\n",
       "</table>\n",
       "</div>"
      ],
      "text/plain": [
       "                               Patienten  Grippe Impfung\n",
       "0   20604c29-ee90-6073-13f4-df3678392fc7            True\n",
       "1   bec7fd7c-d645-1450-f851-e21e07c2a442            True\n",
       "2   6a59c578-ebb4-e0bb-0b82-d5c57d5e9f2a            True\n",
       "3   d4ec20ef-1ed3-9d97-36c5-1216c4037f05            True\n",
       "4   adcc96d4-285a-e833-f968-13a940c78098            True\n",
       "5   cbcf9807-abfa-0ae8-7f3d-ac05fb0e61f5            True\n",
       "6   92df158a-bcb4-01af-1529-adf33db69253            True\n",
       "7   b228751b-8384-9070-a49c-faa67070f494            True\n",
       "8   63576001-7584-d85a-e056-475fe720a291            True\n",
       "9   69ba11d9-8061-f328-0733-ab332742c586            True\n",
       "10  68a2bbc6-3f56-081e-3fd5-cbd13248ed31            True\n",
       "11  b56193a1-5bfb-bb37-0886-9a02d10edd41            True\n",
       "12  cc43826f-49e1-1144-76d4-464f992c9dd0            True\n",
       "13  8a84c9b4-0ee2-8cd0-a78b-ed8e8d654467            True\n",
       "14  de5013bd-4eb1-8e08-e863-c0ee3a03d6ca            True\n",
       "15  15905260-4510-3a9a-53b3-88a440c2128d            True\n",
       "16  26d353df-e9af-35b0-b694-af604d610bd9            True\n",
       "17  212b3d3b-eb3c-cb51-b0fe-08554b71ac2a            True\n",
       "18  12f8384e-d49a-1343-2e3a-dc547629d770            True\n",
       "19  ac1c63de-5c72-a482-4d1a-3cea500dba3f            True\n",
       "20  3845c8f4-39c6-eeec-75e6-2780169f0aa3            True\n",
       "21  27d46fed-1591-5a1f-b92c-667e495e6b1c            True\n",
       "22  6008a677-9edd-5ffc-699f-c32a109ffabd            True\n",
       "23  8d49cb05-b1c3-b8fe-dc75-e43ad861f074            True"
      ]
     },
     "execution_count": 28,
     "metadata": {},
     "output_type": "execute_result"
    }
   ],
   "source": [
    "impfkandidat = []\n",
    "geimpfte_patienten_df = pd.DataFrame(columns=['Patienten', 'Grippe Impfung'])\n",
    "geimpfte_patienten_df.Patienten = df_alle_patienten_infos.patient_ID.unique()\n",
    "\n",
    "#Prüfung ob der Code 140 in den Daten enthalten ist, dieser gibt Aufschluss darauf ob die Patienten eine Grippeimpfung erhalten haben. \n",
    "for id in df_alle_patienten_infos.patient_ID.unique():\n",
    "    patient = df_alle_patienten_infos.loc[df_alle_patienten_infos.patient_ID == id]\n",
    "    exist = 140 in patient['CODE'].unique()\n",
    "    impfkandidat.append(exist)\n",
    "geimpfte_patienten_df['Grippe Impfung']= impfkandidat\n",
    "geimpfte_patienten_df"
   ]
  },
  {
   "cell_type": "code",
   "execution_count": 29,
   "metadata": {},
   "outputs": [],
   "source": [
    "conn.close()"
   ]
  }
 ],
 "metadata": {
  "kernelspec": {
   "display_name": "Python 3.8.9 ('venv')",
   "language": "python",
   "name": "python3"
  },
  "language_info": {
   "codemirror_mode": {
    "name": "ipython",
    "version": 3
   },
   "file_extension": ".py",
   "mimetype": "text/x-python",
   "name": "python",
   "nbconvert_exporter": "python",
   "pygments_lexer": "ipython3",
   "version": "3.8.9"
  },
  "orig_nbformat": 4,
  "vscode": {
   "interpreter": {
    "hash": "c64ab6fc84cf5ab2d160e3bdb6e01563d6d3a3e715bd4e213410aed41bd6871e"
   }
  }
 },
 "nbformat": 4,
 "nbformat_minor": 2
}
